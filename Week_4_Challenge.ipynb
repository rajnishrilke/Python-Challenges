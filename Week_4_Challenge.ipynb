{
 "cells": [
  {
   "cell_type": "markdown",
   "id": "5f992e10",
   "metadata": {},
   "source": [
    "## Q1. A set contains names which begin either with A or with B. Write a program to separate the names into two sets, one containing names beginning with A and the other containing names beginning with B"
   ]
  },
  {
   "cell_type": "code",
   "execution_count": 14,
   "id": "d0382c7c",
   "metadata": {},
   "outputs": [
    {
     "name": "stdout",
     "output_type": "stream",
     "text": [
      "Set A contains name: {'ankit', 'anand', 'aman', 'achal'}\n",
      "Set A contains name: {'brajesh', 'bablu', 'brajkishore'}\n"
     ]
    }
   ],
   "source": [
    "names={'anand','brajesh','aman','ankit','achal','bablu','brajkishore'}\n",
    "a=set()\n",
    "b=set()\n",
    "for con in names:\n",
    "    if con.startswith('a'):\n",
    "        a.add(con)\n",
    "    else:\n",
    "        con.startswith('b')\n",
    "        b.add(con) \n",
    "        \n",
    "print('Set A contains name:',a)\n",
    "print('Set A contains name:',b)"
   ]
  },
  {
   "cell_type": "markdown",
   "id": "4c70c35d",
   "metadata": {},
   "source": [
    "## Q2. Create a list of tuples. Each tuple should contain an item and its price in float. Write a program to print each item and its price in a proper format"
   ]
  },
  {
   "cell_type": "code",
   "execution_count": 24,
   "id": "41e05ad7",
   "metadata": {},
   "outputs": [
    {
     "name": "stdout",
     "output_type": "stream",
     "text": [
      "{'c': '165.50', 'c++': '175.65', 'Java': '230.25', 'Python': '285.50'}\n"
     ]
    }
   ],
   "source": [
    "list_tup=[('c','165.50'),('c++','175.65'),('Java','230.25'),('Python','285.50')]\n",
    "item_price={}\n",
    "for item,price in list_tup:\n",
    "    item_price[item]=item_price.get(item,format(price))\n",
    "print(item_price)"
   ]
  },
  {
   "cell_type": "markdown",
   "id": "3d08334b",
   "metadata": {},
   "source": [
    "## Q3. Write a program that reads integers from the user and stores them in a list. Your program should continue reading values until the user enters 0. Then it should display all of the values entered by the user (except for the 0) in order from smallest to largest, with one value appearing on each line. Use either the sort method or the sorted function to sort the list."
   ]
  },
  {
   "cell_type": "code",
   "execution_count": 44,
   "id": "28eabaf2",
   "metadata": {},
   "outputs": [
    {
     "name": "stdout",
     "output_type": "stream",
     "text": [
      "Enter integer values:\n",
      "4\n",
      "5\n",
      "9\n",
      "7\n",
      "1\n",
      "0\n",
      "Sorted Value is:\n",
      "1\n",
      "4\n",
      "5\n",
      "7\n",
      "9\n"
     ]
    }
   ],
   "source": [
    "print('Enter integer values:')\n",
    "l1 = list()\n",
    "while (1):\n",
    "    val = int(input())\n",
    "    if val != 0:\n",
    "        l1.append(val)\n",
    "    else:\n",
    "        l1.sort()\n",
    "        print('Sorted Value is:')\n",
    "        for i in l1:\n",
    "            print(i)\n",
    "        break"
   ]
  },
  {
   "cell_type": "markdown",
   "id": "80da187f",
   "metadata": {},
   "source": [
    "## Q4. Write a program to read a list of numbers from the user and remove the two largest and two smallest values from it. Display the list with the values removed, followed by the original list. Your program should generate an appropriate error message if the user enters less than 5 values."
   ]
  },
  {
   "cell_type": "code",
   "execution_count": 51,
   "id": "bd97df0a",
   "metadata": {},
   "outputs": [
    {
     "name": "stdout",
     "output_type": "stream",
     "text": [
      "Enter numbers separated by spaces:12 4 5 7 11 2 1 9 7\n",
      "[4, 5, 7, 9, 7]\n",
      "[12, 4, 5, 7, 11, 2, 1, 9, 7]\n"
     ]
    }
   ],
   "source": [
    "str_n=input(\"Enter numbers separated by spaces:\")\n",
    "number_str = str_n.split()\n",
    "num=[]\n",
    "ret=[]\n",
    "if len(number_str)>4:\n",
    "    for s in number_str:\n",
    "        num.append(int(s))\n",
    "    ret=num.copy()\n",
    "    del_list=num.copy()\n",
    "    del_list.sort()\n",
    "    for s in del_list[0:2]+del_list[-2:]:\n",
    "        ret.remove(s)\n",
    "    print(ret)\n",
    "    print(num)\n",
    "else:\n",
    "    print(\"You entered less than five values!\")"
   ]
  },
  {
   "cell_type": "markdown",
   "id": "d9efe5be",
   "metadata": {},
   "source": [
    "## Q5. In this exercise, you will create a program that reads words from the user until the user enters a blank line. After the user enters a blank line your program should display each word entered by the user exactly once."
   ]
  },
  {
   "cell_type": "code",
   "execution_count": 54,
   "id": "52d4a903",
   "metadata": {},
   "outputs": [
    {
     "name": "stdout",
     "output_type": "stream",
     "text": [
      "I am 25 Years old.\n",
      " And,I have done BCA in 2020.\n",
      "And, I have 1.6 years of experience.\n",
      "\n",
      "I AM 25 YEARS OLD.\n",
      " AND,I HAVE DONE BCA IN 2020.\n",
      "AND, I HAVE 1.6 YEARS OF EXPERIENCE.\n"
     ]
    }
   ],
   "source": [
    "lines = []\n",
    "while (1):\n",
    "    val = input()\n",
    "    if val:\n",
    "        lines.append(val.upper())\n",
    "    else:\n",
    "        break;\n",
    "\n",
    "for val in lines:\n",
    "    print(val)"
   ]
  },
  {
   "cell_type": "markdown",
   "id": "01a6bf6b",
   "metadata": {},
   "source": [
    "## Q6. Write a program that reads numbers from the user until a 0 is entered. Your program should display the average of all of the values entered by the user. Then the program should display all of the below average values, followed by all of the average values (if any), followed by all of the above average values. An appropriate label should be displayed before each list of values."
   ]
  },
  {
   "cell_type": "code",
   "execution_count": 56,
   "id": "2fae31bc",
   "metadata": {},
   "outputs": [
    {
     "name": "stdout",
     "output_type": "stream",
     "text": [
      "4\n",
      "8\n",
      "9\n",
      "0\n",
      "Average= 7.0\n"
     ]
    }
   ],
   "source": [
    "l=[]\n",
    "while(1):\n",
    "    val=int(input())\n",
    "    if val != 0:\n",
    "        l.append(val)\n",
    "    else:\n",
    "        avg=sum(l)/len(l)\n",
    "        print('Average=',avg)\n",
    "        break"
   ]
  },
  {
   "cell_type": "markdown",
   "id": "30f2680f",
   "metadata": {},
   "source": [
    "## Q7. Create a program that determines and displays the number of unique characters in a string entered by the user. For example, Hello World! has 9 unique characters while zzz has only one unique character. Use a dictionary to solve this problem."
   ]
  },
  {
   "cell_type": "code",
   "execution_count": 64,
   "id": "937d848c",
   "metadata": {},
   "outputs": [
    {
     "name": "stdout",
     "output_type": "stream",
     "text": [
      "Enter a  string:Hello World!\n",
      "The numbers of unique character in string: 9\n"
     ]
    }
   ],
   "source": [
    "'''text=input('Enter a string as a text:')\n",
    "str=set(text)\n",
    "print('The numbers of unique character in text:',len(str))'''\n",
    "\n",
    "s= input('Enter a  string:')\n",
    "char={}\n",
    "for ch in s:\n",
    "    char[ch]=1\n",
    "print ('The numbers of unique character in string:',len (char),)"
   ]
  },
  {
   "cell_type": "markdown",
   "id": "6afa349b",
   "metadata": {},
   "source": [
    "## Q8. Two words are anagrams if they contain all of the same letters, but in a different order. For example, “evil” and “live” are anagrams because each contains one e, one i, one l, and one v. Create a program that reads two strings from the user, determines whether or not they are anagrams, and reports the result."
   ]
  },
  {
   "cell_type": "code",
   "execution_count": 78,
   "id": "1b8f5164",
   "metadata": {},
   "outputs": [
    {
     "name": "stdout",
     "output_type": "stream",
     "text": [
      "Please input the first string :evil\n",
      "Please input the 2nd string :live\n",
      "These strings are anagrams.\n"
     ]
    }
   ],
   "source": [
    "str1 = input(\"Please input the first string :\")\n",
    "str2 = input(\"Please input the 2nd string :\")\n",
    "count1={}\n",
    "count2={}\n",
    "for ch in str1:\n",
    "    if ch in count1:\n",
    "         count1[ch]=count1[ch]+1\n",
    "    else :\n",
    "         count1[ch] = 1\n",
    "   # break\n",
    "for ch in str2:\n",
    "    if ch in count2:\n",
    "         count2[ch]=count2[ch]+1\n",
    "    else :\n",
    "         count2[ch] = 1\n",
    "   # break\n",
    "if count1==count2:\n",
    "    print (\"These strings are anagrams.\")\n",
    "else :\n",
    "    print (\"These trings are not anagrams.\")"
   ]
  },
  {
   "cell_type": "markdown",
   "id": "e698d934",
   "metadata": {},
   "source": [
    "## Q9. An integer, n, is said to be perfect when the sum of all of the proper divisors of n is equal to n. For example, 28 is a perfect number because its proper divisors are 1, 2, 4, 7 and 14, and 1 + 2 + 4 + 7 + 14 = 28. Write a program that determines whether or not a positive integer is perfect. Your program will accept a number from the user. If that number is a perfect number then your program will display true. Otherwise it will display false."
   ]
  },
  {
   "cell_type": "code",
   "execution_count": 89,
   "id": "a8b88d47",
   "metadata": {},
   "outputs": [
    {
     "name": "stdout",
     "output_type": "stream",
     "text": [
      "Enter any number:28\n",
      "This is perfect number\n"
     ]
    }
   ],
   "source": [
    "num=int(input(\"Enter any number:\"))\n",
    "sum = 0\n",
    "for a in range(1,num):\n",
    "        if num%a==0:\n",
    "            sum+=a\n",
    "if sum==num :\n",
    "    print(\"This is perfect number\")\n",
    "else:\n",
    "    print(\"This is not perfect number\")"
   ]
  },
  {
   "cell_type": "markdown",
   "id": "121b3874",
   "metadata": {},
   "source": [
    "## Q10. Write a program that finds all of the keys in a dictionary that map to a specific value. The program will take the value to search for as its input. It will display a (possibly empty) list of keys from the dictionary that map to the provided value."
   ]
  },
  {
   "cell_type": "code",
   "execution_count": 95,
   "id": "cd96e83d",
   "metadata": {},
   "outputs": [
    {
     "name": "stdout",
     "output_type": "stream",
     "text": [
      "dict_keys(['name', 'age', 'salary'])\n"
     ]
    }
   ],
   "source": [
    "employee = {'name': 'Raj', 'age': 22, 'salary': 25000.0}\n",
    "dictionaryKeys = employee.keys()\n",
    "print(dictionaryKeys)\n",
    "\n",
    "dic={'mango':'yellow','grapes':'green','banana':'yellow','apple':'red','dragon':'pink'}\n",
    "value=input('Enter the string value: ')\n",
    "for i in d:\n",
    "    if d[i]==value:\n",
    "        print('The key for ',value,'is',i)"
   ]
  },
  {
   "cell_type": "code",
   "execution_count": null,
   "id": "e51c23bf",
   "metadata": {},
   "outputs": [],
   "source": []
  }
 ],
 "metadata": {
  "kernelspec": {
   "display_name": "Python 3 (ipykernel)",
   "language": "python",
   "name": "python3"
  },
  "language_info": {
   "codemirror_mode": {
    "name": "ipython",
    "version": 3
   },
   "file_extension": ".py",
   "mimetype": "text/x-python",
   "name": "python",
   "nbconvert_exporter": "python",
   "pygments_lexer": "ipython3",
   "version": "3.9.12"
  }
 },
 "nbformat": 4,
 "nbformat_minor": 5
}
