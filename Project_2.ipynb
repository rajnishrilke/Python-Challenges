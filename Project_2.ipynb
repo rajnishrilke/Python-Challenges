{
 "cells": [
  {
   "cell_type": "markdown",
   "id": "fb209ea3",
   "metadata": {},
   "source": [
    "## EDA on Vehicle Insurance Customer Data"
   ]
  },
  {
   "cell_type": "code",
   "execution_count": 5,
   "id": "408cb20a",
   "metadata": {},
   "outputs": [],
   "source": [
    "import numpy as np\n",
    "import pandas as pd\n",
    "from matplotlib import pyplot as plt\n",
    "import seaborn as sns"
   ]
  },
  {
   "cell_type": "code",
   "execution_count": 6,
   "id": "6706b4f3",
   "metadata": {},
   "outputs": [],
   "source": [
    "# Loading the data files\n",
    "customerDetails=pd.read_csv('customer_details.csv')\n",
    "customerPolDetails=pd.read_csv('customer_policy_details.csv')"
   ]
  },
  {
   "cell_type": "markdown",
   "id": "e2244a8f",
   "metadata": {},
   "source": [
    "### Column Name for customer details table:\n",
    "\n",
    " ####          customer_id, \n",
    "\n",
    " ####            Gender,\n",
    "\n",
    "  ####           age, \n",
    "    \n",
    "  ####           driving licence present,\n",
    "\n",
    "  ####           region code, \n",
    "\n",
    " ####            previously insured, \n",
    "\n",
    " ####            vehicle age \n",
    "\n",
    " ####            and vehicle damage, in respective order. "
   ]
  },
  {
   "cell_type": "code",
   "execution_count": 7,
   "id": "8c484fbc",
   "metadata": {},
   "outputs": [
    {
     "data": {
      "text/plain": [
       "Index(['0', '1', '2', '3', '4', '5', '6', '7'], dtype='object')"
      ]
     },
     "execution_count": 7,
     "metadata": {},
     "output_type": "execute_result"
    }
   ],
   "source": [
    "customerDetails.columns"
   ]
  },
  {
   "cell_type": "code",
   "execution_count": 8,
   "id": "93f6f0e9",
   "metadata": {},
   "outputs": [
    {
     "data": {
      "text/html": [
       "<div>\n",
       "<style scoped>\n",
       "    .dataframe tbody tr th:only-of-type {\n",
       "        vertical-align: middle;\n",
       "    }\n",
       "\n",
       "    .dataframe tbody tr th {\n",
       "        vertical-align: top;\n",
       "    }\n",
       "\n",
       "    .dataframe thead th {\n",
       "        text-align: right;\n",
       "    }\n",
       "</style>\n",
       "<table border=\"1\" class=\"dataframe\">\n",
       "  <thead>\n",
       "    <tr style=\"text-align: right;\">\n",
       "      <th></th>\n",
       "      <th>customer_id</th>\n",
       "      <th>Gender</th>\n",
       "      <th>age</th>\n",
       "      <th>driving licence present</th>\n",
       "      <th>region code</th>\n",
       "      <th>previously insured</th>\n",
       "      <th>vehicle age</th>\n",
       "      <th>vehicle damage</th>\n",
       "    </tr>\n",
       "  </thead>\n",
       "  <tbody>\n",
       "    <tr>\n",
       "      <th>0</th>\n",
       "      <td>1.0</td>\n",
       "      <td>Male</td>\n",
       "      <td>44.0</td>\n",
       "      <td>1.0</td>\n",
       "      <td>28.0</td>\n",
       "      <td>0.0</td>\n",
       "      <td>&gt; 2 Years</td>\n",
       "      <td>Yes</td>\n",
       "    </tr>\n",
       "    <tr>\n",
       "      <th>1</th>\n",
       "      <td>2.0</td>\n",
       "      <td>Male</td>\n",
       "      <td>76.0</td>\n",
       "      <td>1.0</td>\n",
       "      <td>3.0</td>\n",
       "      <td>0.0</td>\n",
       "      <td>1-2 Year</td>\n",
       "      <td>No</td>\n",
       "    </tr>\n",
       "    <tr>\n",
       "      <th>2</th>\n",
       "      <td>3.0</td>\n",
       "      <td>Male</td>\n",
       "      <td>47.0</td>\n",
       "      <td>1.0</td>\n",
       "      <td>28.0</td>\n",
       "      <td>0.0</td>\n",
       "      <td>&gt; 2 Years</td>\n",
       "      <td>Yes</td>\n",
       "    </tr>\n",
       "    <tr>\n",
       "      <th>3</th>\n",
       "      <td>4.0</td>\n",
       "      <td>Male</td>\n",
       "      <td>21.0</td>\n",
       "      <td>1.0</td>\n",
       "      <td>11.0</td>\n",
       "      <td>1.0</td>\n",
       "      <td>&lt; 1 Year</td>\n",
       "      <td>No</td>\n",
       "    </tr>\n",
       "    <tr>\n",
       "      <th>4</th>\n",
       "      <td>5.0</td>\n",
       "      <td>Female</td>\n",
       "      <td>29.0</td>\n",
       "      <td>1.0</td>\n",
       "      <td>41.0</td>\n",
       "      <td>1.0</td>\n",
       "      <td>&lt; 1 Year</td>\n",
       "      <td>No</td>\n",
       "    </tr>\n",
       "    <tr>\n",
       "      <th>...</th>\n",
       "      <td>...</td>\n",
       "      <td>...</td>\n",
       "      <td>...</td>\n",
       "      <td>...</td>\n",
       "      <td>...</td>\n",
       "      <td>...</td>\n",
       "      <td>...</td>\n",
       "      <td>...</td>\n",
       "    </tr>\n",
       "    <tr>\n",
       "      <th>381104</th>\n",
       "      <td>381105.0</td>\n",
       "      <td>Male</td>\n",
       "      <td>74.0</td>\n",
       "      <td>1.0</td>\n",
       "      <td>26.0</td>\n",
       "      <td>1.0</td>\n",
       "      <td>1-2 Year</td>\n",
       "      <td>No</td>\n",
       "    </tr>\n",
       "    <tr>\n",
       "      <th>381105</th>\n",
       "      <td>381106.0</td>\n",
       "      <td>Male</td>\n",
       "      <td>30.0</td>\n",
       "      <td>1.0</td>\n",
       "      <td>37.0</td>\n",
       "      <td>1.0</td>\n",
       "      <td>&lt; 1 Year</td>\n",
       "      <td>No</td>\n",
       "    </tr>\n",
       "    <tr>\n",
       "      <th>381106</th>\n",
       "      <td>381107.0</td>\n",
       "      <td>Male</td>\n",
       "      <td>21.0</td>\n",
       "      <td>1.0</td>\n",
       "      <td>30.0</td>\n",
       "      <td>1.0</td>\n",
       "      <td>&lt; 1 Year</td>\n",
       "      <td>No</td>\n",
       "    </tr>\n",
       "    <tr>\n",
       "      <th>381107</th>\n",
       "      <td>381108.0</td>\n",
       "      <td>Female</td>\n",
       "      <td>68.0</td>\n",
       "      <td>1.0</td>\n",
       "      <td>14.0</td>\n",
       "      <td>0.0</td>\n",
       "      <td>&gt; 2 Years</td>\n",
       "      <td>Yes</td>\n",
       "    </tr>\n",
       "    <tr>\n",
       "      <th>381108</th>\n",
       "      <td>381109.0</td>\n",
       "      <td>Male</td>\n",
       "      <td>46.0</td>\n",
       "      <td>1.0</td>\n",
       "      <td>29.0</td>\n",
       "      <td>0.0</td>\n",
       "      <td>1-2 Year</td>\n",
       "      <td>No</td>\n",
       "    </tr>\n",
       "  </tbody>\n",
       "</table>\n",
       "<p>381109 rows × 8 columns</p>\n",
       "</div>"
      ],
      "text/plain": [
       "        customer_id  Gender   age  driving licence present  region code  \\\n",
       "0               1.0    Male  44.0                      1.0         28.0   \n",
       "1               2.0    Male  76.0                      1.0          3.0   \n",
       "2               3.0    Male  47.0                      1.0         28.0   \n",
       "3               4.0    Male  21.0                      1.0         11.0   \n",
       "4               5.0  Female  29.0                      1.0         41.0   \n",
       "...             ...     ...   ...                      ...          ...   \n",
       "381104     381105.0    Male  74.0                      1.0         26.0   \n",
       "381105     381106.0    Male  30.0                      1.0         37.0   \n",
       "381106     381107.0    Male  21.0                      1.0         30.0   \n",
       "381107     381108.0  Female  68.0                      1.0         14.0   \n",
       "381108     381109.0    Male  46.0                      1.0         29.0   \n",
       "\n",
       "        previously insured vehicle age vehicle damage  \n",
       "0                      0.0   > 2 Years            Yes  \n",
       "1                      0.0    1-2 Year             No  \n",
       "2                      0.0   > 2 Years            Yes  \n",
       "3                      1.0    < 1 Year             No  \n",
       "4                      1.0    < 1 Year             No  \n",
       "...                    ...         ...            ...  \n",
       "381104                 1.0    1-2 Year             No  \n",
       "381105                 1.0    < 1 Year             No  \n",
       "381106                 1.0    < 1 Year             No  \n",
       "381107                 0.0   > 2 Years            Yes  \n",
       "381108                 0.0    1-2 Year             No  \n",
       "\n",
       "[381109 rows x 8 columns]"
      ]
     },
     "execution_count": 8,
     "metadata": {},
     "output_type": "execute_result"
    }
   ],
   "source": [
    "customerDetails.rename(columns={'0':'customer_id','1':'Gender','2':'age','3':'driving licence present','4':'region code','5':'previously insured','6':'vehicle age','7':'vehicle damage'})"
   ]
  },
  {
   "cell_type": "code",
   "execution_count": 9,
   "id": "f72a82a8",
   "metadata": {},
   "outputs": [],
   "source": [
    "customerDetails=customerDetails.rename(columns={'0':'customer_id','1':'Gender','2':'age','3':'driving licence present','4':'region code','5':'previously insured','6':'vehicle age','7':'vehicle damage'})"
   ]
  },
  {
   "cell_type": "code",
   "execution_count": 10,
   "id": "d56e993f",
   "metadata": {},
   "outputs": [
    {
     "data": {
      "text/plain": [
       "Index(['customer_id', 'Gender', 'age', 'driving licence present',\n",
       "       'region code', 'previously insured', 'vehicle age', 'vehicle damage'],\n",
       "      dtype='object')"
      ]
     },
     "execution_count": 10,
     "metadata": {},
     "output_type": "execute_result"
    }
   ],
   "source": [
    "customerDetails.columns"
   ]
  },
  {
   "cell_type": "markdown",
   "id": "0ba93a4c",
   "metadata": {},
   "source": [
    "### Column Name for customer_policy table:\n",
    "####            customer_id, \n",
    "\n",
    " ####             annual premium (in Rs), \n",
    " \n",
    " ####            sales channel code, \n",
    "\n",
    " ####            vintage and response. "
   ]
  },
  {
   "cell_type": "code",
   "execution_count": 11,
   "id": "28452fe0",
   "metadata": {},
   "outputs": [
    {
     "data": {
      "text/plain": [
       "Index(['0', '1', '2', '3', '4'], dtype='object')"
      ]
     },
     "execution_count": 11,
     "metadata": {},
     "output_type": "execute_result"
    }
   ],
   "source": [
    "customerPolDetails.columns"
   ]
  },
  {
   "cell_type": "code",
   "execution_count": 12,
   "id": "6451dd13",
   "metadata": {},
   "outputs": [
    {
     "data": {
      "text/html": [
       "<div>\n",
       "<style scoped>\n",
       "    .dataframe tbody tr th:only-of-type {\n",
       "        vertical-align: middle;\n",
       "    }\n",
       "\n",
       "    .dataframe tbody tr th {\n",
       "        vertical-align: top;\n",
       "    }\n",
       "\n",
       "    .dataframe thead th {\n",
       "        text-align: right;\n",
       "    }\n",
       "</style>\n",
       "<table border=\"1\" class=\"dataframe\">\n",
       "  <thead>\n",
       "    <tr style=\"text-align: right;\">\n",
       "      <th></th>\n",
       "      <th>customer_id</th>\n",
       "      <th>annual premium (in Rs)</th>\n",
       "      <th>sales channel code</th>\n",
       "      <th>vintage</th>\n",
       "      <th>response</th>\n",
       "    </tr>\n",
       "  </thead>\n",
       "  <tbody>\n",
       "    <tr>\n",
       "      <th>0</th>\n",
       "      <td>1.0</td>\n",
       "      <td>40454.0</td>\n",
       "      <td>26.0</td>\n",
       "      <td>217.0</td>\n",
       "      <td>1.0</td>\n",
       "    </tr>\n",
       "    <tr>\n",
       "      <th>1</th>\n",
       "      <td>2.0</td>\n",
       "      <td>33536.0</td>\n",
       "      <td>26.0</td>\n",
       "      <td>183.0</td>\n",
       "      <td>0.0</td>\n",
       "    </tr>\n",
       "    <tr>\n",
       "      <th>2</th>\n",
       "      <td>3.0</td>\n",
       "      <td>38294.0</td>\n",
       "      <td>26.0</td>\n",
       "      <td>27.0</td>\n",
       "      <td>1.0</td>\n",
       "    </tr>\n",
       "    <tr>\n",
       "      <th>3</th>\n",
       "      <td>4.0</td>\n",
       "      <td>28619.0</td>\n",
       "      <td>152.0</td>\n",
       "      <td>203.0</td>\n",
       "      <td>0.0</td>\n",
       "    </tr>\n",
       "    <tr>\n",
       "      <th>4</th>\n",
       "      <td>5.0</td>\n",
       "      <td>27496.0</td>\n",
       "      <td>152.0</td>\n",
       "      <td>39.0</td>\n",
       "      <td>0.0</td>\n",
       "    </tr>\n",
       "    <tr>\n",
       "      <th>...</th>\n",
       "      <td>...</td>\n",
       "      <td>...</td>\n",
       "      <td>...</td>\n",
       "      <td>...</td>\n",
       "      <td>...</td>\n",
       "    </tr>\n",
       "    <tr>\n",
       "      <th>381104</th>\n",
       "      <td>381105.0</td>\n",
       "      <td>30170.0</td>\n",
       "      <td>26.0</td>\n",
       "      <td>88.0</td>\n",
       "      <td>0.0</td>\n",
       "    </tr>\n",
       "    <tr>\n",
       "      <th>381105</th>\n",
       "      <td>381106.0</td>\n",
       "      <td>40016.0</td>\n",
       "      <td>152.0</td>\n",
       "      <td>131.0</td>\n",
       "      <td>0.0</td>\n",
       "    </tr>\n",
       "    <tr>\n",
       "      <th>381106</th>\n",
       "      <td>381107.0</td>\n",
       "      <td>35118.0</td>\n",
       "      <td>160.0</td>\n",
       "      <td>161.0</td>\n",
       "      <td>0.0</td>\n",
       "    </tr>\n",
       "    <tr>\n",
       "      <th>381107</th>\n",
       "      <td>381108.0</td>\n",
       "      <td>44617.0</td>\n",
       "      <td>124.0</td>\n",
       "      <td>74.0</td>\n",
       "      <td>0.0</td>\n",
       "    </tr>\n",
       "    <tr>\n",
       "      <th>381108</th>\n",
       "      <td>381109.0</td>\n",
       "      <td>41777.0</td>\n",
       "      <td>26.0</td>\n",
       "      <td>237.0</td>\n",
       "      <td>0.0</td>\n",
       "    </tr>\n",
       "  </tbody>\n",
       "</table>\n",
       "<p>381109 rows × 5 columns</p>\n",
       "</div>"
      ],
      "text/plain": [
       "        customer_id  annual premium (in Rs)  sales channel code  vintage  \\\n",
       "0               1.0                 40454.0                26.0    217.0   \n",
       "1               2.0                 33536.0                26.0    183.0   \n",
       "2               3.0                 38294.0                26.0     27.0   \n",
       "3               4.0                 28619.0               152.0    203.0   \n",
       "4               5.0                 27496.0               152.0     39.0   \n",
       "...             ...                     ...                 ...      ...   \n",
       "381104     381105.0                 30170.0                26.0     88.0   \n",
       "381105     381106.0                 40016.0               152.0    131.0   \n",
       "381106     381107.0                 35118.0               160.0    161.0   \n",
       "381107     381108.0                 44617.0               124.0     74.0   \n",
       "381108     381109.0                 41777.0                26.0    237.0   \n",
       "\n",
       "        response  \n",
       "0            1.0  \n",
       "1            0.0  \n",
       "2            1.0  \n",
       "3            0.0  \n",
       "4            0.0  \n",
       "...          ...  \n",
       "381104       0.0  \n",
       "381105       0.0  \n",
       "381106       0.0  \n",
       "381107       0.0  \n",
       "381108       0.0  \n",
       "\n",
       "[381109 rows x 5 columns]"
      ]
     },
     "execution_count": 12,
     "metadata": {},
     "output_type": "execute_result"
    }
   ],
   "source": [
    "customerPolDetails.rename(columns={'0':'customer_id','1':'annual premium (in Rs)','2':'sales channel code','3':'vintage','4':'response'})"
   ]
  },
  {
   "cell_type": "code",
   "execution_count": 13,
   "id": "20fad80d",
   "metadata": {},
   "outputs": [],
   "source": [
    "customerPolDetails=customerPolDetails.rename(columns={'0':'customer_id','1':'annual premium (in Rs)','2':'sales channel code','3':'vintage','4':'response'})"
   ]
  },
  {
   "cell_type": "code",
   "execution_count": 14,
   "id": "1e6fb07f",
   "metadata": {},
   "outputs": [
    {
     "data": {
      "text/plain": [
       "Index(['customer_id', 'annual premium (in Rs)', 'sales channel code',\n",
       "       'vintage', 'response'],\n",
       "      dtype='object')"
      ]
     },
     "execution_count": 14,
     "metadata": {},
     "output_type": "execute_result"
    }
   ],
   "source": [
    "customerPolDetails.columns"
   ]
  },
  {
   "cell_type": "markdown",
   "id": "2d2c35b0",
   "metadata": {},
   "source": [
    "### Q2. Checking and Cleaning Data Quality:"
   ]
  },
  {
   "cell_type": "code",
   "execution_count": 15,
   "id": "2f8aa9c3",
   "metadata": {},
   "outputs": [
    {
     "data": {
      "text/plain": [
       "customer_id                386\n",
       "Gender                     368\n",
       "age                        368\n",
       "driving licence present    393\n",
       "region code                392\n",
       "previously insured         381\n",
       "vehicle age                381\n",
       "vehicle damage             407\n",
       "dtype: int64"
      ]
     },
     "execution_count": 15,
     "metadata": {},
     "output_type": "execute_result"
    }
   ],
   "source": [
    "# Generate a summary of count of all the null values column wise.\n",
    "customerDetails.isnull().sum()"
   ]
  },
  {
   "cell_type": "code",
   "execution_count": 16,
   "id": "60fff831",
   "metadata": {},
   "outputs": [
    {
     "data": {
      "text/plain": [
       "customer_id               387\n",
       "annual premium (in Rs)    346\n",
       "sales channel code        400\n",
       "vintage                   388\n",
       "response                  361\n",
       "dtype: int64"
      ]
     },
     "execution_count": 16,
     "metadata": {},
     "output_type": "execute_result"
    }
   ],
   "source": [
    "customerPolDetails.isnull().sum()"
   ]
  },
  {
   "cell_type": "code",
   "execution_count": 18,
   "id": "15a7068f",
   "metadata": {},
   "outputs": [
    {
     "data": {
      "text/plain": [
       "386"
      ]
     },
     "execution_count": 18,
     "metadata": {},
     "output_type": "execute_result"
    }
   ],
   "source": [
    "customerDetails['customer_id'].isna().sum()"
   ]
  },
  {
   "cell_type": "code",
   "execution_count": 19,
   "id": "a948faa6",
   "metadata": {},
   "outputs": [
    {
     "data": {
      "text/plain": [
       "380723"
      ]
     },
     "execution_count": 19,
     "metadata": {},
     "output_type": "execute_result"
    }
   ],
   "source": [
    "customerDetails['customer_id'].count()"
   ]
  },
  {
   "cell_type": "code",
   "execution_count": 20,
   "id": "ecd3c6ea",
   "metadata": {},
   "outputs": [
    {
     "data": {
      "text/plain": [
       "387"
      ]
     },
     "execution_count": 20,
     "metadata": {},
     "output_type": "execute_result"
    }
   ],
   "source": [
    "customerPolDetails['customer_id'].isna().sum()"
   ]
  },
  {
   "cell_type": "code",
   "execution_count": 21,
   "id": "549d494d",
   "metadata": {},
   "outputs": [
    {
     "data": {
      "text/plain": [
       "380722"
      ]
     },
     "execution_count": 21,
     "metadata": {},
     "output_type": "execute_result"
    }
   ],
   "source": [
    "customerPolDetails['customer_id'].count()"
   ]
  },
  {
   "cell_type": "code",
   "execution_count": 22,
   "id": "53fbffb1",
   "metadata": {},
   "outputs": [],
   "source": [
    "## Replace all null values for numeric columns by mean.\n",
    "## Drop Null values for customer_id\n",
    "\n",
    "customerPolDetails = customerPolDetails.dropna(subset=['customer_id'])"
   ]
  },
  {
   "cell_type": "code",
   "execution_count": 23,
   "id": "a6145835",
   "metadata": {},
   "outputs": [
    {
     "data": {
      "text/plain": [
       "190547.49166320832"
      ]
     },
     "execution_count": 23,
     "metadata": {},
     "output_type": "execute_result"
    }
   ],
   "source": [
    "customerPolDetails['customer_id'].mean()"
   ]
  },
  {
   "cell_type": "code",
   "execution_count": 24,
   "id": "39e79398",
   "metadata": {},
   "outputs": [
    {
     "data": {
      "text/plain": [
       "30563.99977390893"
      ]
     },
     "execution_count": 24,
     "metadata": {},
     "output_type": "execute_result"
    }
   ],
   "source": [
    "customerPolDetails['annual premium (in Rs)'].fillna((customerPolDetails['annual premium (in Rs)'].mean()),inplace=True)\n",
    "customerPolDetails['annual premium (in Rs)'].mean()"
   ]
  },
  {
   "cell_type": "code",
   "execution_count": 25,
   "id": "a7318bce",
   "metadata": {},
   "outputs": [
    {
     "data": {
      "text/plain": [
       "112.03668733336546"
      ]
     },
     "execution_count": 25,
     "metadata": {},
     "output_type": "execute_result"
    }
   ],
   "source": [
    "customerPolDetails['sales channel code'].fillna((customerPolDetails['sales channel code'].mean()),inplace=True)\n",
    "customerPolDetails['sales channel code'].mean()"
   ]
  },
  {
   "cell_type": "code",
   "execution_count": 26,
   "id": "51b6374d",
   "metadata": {},
   "outputs": [
    {
     "data": {
      "text/plain": [
       "154.34719220474696"
      ]
     },
     "execution_count": 26,
     "metadata": {},
     "output_type": "execute_result"
    }
   ],
   "source": [
    "customerPolDetails['vintage'].fillna((customerPolDetails['vintage'].mean()),inplace=True)\n",
    "customerPolDetails['vintage'].mean()"
   ]
  },
  {
   "cell_type": "code",
   "execution_count": 27,
   "id": "b600f007",
   "metadata": {},
   "outputs": [
    {
     "data": {
      "text/plain": [
       "0.12252570584260679"
      ]
     },
     "execution_count": 27,
     "metadata": {},
     "output_type": "execute_result"
    }
   ],
   "source": [
    "customerPolDetails['response'].fillna((customerPolDetails['response'].mean()),inplace=True)\n",
    "customerPolDetails['response'].mean()"
   ]
  },
  {
   "cell_type": "code",
   "execution_count": 28,
   "id": "169eb033",
   "metadata": {},
   "outputs": [
    {
     "data": {
      "text/plain": [
       "customer_id               0\n",
       "annual premium (in Rs)    0\n",
       "sales channel code        0\n",
       "vintage                   0\n",
       "response                  0\n",
       "dtype: int64"
      ]
     },
     "execution_count": 28,
     "metadata": {},
     "output_type": "execute_result"
    }
   ],
   "source": [
    "customerPolDetails.isnull().sum()"
   ]
  },
  {
   "cell_type": "code",
   "execution_count": 29,
   "id": "672726e4",
   "metadata": {},
   "outputs": [],
   "source": [
    "customerDetails = customerDetails.dropna(subset=['customer_id'])\n",
    "customerDetails = customerDetails.dropna(subset=['vehicle damage'])\n",
    "customerDetails = customerDetails.dropna(subset=['vehicle age'])\n",
    "customerDetails = customerDetails.dropna(subset=['previously insured'])\n",
    "customerDetails = customerDetails.dropna(subset=['region code'])\n",
    "customerDetails = customerDetails.dropna(subset=['driving licence present'])\n",
    "customerDetails = customerDetails.dropna(subset=['Gender'])\n",
    "customerDetails = customerDetails.dropna(subset=['age'])"
   ]
  },
  {
   "cell_type": "code",
   "execution_count": 30,
   "id": "63325bd0",
   "metadata": {},
   "outputs": [],
   "source": [
    "customerDetails['customer_id'].fillna((customerDetails['customer_id'].mode()), inplace=True)\n",
    "customerDetails['Gender'].fillna((customerDetails['Gender'].mode().iloc[0]), inplace=True)\n",
    "customerDetails['age'].fillna((customerDetails['age'].mode().iloc[0]), inplace=True)\n",
    "customerDetails['region code'].fillna((customerDetails['region code'].mode().iloc[0]),inplace=True)\n",
    "customerDetails['previously insured'].fillna((customerDetails['previously insured'].mode().iloc[0]),inplace=True)\n",
    "customerDetails['vehicle age'].fillna((customerDetails['vehicle age'].mode().iloc[0]),inplace=True)\n",
    "customerDetails['driving licence present'].fillna((customerDetails['driving licence present'].mode().iloc[0]),inplace=True)\n",
    "customerDetails['vehicle damage'].fillna((customerDetails['vehicle damage'].mode().iloc[0]),inplace=True)"
   ]
  },
  {
   "cell_type": "code",
   "execution_count": 31,
   "id": "8da39270",
   "metadata": {},
   "outputs": [
    {
     "data": {
      "text/plain": [
       "customer_id                0\n",
       "Gender                     0\n",
       "age                        0\n",
       "driving licence present    0\n",
       "region code                0\n",
       "previously insured         0\n",
       "vehicle age                0\n",
       "vehicle damage             0\n",
       "dtype: int64"
      ]
     },
     "execution_count": 31,
     "metadata": {},
     "output_type": "execute_result"
    }
   ],
   "source": [
    "customerDetails.isnull().sum()"
   ]
  },
  {
   "cell_type": "markdown",
   "id": "d5443dcc",
   "metadata": {},
   "source": [
    "### Generate a summary of count of all the outliers column wise"
   ]
  },
  {
   "cell_type": "code",
   "execution_count": 32,
   "id": "068cdaa1",
   "metadata": {},
   "outputs": [
    {
     "data": {
      "text/html": [
       "<div>\n",
       "<style scoped>\n",
       "    .dataframe tbody tr th:only-of-type {\n",
       "        vertical-align: middle;\n",
       "    }\n",
       "\n",
       "    .dataframe tbody tr th {\n",
       "        vertical-align: top;\n",
       "    }\n",
       "\n",
       "    .dataframe thead th {\n",
       "        text-align: right;\n",
       "    }\n",
       "</style>\n",
       "<table border=\"1\" class=\"dataframe\">\n",
       "  <thead>\n",
       "    <tr style=\"text-align: right;\">\n",
       "      <th></th>\n",
       "      <th>customer_id</th>\n",
       "      <th>age</th>\n",
       "      <th>driving licence present</th>\n",
       "      <th>region code</th>\n",
       "      <th>previously insured</th>\n",
       "    </tr>\n",
       "  </thead>\n",
       "  <tbody>\n",
       "    <tr>\n",
       "      <th>count</th>\n",
       "      <td>378049.000000</td>\n",
       "      <td>378049.000000</td>\n",
       "      <td>378049.000000</td>\n",
       "      <td>378049.000000</td>\n",
       "      <td>378049.000000</td>\n",
       "    </tr>\n",
       "    <tr>\n",
       "      <th>mean</th>\n",
       "      <td>190573.212919</td>\n",
       "      <td>38.821208</td>\n",
       "      <td>0.997873</td>\n",
       "      <td>26.392764</td>\n",
       "      <td>0.458195</td>\n",
       "    </tr>\n",
       "    <tr>\n",
       "      <th>std</th>\n",
       "      <td>110017.560502</td>\n",
       "      <td>15.510030</td>\n",
       "      <td>0.046067</td>\n",
       "      <td>13.230727</td>\n",
       "      <td>0.498250</td>\n",
       "    </tr>\n",
       "    <tr>\n",
       "      <th>min</th>\n",
       "      <td>1.000000</td>\n",
       "      <td>20.000000</td>\n",
       "      <td>0.000000</td>\n",
       "      <td>0.000000</td>\n",
       "      <td>0.000000</td>\n",
       "    </tr>\n",
       "    <tr>\n",
       "      <th>25%</th>\n",
       "      <td>95304.000000</td>\n",
       "      <td>25.000000</td>\n",
       "      <td>1.000000</td>\n",
       "      <td>15.000000</td>\n",
       "      <td>0.000000</td>\n",
       "    </tr>\n",
       "    <tr>\n",
       "      <th>50%</th>\n",
       "      <td>190574.000000</td>\n",
       "      <td>36.000000</td>\n",
       "      <td>1.000000</td>\n",
       "      <td>28.000000</td>\n",
       "      <td>0.000000</td>\n",
       "    </tr>\n",
       "    <tr>\n",
       "      <th>75%</th>\n",
       "      <td>285866.000000</td>\n",
       "      <td>49.000000</td>\n",
       "      <td>1.000000</td>\n",
       "      <td>35.000000</td>\n",
       "      <td>1.000000</td>\n",
       "    </tr>\n",
       "    <tr>\n",
       "      <th>max</th>\n",
       "      <td>381109.000000</td>\n",
       "      <td>85.000000</td>\n",
       "      <td>1.000000</td>\n",
       "      <td>52.000000</td>\n",
       "      <td>1.000000</td>\n",
       "    </tr>\n",
       "  </tbody>\n",
       "</table>\n",
       "</div>"
      ],
      "text/plain": [
       "         customer_id            age  driving licence present    region code  \\\n",
       "count  378049.000000  378049.000000            378049.000000  378049.000000   \n",
       "mean   190573.212919      38.821208                 0.997873      26.392764   \n",
       "std    110017.560502      15.510030                 0.046067      13.230727   \n",
       "min         1.000000      20.000000                 0.000000       0.000000   \n",
       "25%     95304.000000      25.000000                 1.000000      15.000000   \n",
       "50%    190574.000000      36.000000                 1.000000      28.000000   \n",
       "75%    285866.000000      49.000000                 1.000000      35.000000   \n",
       "max    381109.000000      85.000000                 1.000000      52.000000   \n",
       "\n",
       "       previously insured  \n",
       "count       378049.000000  \n",
       "mean             0.458195  \n",
       "std              0.498250  \n",
       "min              0.000000  \n",
       "25%              0.000000  \n",
       "50%              0.000000  \n",
       "75%              1.000000  \n",
       "max              1.000000  "
      ]
     },
     "execution_count": 32,
     "metadata": {},
     "output_type": "execute_result"
    }
   ],
   "source": [
    "customerDetails.describe()"
   ]
  },
  {
   "cell_type": "code",
   "execution_count": 33,
   "id": "eba57057",
   "metadata": {},
   "outputs": [
    {
     "data": {
      "text/html": [
       "<div>\n",
       "<style scoped>\n",
       "    .dataframe tbody tr th:only-of-type {\n",
       "        vertical-align: middle;\n",
       "    }\n",
       "\n",
       "    .dataframe tbody tr th {\n",
       "        vertical-align: top;\n",
       "    }\n",
       "\n",
       "    .dataframe thead th {\n",
       "        text-align: right;\n",
       "    }\n",
       "</style>\n",
       "<table border=\"1\" class=\"dataframe\">\n",
       "  <thead>\n",
       "    <tr style=\"text-align: right;\">\n",
       "      <th></th>\n",
       "      <th>customer_id</th>\n",
       "      <th>annual premium (in Rs)</th>\n",
       "      <th>sales channel code</th>\n",
       "      <th>vintage</th>\n",
       "      <th>response</th>\n",
       "    </tr>\n",
       "  </thead>\n",
       "  <tbody>\n",
       "    <tr>\n",
       "      <th>count</th>\n",
       "      <td>380722.000000</td>\n",
       "      <td>380722.000000</td>\n",
       "      <td>380722.000000</td>\n",
       "      <td>380722.000000</td>\n",
       "      <td>380722.000000</td>\n",
       "    </tr>\n",
       "    <tr>\n",
       "      <th>mean</th>\n",
       "      <td>190547.491663</td>\n",
       "      <td>30563.999774</td>\n",
       "      <td>112.036687</td>\n",
       "      <td>154.347192</td>\n",
       "      <td>0.122526</td>\n",
       "    </tr>\n",
       "    <tr>\n",
       "      <th>std</th>\n",
       "      <td>110013.824148</td>\n",
       "      <td>17190.147550</td>\n",
       "      <td>54.177046</td>\n",
       "      <td>83.628096</td>\n",
       "      <td>0.327737</td>\n",
       "    </tr>\n",
       "    <tr>\n",
       "      <th>min</th>\n",
       "      <td>1.000000</td>\n",
       "      <td>2630.000000</td>\n",
       "      <td>1.000000</td>\n",
       "      <td>10.000000</td>\n",
       "      <td>0.000000</td>\n",
       "    </tr>\n",
       "    <tr>\n",
       "      <th>25%</th>\n",
       "      <td>95276.250000</td>\n",
       "      <td>24416.000000</td>\n",
       "      <td>29.000000</td>\n",
       "      <td>82.000000</td>\n",
       "      <td>0.000000</td>\n",
       "    </tr>\n",
       "    <tr>\n",
       "      <th>50%</th>\n",
       "      <td>190536.500000</td>\n",
       "      <td>31656.000000</td>\n",
       "      <td>131.000000</td>\n",
       "      <td>154.000000</td>\n",
       "      <td>0.000000</td>\n",
       "    </tr>\n",
       "    <tr>\n",
       "      <th>75%</th>\n",
       "      <td>285818.750000</td>\n",
       "      <td>39391.750000</td>\n",
       "      <td>152.000000</td>\n",
       "      <td>227.000000</td>\n",
       "      <td>0.000000</td>\n",
       "    </tr>\n",
       "    <tr>\n",
       "      <th>max</th>\n",
       "      <td>381109.000000</td>\n",
       "      <td>540165.000000</td>\n",
       "      <td>163.000000</td>\n",
       "      <td>299.000000</td>\n",
       "      <td>1.000000</td>\n",
       "    </tr>\n",
       "  </tbody>\n",
       "</table>\n",
       "</div>"
      ],
      "text/plain": [
       "         customer_id  annual premium (in Rs)  sales channel code  \\\n",
       "count  380722.000000           380722.000000       380722.000000   \n",
       "mean   190547.491663            30563.999774          112.036687   \n",
       "std    110013.824148            17190.147550           54.177046   \n",
       "min         1.000000             2630.000000            1.000000   \n",
       "25%     95276.250000            24416.000000           29.000000   \n",
       "50%    190536.500000            31656.000000          131.000000   \n",
       "75%    285818.750000            39391.750000          152.000000   \n",
       "max    381109.000000           540165.000000          163.000000   \n",
       "\n",
       "             vintage       response  \n",
       "count  380722.000000  380722.000000  \n",
       "mean      154.347192       0.122526  \n",
       "std        83.628096       0.327737  \n",
       "min        10.000000       0.000000  \n",
       "25%        82.000000       0.000000  \n",
       "50%       154.000000       0.000000  \n",
       "75%       227.000000       0.000000  \n",
       "max       299.000000       1.000000  "
      ]
     },
     "execution_count": 33,
     "metadata": {},
     "output_type": "execute_result"
    }
   ],
   "source": [
    "customerPolDetails.describe()"
   ]
  },
  {
   "cell_type": "markdown",
   "id": "60ac64d3",
   "metadata": {},
   "source": [
    "### Replace all outlier values for numeric columns by mean."
   ]
  },
  {
   "cell_type": "code",
   "execution_count": 34,
   "id": "6501aeac",
   "metadata": {},
   "outputs": [
    {
     "name": "stdout",
     "output_type": "stream",
     "text": [
      "customer_id               190542.50\n",
      "annual premium (in Rs)     14975.75\n",
      "sales channel code           123.00\n",
      "vintage                      145.00\n",
      "response                       0.00\n",
      "dtype: float64\n"
     ]
    }
   ],
   "source": [
    "Q1=customerPolDetails.quantile(0.25)\n",
    "Q3=customerPolDetails.quantile(0.75)\n",
    "IQR=Q3-Q1\n",
    "print(IQR)"
   ]
  },
  {
   "cell_type": "code",
   "execution_count": 35,
   "id": "9c43a5f6",
   "metadata": {},
   "outputs": [],
   "source": [
    "customerDetails = customerDetails.rename(columns={'Gender':'Gender','driving licence present':'driving_licence_present','previously insured':'previously_insured','vehicle age':'vehicle_age','vehicle damage':'vehicle_damage'})"
   ]
  },
  {
   "cell_type": "code",
   "execution_count": 36,
   "id": "8b0bd888",
   "metadata": {},
   "outputs": [],
   "source": [
    "Gender = {'Male': 0, 'Female': 1}\n",
    "driving_licence_present = {0: 0, 1: 1}\n",
    "previously_insured = {0: 1, 1: 0}\n",
    "vehicle_age = {'> 2 Years': 2, '1-2 Year': 1, '< 1 Year': 0}\n",
    "vehicle_damage = {'Yes': 1, 'No': 0}\n",
    "customerDetails['Gender'] = customerDetails['Gender'].map(Gender)\n",
    "customerDetails['driving_licence_present'] = customerDetails['driving_licence_present'].map(driving_licence_present)\n",
    "customerDetails['previously_insured'] = customerDetails['previously_insured'].map(previously_insured)\n",
    "customerDetails['vehicle_age'] = customerDetails['vehicle_age'].map(vehicle_age)\n",
    "customerDetails['vehicle_damage'] = customerDetails['vehicle_damage'].map(vehicle_damage)"
   ]
  },
  {
   "cell_type": "code",
   "execution_count": 37,
   "id": "80c4ba59",
   "metadata": {},
   "outputs": [
    {
     "data": {
      "text/html": [
       "<div>\n",
       "<style scoped>\n",
       "    .dataframe tbody tr th:only-of-type {\n",
       "        vertical-align: middle;\n",
       "    }\n",
       "\n",
       "    .dataframe tbody tr th {\n",
       "        vertical-align: top;\n",
       "    }\n",
       "\n",
       "    .dataframe thead th {\n",
       "        text-align: right;\n",
       "    }\n",
       "</style>\n",
       "<table border=\"1\" class=\"dataframe\">\n",
       "  <thead>\n",
       "    <tr style=\"text-align: right;\">\n",
       "      <th></th>\n",
       "      <th>customer_id</th>\n",
       "      <th>Gender</th>\n",
       "      <th>age</th>\n",
       "      <th>driving_licence_present</th>\n",
       "      <th>region code</th>\n",
       "      <th>previously_insured</th>\n",
       "      <th>vehicle_age</th>\n",
       "      <th>vehicle_damage</th>\n",
       "    </tr>\n",
       "  </thead>\n",
       "  <tbody>\n",
       "    <tr>\n",
       "      <th>0</th>\n",
       "      <td>1.0</td>\n",
       "      <td>0</td>\n",
       "      <td>44.0</td>\n",
       "      <td>1</td>\n",
       "      <td>28.0</td>\n",
       "      <td>1</td>\n",
       "      <td>2</td>\n",
       "      <td>1</td>\n",
       "    </tr>\n",
       "    <tr>\n",
       "      <th>1</th>\n",
       "      <td>2.0</td>\n",
       "      <td>0</td>\n",
       "      <td>76.0</td>\n",
       "      <td>1</td>\n",
       "      <td>3.0</td>\n",
       "      <td>1</td>\n",
       "      <td>1</td>\n",
       "      <td>0</td>\n",
       "    </tr>\n",
       "  </tbody>\n",
       "</table>\n",
       "</div>"
      ],
      "text/plain": [
       "   customer_id  Gender   age  driving_licence_present  region code  \\\n",
       "0          1.0       0  44.0                        1         28.0   \n",
       "1          2.0       0  76.0                        1          3.0   \n",
       "\n",
       "   previously_insured  vehicle_age  vehicle_damage  \n",
       "0                   1            2               1  \n",
       "1                   1            1               0  "
      ]
     },
     "execution_count": 37,
     "metadata": {},
     "output_type": "execute_result"
    }
   ],
   "source": [
    "customerDetails.head(2)"
   ]
  },
  {
   "cell_type": "code",
   "execution_count": 38,
   "id": "36f62062",
   "metadata": {},
   "outputs": [
    {
     "name": "stderr",
     "output_type": "stream",
     "text": [
      "C:\\Users\\RAJ\\anaconda3\\lib\\site-packages\\seaborn\\_decorators.py:36: FutureWarning: Pass the following variable as a keyword arg: x. From version 0.12, the only valid positional argument will be `data`, and passing other arguments without an explicit keyword will result in an error or misinterpretation.\n",
      "  warnings.warn(\n"
     ]
    },
    {
     "data": {
      "text/plain": [
       "<AxesSubplot:xlabel='annual premium (in Rs)'>"
      ]
     },
     "execution_count": 38,
     "metadata": {},
     "output_type": "execute_result"
    },
    {
     "data": {
      "image/png": "[encoded data removed]",
      "text/plain": [
       "<Figure size 432x288 with 1 Axes>"
      ]
     },
     "metadata": {
      "needs_background": "light"
     },
     "output_type": "display_data"
    }
   ],
   "source": [
    "sns.boxplot(customerPolDetails['annual premium (in Rs)'])"
   ]
  },
  {
   "cell_type": "code",
   "execution_count": 39,
   "id": "cc00d5f4",
   "metadata": {},
   "outputs": [],
   "source": [
    "percentile25 = customerPolDetails['annual premium (in Rs)'].quantile(0.25)\n",
    "percentile75 = customerPolDetails['annual premium (in Rs)'].quantile(0.75)\n",
    "iqr = np.subtract(*np.percentile(1, [75, 25]))\n",
    "upper_limit = percentile75 + 1.5 * iqr\n",
    "lower_limit = percentile25 - 1.5 * iqr"
   ]
  },
  {
   "cell_type": "code",
   "execution_count": 35,
   "id": "f84d547b",
   "metadata": {},
   "outputs": [
    {
     "data": {
      "text/html": [
       "<div>\n",
       "<style scoped>\n",
       "    .dataframe tbody tr th:only-of-type {\n",
       "        vertical-align: middle;\n",
       "    }\n",
       "\n",
       "    .dataframe tbody tr th {\n",
       "        vertical-align: top;\n",
       "    }\n",
       "\n",
       "    .dataframe thead th {\n",
       "        text-align: right;\n",
       "    }\n",
       "</style>\n",
       "<table border=\"1\" class=\"dataframe\">\n",
       "  <thead>\n",
       "    <tr style=\"text-align: right;\">\n",
       "      <th></th>\n",
       "      <th>customer_id</th>\n",
       "      <th>annual premium (in Rs)</th>\n",
       "      <th>sales channel code</th>\n",
       "      <th>vintage</th>\n",
       "      <th>response</th>\n",
       "    </tr>\n",
       "  </thead>\n",
       "  <tbody>\n",
       "    <tr>\n",
       "      <th>5</th>\n",
       "      <td>6.0</td>\n",
       "      <td>2630.0</td>\n",
       "      <td>160.0</td>\n",
       "      <td>176.0</td>\n",
       "      <td>0.0</td>\n",
       "    </tr>\n",
       "    <tr>\n",
       "      <th>6</th>\n",
       "      <td>7.0</td>\n",
       "      <td>23367.0</td>\n",
       "      <td>152.0</td>\n",
       "      <td>249.0</td>\n",
       "      <td>0.0</td>\n",
       "    </tr>\n",
       "    <tr>\n",
       "      <th>15</th>\n",
       "      <td>16.0</td>\n",
       "      <td>2630.0</td>\n",
       "      <td>156.0</td>\n",
       "      <td>147.0</td>\n",
       "      <td>1.0</td>\n",
       "    </tr>\n",
       "    <tr>\n",
       "      <th>27</th>\n",
       "      <td>28.0</td>\n",
       "      <td>19135.0</td>\n",
       "      <td>152.0</td>\n",
       "      <td>57.0</td>\n",
       "      <td>0.0</td>\n",
       "    </tr>\n",
       "    <tr>\n",
       "      <th>30</th>\n",
       "      <td>31.0</td>\n",
       "      <td>2630.0</td>\n",
       "      <td>160.0</td>\n",
       "      <td>136.0</td>\n",
       "      <td>0.0</td>\n",
       "    </tr>\n",
       "    <tr>\n",
       "      <th>...</th>\n",
       "      <td>...</td>\n",
       "      <td>...</td>\n",
       "      <td>...</td>\n",
       "      <td>...</td>\n",
       "      <td>...</td>\n",
       "    </tr>\n",
       "    <tr>\n",
       "      <th>381074</th>\n",
       "      <td>381075.0</td>\n",
       "      <td>21113.0</td>\n",
       "      <td>152.0</td>\n",
       "      <td>248.0</td>\n",
       "      <td>0.0</td>\n",
       "    </tr>\n",
       "    <tr>\n",
       "      <th>381086</th>\n",
       "      <td>381087.0</td>\n",
       "      <td>2630.0</td>\n",
       "      <td>152.0</td>\n",
       "      <td>208.0</td>\n",
       "      <td>0.0</td>\n",
       "    </tr>\n",
       "    <tr>\n",
       "      <th>381092</th>\n",
       "      <td>381093.0</td>\n",
       "      <td>2630.0</td>\n",
       "      <td>124.0</td>\n",
       "      <td>130.0</td>\n",
       "      <td>0.0</td>\n",
       "    </tr>\n",
       "    <tr>\n",
       "      <th>381094</th>\n",
       "      <td>381095.0</td>\n",
       "      <td>2630.0</td>\n",
       "      <td>26.0</td>\n",
       "      <td>84.0</td>\n",
       "      <td>0.0</td>\n",
       "    </tr>\n",
       "    <tr>\n",
       "      <th>381102</th>\n",
       "      <td>381103.0</td>\n",
       "      <td>2630.0</td>\n",
       "      <td>152.0</td>\n",
       "      <td>102.0</td>\n",
       "      <td>0.0</td>\n",
       "    </tr>\n",
       "  </tbody>\n",
       "</table>\n",
       "<p>95178 rows × 5 columns</p>\n",
       "</div>"
      ],
      "text/plain": [
       "        customer_id  annual premium (in Rs)  sales channel code  vintage  \\\n",
       "5               6.0                  2630.0               160.0    176.0   \n",
       "6               7.0                 23367.0               152.0    249.0   \n",
       "15             16.0                  2630.0               156.0    147.0   \n",
       "27             28.0                 19135.0               152.0     57.0   \n",
       "30             31.0                  2630.0               160.0    136.0   \n",
       "...             ...                     ...                 ...      ...   \n",
       "381074     381075.0                 21113.0               152.0    248.0   \n",
       "381086     381087.0                  2630.0               152.0    208.0   \n",
       "381092     381093.0                  2630.0               124.0    130.0   \n",
       "381094     381095.0                  2630.0                26.0     84.0   \n",
       "381102     381103.0                  2630.0               152.0    102.0   \n",
       "\n",
       "        response  \n",
       "5            0.0  \n",
       "6            0.0  \n",
       "15           1.0  \n",
       "27           0.0  \n",
       "30           0.0  \n",
       "...          ...  \n",
       "381074       0.0  \n",
       "381086       0.0  \n",
       "381092       0.0  \n",
       "381094       0.0  \n",
       "381102       0.0  \n",
       "\n",
       "[95178 rows x 5 columns]"
      ]
     },
     "execution_count": 35,
     "metadata": {},
     "output_type": "execute_result"
    }
   ],
   "source": [
    "customerPolDetails[customerPolDetails['annual premium (in Rs)'] > upper_limit]\n",
    "customerPolDetails[customerPolDetails['annual premium (in Rs)'] < lower_limit]"
   ]
  },
  {
   "cell_type": "code",
   "execution_count": 40,
   "id": "2834d6fb",
   "metadata": {},
   "outputs": [
    {
     "data": {
      "text/plain": [
       "(285541, 5)"
      ]
     },
     "execution_count": 40,
     "metadata": {},
     "output_type": "execute_result"
    }
   ],
   "source": [
    "new_df = customerPolDetails[customerPolDetails['annual premium (in Rs)'] < upper_limit]\n",
    "new_df.shape"
   ]
  },
  {
   "cell_type": "code",
   "execution_count": 41,
   "id": "ab19e35b",
   "metadata": {},
   "outputs": [
    {
     "name": "stderr",
     "output_type": "stream",
     "text": [
      "C:\\Users\\RAJ\\anaconda3\\lib\\site-packages\\seaborn\\distributions.py:2619: FutureWarning: `distplot` is a deprecated function and will be removed in a future version. Please adapt your code to use either `displot` (a figure-level function with similar flexibility) or `histplot` (an axes-level function for histograms).\n",
      "  warnings.warn(msg, FutureWarning)\n",
      "C:\\Users\\RAJ\\anaconda3\\lib\\site-packages\\seaborn\\_decorators.py:36: FutureWarning: Pass the following variable as a keyword arg: x. From version 0.12, the only valid positional argument will be `data`, and passing other arguments without an explicit keyword will result in an error or misinterpretation.\n",
      "  warnings.warn(\n",
      "C:\\Users\\RAJ\\anaconda3\\lib\\site-packages\\seaborn\\distributions.py:2619: FutureWarning: `distplot` is a deprecated function and will be removed in a future version. Please adapt your code to use either `displot` (a figure-level function with similar flexibility) or `histplot` (an axes-level function for histograms).\n",
      "  warnings.warn(msg, FutureWarning)\n",
      "C:\\Users\\RAJ\\anaconda3\\lib\\site-packages\\seaborn\\_decorators.py:36: FutureWarning: Pass the following variable as a keyword arg: x. From version 0.12, the only valid positional argument will be `data`, and passing other arguments without an explicit keyword will result in an error or misinterpretation.\n",
      "  warnings.warn(\n"
     ]
    },
    {
     "data": {
      "image/png": "[encoded data removed]",
      "text/plain": [
       "<Figure size 1152x576 with 4 Axes>"
      ]
     },
     "metadata": {
      "needs_background": "light"
     },
     "output_type": "display_data"
    }
   ],
   "source": [
    "plt.figure(figsize=(16,8))\n",
    "plt.subplot(2,2,1)\n",
    "sns.distplot(customerPolDetails['annual premium (in Rs)'])\n",
    "plt.subplot(2,2,2)\n",
    "sns.boxplot(customerPolDetails['annual premium (in Rs)'])\n",
    "plt.subplot(2,2,3)\n",
    "sns.distplot(new_df['annual premium (in Rs)'])\n",
    "plt.subplot(2,2,4)\n",
    "sns.boxplot(new_df['annual premium (in Rs)'])\n",
    "plt.show()"
   ]
  },
  {
   "cell_type": "code",
   "execution_count": 42,
   "id": "10b5828a",
   "metadata": {},
   "outputs": [
    {
     "name": "stderr",
     "output_type": "stream",
     "text": [
      "C:\\Users\\RAJ\\anaconda3\\lib\\site-packages\\seaborn\\_decorators.py:36: FutureWarning: Pass the following variable as a keyword arg: x. From version 0.12, the only valid positional argument will be `data`, and passing other arguments without an explicit keyword will result in an error or misinterpretation.\n",
      "  warnings.warn(\n"
     ]
    },
    {
     "data": {
      "text/plain": [
       "<AxesSubplot:xlabel='vintage'>"
      ]
     },
     "execution_count": 42,
     "metadata": {},
     "output_type": "execute_result"
    },
    {
     "data": {
      "image/png": "[encoded data removed]",
      "text/plain": [
       "<Figure size 432x288 with 1 Axes>"
      ]
     },
     "metadata": {
      "needs_background": "light"
     },
     "output_type": "display_data"
    }
   ],
   "source": [
    "sns.boxplot(customerPolDetails['vintage'])"
   ]
  },
  {
   "cell_type": "code",
   "execution_count": 43,
   "id": "ee733b7e",
   "metadata": {},
   "outputs": [
    {
     "name": "stderr",
     "output_type": "stream",
     "text": [
      "C:\\Users\\RAJ\\anaconda3\\lib\\site-packages\\seaborn\\_decorators.py:36: FutureWarning: Pass the following variable as a keyword arg: x. From version 0.12, the only valid positional argument will be `data`, and passing other arguments without an explicit keyword will result in an error or misinterpretation.\n",
      "  warnings.warn(\n"
     ]
    },
    {
     "data": {
      "text/plain": [
       "<AxesSubplot:xlabel='sales channel code'>"
      ]
     },
     "execution_count": 43,
     "metadata": {},
     "output_type": "execute_result"
    },
    {
     "data": {
      "image/png": "[encoded data removed]",
      "text/plain": [
       "<Figure size 432x288 with 1 Axes>"
      ]
     },
     "metadata": {
      "needs_background": "light"
     },
     "output_type": "display_data"
    }
   ],
   "source": [
    "sns.boxplot(customerPolDetails['sales channel code'])"
   ]
  },
  {
   "cell_type": "code",
   "execution_count": 44,
   "id": "38015e65",
   "metadata": {},
   "outputs": [
    {
     "name": "stderr",
     "output_type": "stream",
     "text": [
      "C:\\Users\\RAJ\\anaconda3\\lib\\site-packages\\seaborn\\_decorators.py:36: FutureWarning: Pass the following variable as a keyword arg: x. From version 0.12, the only valid positional argument will be `data`, and passing other arguments without an explicit keyword will result in an error or misinterpretation.\n",
      "  warnings.warn(\n"
     ]
    },
    {
     "data": {
      "text/plain": [
       "<AxesSubplot:xlabel='response'>"
      ]
     },
     "execution_count": 44,
     "metadata": {},
     "output_type": "execute_result"
    },
    {
     "data": {
      "image/png": "[encoded data removed]",
      "text/plain": [
       "<Figure size 432x288 with 1 Axes>"
      ]
     },
     "metadata": {
      "needs_background": "light"
     },
     "output_type": "display_data"
    }
   ],
   "source": [
    "sns.boxplot(customerPolDetails['response'])"
   ]
  },
  {
   "cell_type": "code",
   "execution_count": 45,
   "id": "05f0e276",
   "metadata": {},
   "outputs": [
    {
     "name": "stderr",
     "output_type": "stream",
     "text": [
      "C:\\Users\\RAJ\\anaconda3\\lib\\site-packages\\seaborn\\_decorators.py:36: FutureWarning: Pass the following variable as a keyword arg: x. From version 0.12, the only valid positional argument will be `data`, and passing other arguments without an explicit keyword will result in an error or misinterpretation.\n",
      "  warnings.warn(\n"
     ]
    },
    {
     "data": {
      "text/plain": [
       "<AxesSubplot:xlabel='age'>"
      ]
     },
     "execution_count": 45,
     "metadata": {},
     "output_type": "execute_result"
    },
    {
     "data": {
      "image/png": "[encoded data removed]",
      "text/plain": [
       "<Figure size 432x288 with 1 Axes>"
      ]
     },
     "metadata": {
      "needs_background": "light"
     },
     "output_type": "display_data"
    }
   ],
   "source": [
    "# Outlier CustomerDetail :\n",
    "sns.boxplot(customerDetails['age'])"
   ]
  },
  {
   "cell_type": "code",
   "execution_count": 46,
   "id": "08a796af",
   "metadata": {},
   "outputs": [
    {
     "name": "stderr",
     "output_type": "stream",
     "text": [
      "C:\\Users\\RAJ\\anaconda3\\lib\\site-packages\\seaborn\\_decorators.py:36: FutureWarning: Pass the following variable as a keyword arg: x. From version 0.12, the only valid positional argument will be `data`, and passing other arguments without an explicit keyword will result in an error or misinterpretation.\n",
      "  warnings.warn(\n"
     ]
    },
    {
     "data": {
      "text/plain": [
       "<AxesSubplot:xlabel='vehicle_damage'>"
      ]
     },
     "execution_count": 46,
     "metadata": {},
     "output_type": "execute_result"
    },
    {
     "data": {
      "image/png": "[encoded data removed]",
      "text/plain": [
       "<Figure size 432x288 with 1 Axes>"
      ]
     },
     "metadata": {
      "needs_background": "light"
     },
     "output_type": "display_data"
    }
   ],
   "source": [
    "sns.boxplot(customerDetails['vehicle_damage'])"
   ]
  },
  {
   "cell_type": "code",
   "execution_count": 47,
   "id": "f20f9e32",
   "metadata": {},
   "outputs": [
    {
     "name": "stderr",
     "output_type": "stream",
     "text": [
      "C:\\Users\\RAJ\\anaconda3\\lib\\site-packages\\seaborn\\_decorators.py:36: FutureWarning: Pass the following variable as a keyword arg: x. From version 0.12, the only valid positional argument will be `data`, and passing other arguments without an explicit keyword will result in an error or misinterpretation.\n",
      "  warnings.warn(\n"
     ]
    },
    {
     "data": {
      "text/plain": [
       "<AxesSubplot:xlabel='previously_insured'>"
      ]
     },
     "execution_count": 47,
     "metadata": {},
     "output_type": "execute_result"
    },
    {
     "data": {
      "image/png": "[encoded data removed]",
      "text/plain": [
       "<Figure size 432x288 with 1 Axes>"
      ]
     },
     "metadata": {
      "needs_background": "light"
     },
     "output_type": "display_data"
    }
   ],
   "source": [
    "sns.boxplot(customerDetails['previously_insured'])"
   ]
  },
  {
   "cell_type": "code",
   "execution_count": 48,
   "id": "28e1721a",
   "metadata": {},
   "outputs": [
    {
     "name": "stderr",
     "output_type": "stream",
     "text": [
      "C:\\Users\\RAJ\\anaconda3\\lib\\site-packages\\seaborn\\_decorators.py:36: FutureWarning: Pass the following variable as a keyword arg: x. From version 0.12, the only valid positional argument will be `data`, and passing other arguments without an explicit keyword will result in an error or misinterpretation.\n",
      "  warnings.warn(\n"
     ]
    },
    {
     "data": {
      "text/plain": [
       "<AxesSubplot:xlabel='region code'>"
      ]
     },
     "execution_count": 48,
     "metadata": {},
     "output_type": "execute_result"
    },
    {
     "data": {
      "image/png": "[encoded data removed]",
      "text/plain": [
       "<Figure size 432x288 with 1 Axes>"
      ]
     },
     "metadata": {
      "needs_background": "light"
     },
     "output_type": "display_data"
    }
   ],
   "source": [
    "sns.boxplot(customerDetails['region code'])"
   ]
  },
  {
   "cell_type": "code",
   "execution_count": 49,
   "id": "85027f3d",
   "metadata": {},
   "outputs": [
    {
     "name": "stderr",
     "output_type": "stream",
     "text": [
      "C:\\Users\\RAJ\\anaconda3\\lib\\site-packages\\seaborn\\_decorators.py:36: FutureWarning: Pass the following variable as a keyword arg: x. From version 0.12, the only valid positional argument will be `data`, and passing other arguments without an explicit keyword will result in an error or misinterpretation.\n",
      "  warnings.warn(\n"
     ]
    },
    {
     "data": {
      "text/plain": [
       "<AxesSubplot:xlabel='vehicle_age'>"
      ]
     },
     "execution_count": 49,
     "metadata": {},
     "output_type": "execute_result"
    },
    {
     "data": {
      "image/png": "[encoded data removed]",
      "text/plain": [
       "<Figure size 432x288 with 1 Axes>"
      ]
     },
     "metadata": {
      "needs_background": "light"
     },
     "output_type": "display_data"
    }
   ],
   "source": [
    "sns.boxplot(customerDetails['vehicle_age'])"
   ]
  },
  {
   "cell_type": "code",
   "execution_count": 51,
   "id": "b77d607e",
   "metadata": {},
   "outputs": [
    {
     "data": {
      "text/html": [
       "<div>\n",
       "<style scoped>\n",
       "    .dataframe tbody tr th:only-of-type {\n",
       "        vertical-align: middle;\n",
       "    }\n",
       "\n",
       "    .dataframe tbody tr th {\n",
       "        vertical-align: top;\n",
       "    }\n",
       "\n",
       "    .dataframe thead th {\n",
       "        text-align: right;\n",
       "    }\n",
       "</style>\n",
       "<table border=\"1\" class=\"dataframe\">\n",
       "  <thead>\n",
       "    <tr style=\"text-align: right;\">\n",
       "      <th></th>\n",
       "      <th>customer_id</th>\n",
       "      <th>Gender</th>\n",
       "      <th>age</th>\n",
       "      <th>driving_licence_present</th>\n",
       "      <th>region code</th>\n",
       "      <th>previously_insured</th>\n",
       "      <th>vehicle_age</th>\n",
       "      <th>vehicle_damage</th>\n",
       "    </tr>\n",
       "  </thead>\n",
       "  <tbody>\n",
       "    <tr>\n",
       "      <th>0</th>\n",
       "      <td>1.0</td>\n",
       "      <td>0</td>\n",
       "      <td>44.0</td>\n",
       "      <td>1</td>\n",
       "      <td>28.0</td>\n",
       "      <td>1</td>\n",
       "      <td>2</td>\n",
       "      <td>1</td>\n",
       "    </tr>\n",
       "    <tr>\n",
       "      <th>1</th>\n",
       "      <td>2.0</td>\n",
       "      <td>0</td>\n",
       "      <td>76.0</td>\n",
       "      <td>1</td>\n",
       "      <td>3.0</td>\n",
       "      <td>1</td>\n",
       "      <td>1</td>\n",
       "      <td>0</td>\n",
       "    </tr>\n",
       "    <tr>\n",
       "      <th>2</th>\n",
       "      <td>3.0</td>\n",
       "      <td>0</td>\n",
       "      <td>47.0</td>\n",
       "      <td>1</td>\n",
       "      <td>28.0</td>\n",
       "      <td>1</td>\n",
       "      <td>2</td>\n",
       "      <td>1</td>\n",
       "    </tr>\n",
       "    <tr>\n",
       "      <th>3</th>\n",
       "      <td>4.0</td>\n",
       "      <td>0</td>\n",
       "      <td>21.0</td>\n",
       "      <td>1</td>\n",
       "      <td>11.0</td>\n",
       "      <td>0</td>\n",
       "      <td>0</td>\n",
       "      <td>0</td>\n",
       "    </tr>\n",
       "    <tr>\n",
       "      <th>4</th>\n",
       "      <td>5.0</td>\n",
       "      <td>1</td>\n",
       "      <td>29.0</td>\n",
       "      <td>1</td>\n",
       "      <td>41.0</td>\n",
       "      <td>0</td>\n",
       "      <td>0</td>\n",
       "      <td>0</td>\n",
       "    </tr>\n",
       "    <tr>\n",
       "      <th>...</th>\n",
       "      <td>...</td>\n",
       "      <td>...</td>\n",
       "      <td>...</td>\n",
       "      <td>...</td>\n",
       "      <td>...</td>\n",
       "      <td>...</td>\n",
       "      <td>...</td>\n",
       "      <td>...</td>\n",
       "    </tr>\n",
       "    <tr>\n",
       "      <th>381104</th>\n",
       "      <td>381105.0</td>\n",
       "      <td>0</td>\n",
       "      <td>74.0</td>\n",
       "      <td>1</td>\n",
       "      <td>26.0</td>\n",
       "      <td>0</td>\n",
       "      <td>1</td>\n",
       "      <td>0</td>\n",
       "    </tr>\n",
       "    <tr>\n",
       "      <th>381105</th>\n",
       "      <td>381106.0</td>\n",
       "      <td>0</td>\n",
       "      <td>30.0</td>\n",
       "      <td>1</td>\n",
       "      <td>37.0</td>\n",
       "      <td>0</td>\n",
       "      <td>0</td>\n",
       "      <td>0</td>\n",
       "    </tr>\n",
       "    <tr>\n",
       "      <th>381106</th>\n",
       "      <td>381107.0</td>\n",
       "      <td>0</td>\n",
       "      <td>21.0</td>\n",
       "      <td>1</td>\n",
       "      <td>30.0</td>\n",
       "      <td>0</td>\n",
       "      <td>0</td>\n",
       "      <td>0</td>\n",
       "    </tr>\n",
       "    <tr>\n",
       "      <th>381107</th>\n",
       "      <td>381108.0</td>\n",
       "      <td>1</td>\n",
       "      <td>68.0</td>\n",
       "      <td>1</td>\n",
       "      <td>14.0</td>\n",
       "      <td>1</td>\n",
       "      <td>2</td>\n",
       "      <td>1</td>\n",
       "    </tr>\n",
       "    <tr>\n",
       "      <th>381108</th>\n",
       "      <td>381109.0</td>\n",
       "      <td>0</td>\n",
       "      <td>46.0</td>\n",
       "      <td>1</td>\n",
       "      <td>29.0</td>\n",
       "      <td>1</td>\n",
       "      <td>1</td>\n",
       "      <td>0</td>\n",
       "    </tr>\n",
       "  </tbody>\n",
       "</table>\n",
       "<p>378049 rows × 8 columns</p>\n",
       "</div>"
      ],
      "text/plain": [
       "        customer_id  Gender   age  driving_licence_present  region code  \\\n",
       "0               1.0       0  44.0                        1         28.0   \n",
       "1               2.0       0  76.0                        1          3.0   \n",
       "2               3.0       0  47.0                        1         28.0   \n",
       "3               4.0       0  21.0                        1         11.0   \n",
       "4               5.0       1  29.0                        1         41.0   \n",
       "...             ...     ...   ...                      ...          ...   \n",
       "381104     381105.0       0  74.0                        1         26.0   \n",
       "381105     381106.0       0  30.0                        1         37.0   \n",
       "381106     381107.0       0  21.0                        1         30.0   \n",
       "381107     381108.0       1  68.0                        1         14.0   \n",
       "381108     381109.0       0  46.0                        1         29.0   \n",
       "\n",
       "        previously_insured  vehicle_age  vehicle_damage  \n",
       "0                        1            2               1  \n",
       "1                        1            1               0  \n",
       "2                        1            2               1  \n",
       "3                        0            0               0  \n",
       "4                        0            0               0  \n",
       "...                    ...          ...             ...  \n",
       "381104                   0            1               0  \n",
       "381105                   0            0               0  \n",
       "381106                   0            0               0  \n",
       "381107                   1            2               1  \n",
       "381108                   1            1               0  \n",
       "\n",
       "[378049 rows x 8 columns]"
      ]
     },
     "execution_count": 51,
     "metadata": {},
     "output_type": "execute_result"
    }
   ],
   "source": [
    "# Remove white spaces\n",
    "customerDetails.apply(lambda x : x.str.strip() if x.dtype == 'object' else x)"
   ]
  },
  {
   "cell_type": "code",
   "execution_count": 52,
   "id": "5a93d48c",
   "metadata": {},
   "outputs": [
    {
     "data": {
      "text/html": [
       "<div>\n",
       "<style scoped>\n",
       "    .dataframe tbody tr th:only-of-type {\n",
       "        vertical-align: middle;\n",
       "    }\n",
       "\n",
       "    .dataframe tbody tr th {\n",
       "        vertical-align: top;\n",
       "    }\n",
       "\n",
       "    .dataframe thead th {\n",
       "        text-align: right;\n",
       "    }\n",
       "</style>\n",
       "<table border=\"1\" class=\"dataframe\">\n",
       "  <thead>\n",
       "    <tr style=\"text-align: right;\">\n",
       "      <th></th>\n",
       "      <th>customer_id</th>\n",
       "      <th>annual premium (in Rs)</th>\n",
       "      <th>sales channel code</th>\n",
       "      <th>vintage</th>\n",
       "      <th>response</th>\n",
       "    </tr>\n",
       "  </thead>\n",
       "  <tbody>\n",
       "    <tr>\n",
       "      <th>0</th>\n",
       "      <td>1.0</td>\n",
       "      <td>40454.0</td>\n",
       "      <td>26.0</td>\n",
       "      <td>217.0</td>\n",
       "      <td>1.0</td>\n",
       "    </tr>\n",
       "    <tr>\n",
       "      <th>1</th>\n",
       "      <td>2.0</td>\n",
       "      <td>33536.0</td>\n",
       "      <td>26.0</td>\n",
       "      <td>183.0</td>\n",
       "      <td>0.0</td>\n",
       "    </tr>\n",
       "    <tr>\n",
       "      <th>2</th>\n",
       "      <td>3.0</td>\n",
       "      <td>38294.0</td>\n",
       "      <td>26.0</td>\n",
       "      <td>27.0</td>\n",
       "      <td>1.0</td>\n",
       "    </tr>\n",
       "    <tr>\n",
       "      <th>3</th>\n",
       "      <td>4.0</td>\n",
       "      <td>28619.0</td>\n",
       "      <td>152.0</td>\n",
       "      <td>203.0</td>\n",
       "      <td>0.0</td>\n",
       "    </tr>\n",
       "    <tr>\n",
       "      <th>4</th>\n",
       "      <td>5.0</td>\n",
       "      <td>27496.0</td>\n",
       "      <td>152.0</td>\n",
       "      <td>39.0</td>\n",
       "      <td>0.0</td>\n",
       "    </tr>\n",
       "    <tr>\n",
       "      <th>...</th>\n",
       "      <td>...</td>\n",
       "      <td>...</td>\n",
       "      <td>...</td>\n",
       "      <td>...</td>\n",
       "      <td>...</td>\n",
       "    </tr>\n",
       "    <tr>\n",
       "      <th>381104</th>\n",
       "      <td>381105.0</td>\n",
       "      <td>30170.0</td>\n",
       "      <td>26.0</td>\n",
       "      <td>88.0</td>\n",
       "      <td>0.0</td>\n",
       "    </tr>\n",
       "    <tr>\n",
       "      <th>381105</th>\n",
       "      <td>381106.0</td>\n",
       "      <td>40016.0</td>\n",
       "      <td>152.0</td>\n",
       "      <td>131.0</td>\n",
       "      <td>0.0</td>\n",
       "    </tr>\n",
       "    <tr>\n",
       "      <th>381106</th>\n",
       "      <td>381107.0</td>\n",
       "      <td>35118.0</td>\n",
       "      <td>160.0</td>\n",
       "      <td>161.0</td>\n",
       "      <td>0.0</td>\n",
       "    </tr>\n",
       "    <tr>\n",
       "      <th>381107</th>\n",
       "      <td>381108.0</td>\n",
       "      <td>44617.0</td>\n",
       "      <td>124.0</td>\n",
       "      <td>74.0</td>\n",
       "      <td>0.0</td>\n",
       "    </tr>\n",
       "    <tr>\n",
       "      <th>381108</th>\n",
       "      <td>381109.0</td>\n",
       "      <td>41777.0</td>\n",
       "      <td>26.0</td>\n",
       "      <td>237.0</td>\n",
       "      <td>0.0</td>\n",
       "    </tr>\n",
       "  </tbody>\n",
       "</table>\n",
       "<p>380722 rows × 5 columns</p>\n",
       "</div>"
      ],
      "text/plain": [
       "        customer_id  annual premium (in Rs)  sales channel code  vintage  \\\n",
       "0               1.0                 40454.0                26.0    217.0   \n",
       "1               2.0                 33536.0                26.0    183.0   \n",
       "2               3.0                 38294.0                26.0     27.0   \n",
       "3               4.0                 28619.0               152.0    203.0   \n",
       "4               5.0                 27496.0               152.0     39.0   \n",
       "...             ...                     ...                 ...      ...   \n",
       "381104     381105.0                 30170.0                26.0     88.0   \n",
       "381105     381106.0                 40016.0               152.0    131.0   \n",
       "381106     381107.0                 35118.0               160.0    161.0   \n",
       "381107     381108.0                 44617.0               124.0     74.0   \n",
       "381108     381109.0                 41777.0                26.0    237.0   \n",
       "\n",
       "        response  \n",
       "0            1.0  \n",
       "1            0.0  \n",
       "2            1.0  \n",
       "3            0.0  \n",
       "4            0.0  \n",
       "...          ...  \n",
       "381104       0.0  \n",
       "381105       0.0  \n",
       "381106       0.0  \n",
       "381107       0.0  \n",
       "381108       0.0  \n",
       "\n",
       "[380722 rows x 5 columns]"
      ]
     },
     "execution_count": 52,
     "metadata": {},
     "output_type": "execute_result"
    }
   ],
   "source": [
    "customerPolDetails.apply(lambda x : x.str.strip() if x.dtype == 'object' else x)"
   ]
  },
  {
   "cell_type": "code",
   "execution_count": 53,
   "id": "e6ba9f66",
   "metadata": {},
   "outputs": [
    {
     "data": {
      "text/html": [
       "<div>\n",
       "<style scoped>\n",
       "    .dataframe tbody tr th:only-of-type {\n",
       "        vertical-align: middle;\n",
       "    }\n",
       "\n",
       "    .dataframe tbody tr th {\n",
       "        vertical-align: top;\n",
       "    }\n",
       "\n",
       "    .dataframe thead th {\n",
       "        text-align: right;\n",
       "    }\n",
       "</style>\n",
       "<table border=\"1\" class=\"dataframe\">\n",
       "  <thead>\n",
       "    <tr style=\"text-align: right;\">\n",
       "      <th></th>\n",
       "      <th>customer_id</th>\n",
       "      <th>Gender</th>\n",
       "      <th>age</th>\n",
       "      <th>driving_licence_present</th>\n",
       "      <th>region code</th>\n",
       "      <th>previously_insured</th>\n",
       "      <th>vehicle_age</th>\n",
       "      <th>vehicle_damage</th>\n",
       "    </tr>\n",
       "  </thead>\n",
       "  <tbody>\n",
       "    <tr>\n",
       "      <th>0</th>\n",
       "      <td>1.0</td>\n",
       "      <td>0</td>\n",
       "      <td>44.0</td>\n",
       "      <td>1</td>\n",
       "      <td>28.0</td>\n",
       "      <td>1</td>\n",
       "      <td>2</td>\n",
       "      <td>1</td>\n",
       "    </tr>\n",
       "    <tr>\n",
       "      <th>1</th>\n",
       "      <td>2.0</td>\n",
       "      <td>0</td>\n",
       "      <td>76.0</td>\n",
       "      <td>1</td>\n",
       "      <td>3.0</td>\n",
       "      <td>1</td>\n",
       "      <td>1</td>\n",
       "      <td>0</td>\n",
       "    </tr>\n",
       "    <tr>\n",
       "      <th>2</th>\n",
       "      <td>3.0</td>\n",
       "      <td>0</td>\n",
       "      <td>47.0</td>\n",
       "      <td>1</td>\n",
       "      <td>28.0</td>\n",
       "      <td>1</td>\n",
       "      <td>2</td>\n",
       "      <td>1</td>\n",
       "    </tr>\n",
       "    <tr>\n",
       "      <th>3</th>\n",
       "      <td>4.0</td>\n",
       "      <td>0</td>\n",
       "      <td>21.0</td>\n",
       "      <td>1</td>\n",
       "      <td>11.0</td>\n",
       "      <td>0</td>\n",
       "      <td>0</td>\n",
       "      <td>0</td>\n",
       "    </tr>\n",
       "    <tr>\n",
       "      <th>4</th>\n",
       "      <td>5.0</td>\n",
       "      <td>1</td>\n",
       "      <td>29.0</td>\n",
       "      <td>1</td>\n",
       "      <td>41.0</td>\n",
       "      <td>0</td>\n",
       "      <td>0</td>\n",
       "      <td>0</td>\n",
       "    </tr>\n",
       "    <tr>\n",
       "      <th>...</th>\n",
       "      <td>...</td>\n",
       "      <td>...</td>\n",
       "      <td>...</td>\n",
       "      <td>...</td>\n",
       "      <td>...</td>\n",
       "      <td>...</td>\n",
       "      <td>...</td>\n",
       "      <td>...</td>\n",
       "    </tr>\n",
       "    <tr>\n",
       "      <th>381104</th>\n",
       "      <td>381105.0</td>\n",
       "      <td>0</td>\n",
       "      <td>74.0</td>\n",
       "      <td>1</td>\n",
       "      <td>26.0</td>\n",
       "      <td>0</td>\n",
       "      <td>1</td>\n",
       "      <td>0</td>\n",
       "    </tr>\n",
       "    <tr>\n",
       "      <th>381105</th>\n",
       "      <td>381106.0</td>\n",
       "      <td>0</td>\n",
       "      <td>30.0</td>\n",
       "      <td>1</td>\n",
       "      <td>37.0</td>\n",
       "      <td>0</td>\n",
       "      <td>0</td>\n",
       "      <td>0</td>\n",
       "    </tr>\n",
       "    <tr>\n",
       "      <th>381106</th>\n",
       "      <td>381107.0</td>\n",
       "      <td>0</td>\n",
       "      <td>21.0</td>\n",
       "      <td>1</td>\n",
       "      <td>30.0</td>\n",
       "      <td>0</td>\n",
       "      <td>0</td>\n",
       "      <td>0</td>\n",
       "    </tr>\n",
       "    <tr>\n",
       "      <th>381107</th>\n",
       "      <td>381108.0</td>\n",
       "      <td>1</td>\n",
       "      <td>68.0</td>\n",
       "      <td>1</td>\n",
       "      <td>14.0</td>\n",
       "      <td>1</td>\n",
       "      <td>2</td>\n",
       "      <td>1</td>\n",
       "    </tr>\n",
       "    <tr>\n",
       "      <th>381108</th>\n",
       "      <td>381109.0</td>\n",
       "      <td>0</td>\n",
       "      <td>46.0</td>\n",
       "      <td>1</td>\n",
       "      <td>29.0</td>\n",
       "      <td>1</td>\n",
       "      <td>1</td>\n",
       "      <td>0</td>\n",
       "    </tr>\n",
       "  </tbody>\n",
       "</table>\n",
       "<p>378049 rows × 8 columns</p>\n",
       "</div>"
      ],
      "text/plain": [
       "        customer_id  Gender   age  driving_licence_present  region code  \\\n",
       "0               1.0       0  44.0                        1         28.0   \n",
       "1               2.0       0  76.0                        1          3.0   \n",
       "2               3.0       0  47.0                        1         28.0   \n",
       "3               4.0       0  21.0                        1         11.0   \n",
       "4               5.0       1  29.0                        1         41.0   \n",
       "...             ...     ...   ...                      ...          ...   \n",
       "381104     381105.0       0  74.0                        1         26.0   \n",
       "381105     381106.0       0  30.0                        1         37.0   \n",
       "381106     381107.0       0  21.0                        1         30.0   \n",
       "381107     381108.0       1  68.0                        1         14.0   \n",
       "381108     381109.0       0  46.0                        1         29.0   \n",
       "\n",
       "        previously_insured  vehicle_age  vehicle_damage  \n",
       "0                        1            2               1  \n",
       "1                        1            1               0  \n",
       "2                        1            2               1  \n",
       "3                        0            0               0  \n",
       "4                        0            0               0  \n",
       "...                    ...          ...             ...  \n",
       "381104                   0            1               0  \n",
       "381105                   0            0               0  \n",
       "381106                   0            0               0  \n",
       "381107                   1            2               1  \n",
       "381108                   1            1               0  \n",
       "\n",
       "[378049 rows x 8 columns]"
      ]
     },
     "execution_count": 53,
     "metadata": {},
     "output_type": "execute_result"
    }
   ],
   "source": [
    "# case correction(lower or upper, any one) \n",
    "customerDetails.apply(lambda x : x.str.upper() if x.dtype == 'object' else x)"
   ]
  },
  {
   "cell_type": "code",
   "execution_count": 61,
   "id": "36561398",
   "metadata": {},
   "outputs": [],
   "source": [
    "#  Convert nominal data (categorical) into dummies \n",
    "# for future modeling use if required\n",
    "dummy_variable = pd.get_dummies(customerDetails['vehicle_damage'])\n",
    "dummy_variable.rename(columns={'No':'vehicle_damage - No','Yes':'vehicle_damage - Yes'}, inplace = True)"
   ]
  },
  {
   "cell_type": "code",
   "execution_count": 62,
   "id": "0b1ad03c",
   "metadata": {},
   "outputs": [
    {
     "data": {
      "text/html": [
       "<div>\n",
       "<style scoped>\n",
       "    .dataframe tbody tr th:only-of-type {\n",
       "        vertical-align: middle;\n",
       "    }\n",
       "\n",
       "    .dataframe tbody tr th {\n",
       "        vertical-align: top;\n",
       "    }\n",
       "\n",
       "    .dataframe thead th {\n",
       "        text-align: right;\n",
       "    }\n",
       "</style>\n",
       "<table border=\"1\" class=\"dataframe\">\n",
       "  <thead>\n",
       "    <tr style=\"text-align: right;\">\n",
       "      <th></th>\n",
       "      <th>0</th>\n",
       "      <th>1</th>\n",
       "    </tr>\n",
       "  </thead>\n",
       "  <tbody>\n",
       "    <tr>\n",
       "      <th>0</th>\n",
       "      <td>0</td>\n",
       "      <td>1</td>\n",
       "    </tr>\n",
       "    <tr>\n",
       "      <th>1</th>\n",
       "      <td>1</td>\n",
       "      <td>0</td>\n",
       "    </tr>\n",
       "    <tr>\n",
       "      <th>2</th>\n",
       "      <td>0</td>\n",
       "      <td>1</td>\n",
       "    </tr>\n",
       "    <tr>\n",
       "      <th>3</th>\n",
       "      <td>1</td>\n",
       "      <td>0</td>\n",
       "    </tr>\n",
       "    <tr>\n",
       "      <th>4</th>\n",
       "      <td>1</td>\n",
       "      <td>0</td>\n",
       "    </tr>\n",
       "  </tbody>\n",
       "</table>\n",
       "</div>"
      ],
      "text/plain": [
       "   0  1\n",
       "0  0  1\n",
       "1  1  0\n",
       "2  0  1\n",
       "3  1  0\n",
       "4  1  0"
      ]
     },
     "execution_count": 62,
     "metadata": {},
     "output_type": "execute_result"
    }
   ],
   "source": [
    "dummy_variable.head(5)"
   ]
  },
  {
   "cell_type": "code",
   "execution_count": 64,
   "id": "7f549286",
   "metadata": {},
   "outputs": [],
   "source": [
    "customerDetails = pd.concat([customerDetails, dummy_variable], axis = 1)"
   ]
  },
  {
   "cell_type": "code",
   "execution_count": 65,
   "id": "a6b33bee",
   "metadata": {},
   "outputs": [
    {
     "data": {
      "text/html": [
       "<div>\n",
       "<style scoped>\n",
       "    .dataframe tbody tr th:only-of-type {\n",
       "        vertical-align: middle;\n",
       "    }\n",
       "\n",
       "    .dataframe tbody tr th {\n",
       "        vertical-align: top;\n",
       "    }\n",
       "\n",
       "    .dataframe thead th {\n",
       "        text-align: right;\n",
       "    }\n",
       "</style>\n",
       "<table border=\"1\" class=\"dataframe\">\n",
       "  <thead>\n",
       "    <tr style=\"text-align: right;\">\n",
       "      <th></th>\n",
       "      <th>customer_id</th>\n",
       "      <th>Gender</th>\n",
       "      <th>age</th>\n",
       "      <th>driving_licence_present</th>\n",
       "      <th>region code</th>\n",
       "      <th>previously_insured</th>\n",
       "      <th>vehicle_age</th>\n",
       "      <th>vehicle_damage</th>\n",
       "      <th>0</th>\n",
       "      <th>1</th>\n",
       "    </tr>\n",
       "  </thead>\n",
       "  <tbody>\n",
       "    <tr>\n",
       "      <th>0</th>\n",
       "      <td>1.0</td>\n",
       "      <td>0</td>\n",
       "      <td>44.0</td>\n",
       "      <td>1</td>\n",
       "      <td>28.0</td>\n",
       "      <td>1</td>\n",
       "      <td>2</td>\n",
       "      <td>1</td>\n",
       "      <td>0</td>\n",
       "      <td>1</td>\n",
       "    </tr>\n",
       "    <tr>\n",
       "      <th>1</th>\n",
       "      <td>2.0</td>\n",
       "      <td>0</td>\n",
       "      <td>76.0</td>\n",
       "      <td>1</td>\n",
       "      <td>3.0</td>\n",
       "      <td>1</td>\n",
       "      <td>1</td>\n",
       "      <td>0</td>\n",
       "      <td>1</td>\n",
       "      <td>0</td>\n",
       "    </tr>\n",
       "    <tr>\n",
       "      <th>2</th>\n",
       "      <td>3.0</td>\n",
       "      <td>0</td>\n",
       "      <td>47.0</td>\n",
       "      <td>1</td>\n",
       "      <td>28.0</td>\n",
       "      <td>1</td>\n",
       "      <td>2</td>\n",
       "      <td>1</td>\n",
       "      <td>0</td>\n",
       "      <td>1</td>\n",
       "    </tr>\n",
       "    <tr>\n",
       "      <th>3</th>\n",
       "      <td>4.0</td>\n",
       "      <td>0</td>\n",
       "      <td>21.0</td>\n",
       "      <td>1</td>\n",
       "      <td>11.0</td>\n",
       "      <td>0</td>\n",
       "      <td>0</td>\n",
       "      <td>0</td>\n",
       "      <td>1</td>\n",
       "      <td>0</td>\n",
       "    </tr>\n",
       "    <tr>\n",
       "      <th>4</th>\n",
       "      <td>5.0</td>\n",
       "      <td>1</td>\n",
       "      <td>29.0</td>\n",
       "      <td>1</td>\n",
       "      <td>41.0</td>\n",
       "      <td>0</td>\n",
       "      <td>0</td>\n",
       "      <td>0</td>\n",
       "      <td>1</td>\n",
       "      <td>0</td>\n",
       "    </tr>\n",
       "  </tbody>\n",
       "</table>\n",
       "</div>"
      ],
      "text/plain": [
       "   customer_id  Gender   age  driving_licence_present  region code  \\\n",
       "0          1.0       0  44.0                        1         28.0   \n",
       "1          2.0       0  76.0                        1          3.0   \n",
       "2          3.0       0  47.0                        1         28.0   \n",
       "3          4.0       0  21.0                        1         11.0   \n",
       "4          5.0       1  29.0                        1         41.0   \n",
       "\n",
       "   previously_insured  vehicle_age  vehicle_damage  0  1  \n",
       "0                   1            2               1  0  1  \n",
       "1                   1            1               0  1  0  \n",
       "2                   1            2               1  0  1  \n",
       "3                   0            0               0  1  0  \n",
       "4                   0            0               0  1  0  "
      ]
     },
     "execution_count": 65,
     "metadata": {},
     "output_type": "execute_result"
    }
   ],
   "source": [
    "customerDetails.head(5)"
   ]
  },
  {
   "cell_type": "code",
   "execution_count": 66,
   "id": "26a3bda4",
   "metadata": {},
   "outputs": [
    {
     "data": {
      "text/html": [
       "<div>\n",
       "<style scoped>\n",
       "    .dataframe tbody tr th:only-of-type {\n",
       "        vertical-align: middle;\n",
       "    }\n",
       "\n",
       "    .dataframe tbody tr th {\n",
       "        vertical-align: top;\n",
       "    }\n",
       "\n",
       "    .dataframe thead th {\n",
       "        text-align: right;\n",
       "    }\n",
       "</style>\n",
       "<table border=\"1\" class=\"dataframe\">\n",
       "  <thead>\n",
       "    <tr style=\"text-align: right;\">\n",
       "      <th></th>\n",
       "      <th>customer_id</th>\n",
       "      <th>Gender</th>\n",
       "      <th>age</th>\n",
       "      <th>driving_licence_present</th>\n",
       "      <th>region code</th>\n",
       "      <th>previously_insured</th>\n",
       "      <th>vehicle_age</th>\n",
       "      <th>0</th>\n",
       "      <th>1</th>\n",
       "    </tr>\n",
       "  </thead>\n",
       "  <tbody>\n",
       "    <tr>\n",
       "      <th>0</th>\n",
       "      <td>1.0</td>\n",
       "      <td>0</td>\n",
       "      <td>44.0</td>\n",
       "      <td>1</td>\n",
       "      <td>28.0</td>\n",
       "      <td>1</td>\n",
       "      <td>2</td>\n",
       "      <td>0</td>\n",
       "      <td>1</td>\n",
       "    </tr>\n",
       "    <tr>\n",
       "      <th>1</th>\n",
       "      <td>2.0</td>\n",
       "      <td>0</td>\n",
       "      <td>76.0</td>\n",
       "      <td>1</td>\n",
       "      <td>3.0</td>\n",
       "      <td>1</td>\n",
       "      <td>1</td>\n",
       "      <td>1</td>\n",
       "      <td>0</td>\n",
       "    </tr>\n",
       "    <tr>\n",
       "      <th>2</th>\n",
       "      <td>3.0</td>\n",
       "      <td>0</td>\n",
       "      <td>47.0</td>\n",
       "      <td>1</td>\n",
       "      <td>28.0</td>\n",
       "      <td>1</td>\n",
       "      <td>2</td>\n",
       "      <td>0</td>\n",
       "      <td>1</td>\n",
       "    </tr>\n",
       "    <tr>\n",
       "      <th>3</th>\n",
       "      <td>4.0</td>\n",
       "      <td>0</td>\n",
       "      <td>21.0</td>\n",
       "      <td>1</td>\n",
       "      <td>11.0</td>\n",
       "      <td>0</td>\n",
       "      <td>0</td>\n",
       "      <td>1</td>\n",
       "      <td>0</td>\n",
       "    </tr>\n",
       "    <tr>\n",
       "      <th>4</th>\n",
       "      <td>5.0</td>\n",
       "      <td>1</td>\n",
       "      <td>29.0</td>\n",
       "      <td>1</td>\n",
       "      <td>41.0</td>\n",
       "      <td>0</td>\n",
       "      <td>0</td>\n",
       "      <td>1</td>\n",
       "      <td>0</td>\n",
       "    </tr>\n",
       "  </tbody>\n",
       "</table>\n",
       "</div>"
      ],
      "text/plain": [
       "   customer_id  Gender   age  driving_licence_present  region code  \\\n",
       "0          1.0       0  44.0                        1         28.0   \n",
       "1          2.0       0  76.0                        1          3.0   \n",
       "2          3.0       0  47.0                        1         28.0   \n",
       "3          4.0       0  21.0                        1         11.0   \n",
       "4          5.0       1  29.0                        1         41.0   \n",
       "\n",
       "   previously_insured  vehicle_age  0  1  \n",
       "0                   1            2  0  1  \n",
       "1                   1            1  1  0  \n",
       "2                   1            2  0  1  \n",
       "3                   0            0  1  0  \n",
       "4                   0            0  1  0  "
      ]
     },
     "execution_count": 66,
     "metadata": {},
     "output_type": "execute_result"
    }
   ],
   "source": [
    "# Drop Duplicates (duplicated rows)\n",
    "customerDetails.drop(\"vehicle_damage\", axis = 1, inplace =True)\n",
    "customerDetails.head(5)"
   ]
  },
  {
   "cell_type": "markdown",
   "id": "11e6f974",
   "metadata": {},
   "source": [
    "### Q3.Create a Master table for future use. Join the customer table and customer_policy table to get a master table using customer_id in both tables."
   ]
  },
  {
   "cell_type": "code",
   "execution_count": 48,
   "id": "4ce73622",
   "metadata": {},
   "outputs": [
    {
     "data": {
      "text/html": [
       "<div>\n",
       "<style scoped>\n",
       "    .dataframe tbody tr th:only-of-type {\n",
       "        vertical-align: middle;\n",
       "    }\n",
       "\n",
       "    .dataframe tbody tr th {\n",
       "        vertical-align: top;\n",
       "    }\n",
       "\n",
       "    .dataframe thead th {\n",
       "        text-align: right;\n",
       "    }\n",
       "</style>\n",
       "<table border=\"1\" class=\"dataframe\">\n",
       "  <thead>\n",
       "    <tr style=\"text-align: right;\">\n",
       "      <th></th>\n",
       "      <th>customer_id</th>\n",
       "      <th>Gender</th>\n",
       "      <th>age</th>\n",
       "      <th>driving_licence_present</th>\n",
       "      <th>region code</th>\n",
       "      <th>previously_insured</th>\n",
       "      <th>vehicle_age</th>\n",
       "      <th>vehicle_damage</th>\n",
       "    </tr>\n",
       "  </thead>\n",
       "  <tbody>\n",
       "    <tr>\n",
       "      <th>0</th>\n",
       "      <td>1.0</td>\n",
       "      <td>0</td>\n",
       "      <td>44.0</td>\n",
       "      <td>1</td>\n",
       "      <td>28.0</td>\n",
       "      <td>1</td>\n",
       "      <td>2</td>\n",
       "      <td>1</td>\n",
       "    </tr>\n",
       "    <tr>\n",
       "      <th>1</th>\n",
       "      <td>2.0</td>\n",
       "      <td>0</td>\n",
       "      <td>76.0</td>\n",
       "      <td>1</td>\n",
       "      <td>3.0</td>\n",
       "      <td>1</td>\n",
       "      <td>1</td>\n",
       "      <td>0</td>\n",
       "    </tr>\n",
       "    <tr>\n",
       "      <th>2</th>\n",
       "      <td>3.0</td>\n",
       "      <td>0</td>\n",
       "      <td>47.0</td>\n",
       "      <td>1</td>\n",
       "      <td>28.0</td>\n",
       "      <td>1</td>\n",
       "      <td>2</td>\n",
       "      <td>1</td>\n",
       "    </tr>\n",
       "    <tr>\n",
       "      <th>3</th>\n",
       "      <td>4.0</td>\n",
       "      <td>0</td>\n",
       "      <td>21.0</td>\n",
       "      <td>1</td>\n",
       "      <td>11.0</td>\n",
       "      <td>0</td>\n",
       "      <td>0</td>\n",
       "      <td>0</td>\n",
       "    </tr>\n",
       "    <tr>\n",
       "      <th>4</th>\n",
       "      <td>5.0</td>\n",
       "      <td>1</td>\n",
       "      <td>29.0</td>\n",
       "      <td>1</td>\n",
       "      <td>41.0</td>\n",
       "      <td>0</td>\n",
       "      <td>0</td>\n",
       "      <td>0</td>\n",
       "    </tr>\n",
       "    <tr>\n",
       "      <th>...</th>\n",
       "      <td>...</td>\n",
       "      <td>...</td>\n",
       "      <td>...</td>\n",
       "      <td>...</td>\n",
       "      <td>...</td>\n",
       "      <td>...</td>\n",
       "      <td>...</td>\n",
       "      <td>...</td>\n",
       "    </tr>\n",
       "    <tr>\n",
       "      <th>381104</th>\n",
       "      <td>381105.0</td>\n",
       "      <td>0</td>\n",
       "      <td>74.0</td>\n",
       "      <td>1</td>\n",
       "      <td>26.0</td>\n",
       "      <td>0</td>\n",
       "      <td>1</td>\n",
       "      <td>0</td>\n",
       "    </tr>\n",
       "    <tr>\n",
       "      <th>381105</th>\n",
       "      <td>381106.0</td>\n",
       "      <td>0</td>\n",
       "      <td>30.0</td>\n",
       "      <td>1</td>\n",
       "      <td>37.0</td>\n",
       "      <td>0</td>\n",
       "      <td>0</td>\n",
       "      <td>0</td>\n",
       "    </tr>\n",
       "    <tr>\n",
       "      <th>381106</th>\n",
       "      <td>381107.0</td>\n",
       "      <td>0</td>\n",
       "      <td>21.0</td>\n",
       "      <td>1</td>\n",
       "      <td>30.0</td>\n",
       "      <td>0</td>\n",
       "      <td>0</td>\n",
       "      <td>0</td>\n",
       "    </tr>\n",
       "    <tr>\n",
       "      <th>381107</th>\n",
       "      <td>381108.0</td>\n",
       "      <td>1</td>\n",
       "      <td>68.0</td>\n",
       "      <td>1</td>\n",
       "      <td>14.0</td>\n",
       "      <td>1</td>\n",
       "      <td>2</td>\n",
       "      <td>1</td>\n",
       "    </tr>\n",
       "    <tr>\n",
       "      <th>381108</th>\n",
       "      <td>381109.0</td>\n",
       "      <td>0</td>\n",
       "      <td>46.0</td>\n",
       "      <td>1</td>\n",
       "      <td>29.0</td>\n",
       "      <td>1</td>\n",
       "      <td>1</td>\n",
       "      <td>0</td>\n",
       "    </tr>\n",
       "  </tbody>\n",
       "</table>\n",
       "<p>378049 rows × 8 columns</p>\n",
       "</div>"
      ],
      "text/plain": [
       "        customer_id  Gender   age  driving_licence_present  region code  \\\n",
       "0               1.0       0  44.0                        1         28.0   \n",
       "1               2.0       0  76.0                        1          3.0   \n",
       "2               3.0       0  47.0                        1         28.0   \n",
       "3               4.0       0  21.0                        1         11.0   \n",
       "4               5.0       1  29.0                        1         41.0   \n",
       "...             ...     ...   ...                      ...          ...   \n",
       "381104     381105.0       0  74.0                        1         26.0   \n",
       "381105     381106.0       0  30.0                        1         37.0   \n",
       "381106     381107.0       0  21.0                        1         30.0   \n",
       "381107     381108.0       1  68.0                        1         14.0   \n",
       "381108     381109.0       0  46.0                        1         29.0   \n",
       "\n",
       "        previously_insured  vehicle_age  vehicle_damage  \n",
       "0                        1            2               1  \n",
       "1                        1            1               0  \n",
       "2                        1            2               1  \n",
       "3                        0            0               0  \n",
       "4                        0            0               0  \n",
       "...                    ...          ...             ...  \n",
       "381104                   0            1               0  \n",
       "381105                   0            0               0  \n",
       "381106                   0            0               0  \n",
       "381107                   1            2               1  \n",
       "381108                   1            1               0  \n",
       "\n",
       "[378049 rows x 8 columns]"
      ]
     },
     "execution_count": 48,
     "metadata": {},
     "output_type": "execute_result"
    }
   ],
   "source": [
    "customerDetails"
   ]
  },
  {
   "cell_type": "code",
   "execution_count": 49,
   "id": "91fdc630",
   "metadata": {},
   "outputs": [
    {
     "data": {
      "text/html": [
       "<div>\n",
       "<style scoped>\n",
       "    .dataframe tbody tr th:only-of-type {\n",
       "        vertical-align: middle;\n",
       "    }\n",
       "\n",
       "    .dataframe tbody tr th {\n",
       "        vertical-align: top;\n",
       "    }\n",
       "\n",
       "    .dataframe thead th {\n",
       "        text-align: right;\n",
       "    }\n",
       "</style>\n",
       "<table border=\"1\" class=\"dataframe\">\n",
       "  <thead>\n",
       "    <tr style=\"text-align: right;\">\n",
       "      <th></th>\n",
       "      <th>customer_id</th>\n",
       "      <th>annual premium (in Rs)</th>\n",
       "      <th>sales channel code</th>\n",
       "      <th>vintage</th>\n",
       "      <th>response</th>\n",
       "    </tr>\n",
       "  </thead>\n",
       "  <tbody>\n",
       "    <tr>\n",
       "      <th>0</th>\n",
       "      <td>1.0</td>\n",
       "      <td>40454.0</td>\n",
       "      <td>26.0</td>\n",
       "      <td>217.0</td>\n",
       "      <td>1.0</td>\n",
       "    </tr>\n",
       "    <tr>\n",
       "      <th>1</th>\n",
       "      <td>2.0</td>\n",
       "      <td>33536.0</td>\n",
       "      <td>26.0</td>\n",
       "      <td>183.0</td>\n",
       "      <td>0.0</td>\n",
       "    </tr>\n",
       "    <tr>\n",
       "      <th>2</th>\n",
       "      <td>3.0</td>\n",
       "      <td>38294.0</td>\n",
       "      <td>26.0</td>\n",
       "      <td>27.0</td>\n",
       "      <td>1.0</td>\n",
       "    </tr>\n",
       "    <tr>\n",
       "      <th>3</th>\n",
       "      <td>4.0</td>\n",
       "      <td>28619.0</td>\n",
       "      <td>152.0</td>\n",
       "      <td>203.0</td>\n",
       "      <td>0.0</td>\n",
       "    </tr>\n",
       "    <tr>\n",
       "      <th>4</th>\n",
       "      <td>5.0</td>\n",
       "      <td>27496.0</td>\n",
       "      <td>152.0</td>\n",
       "      <td>39.0</td>\n",
       "      <td>0.0</td>\n",
       "    </tr>\n",
       "    <tr>\n",
       "      <th>...</th>\n",
       "      <td>...</td>\n",
       "      <td>...</td>\n",
       "      <td>...</td>\n",
       "      <td>...</td>\n",
       "      <td>...</td>\n",
       "    </tr>\n",
       "    <tr>\n",
       "      <th>381104</th>\n",
       "      <td>381105.0</td>\n",
       "      <td>30170.0</td>\n",
       "      <td>26.0</td>\n",
       "      <td>88.0</td>\n",
       "      <td>0.0</td>\n",
       "    </tr>\n",
       "    <tr>\n",
       "      <th>381105</th>\n",
       "      <td>381106.0</td>\n",
       "      <td>40016.0</td>\n",
       "      <td>152.0</td>\n",
       "      <td>131.0</td>\n",
       "      <td>0.0</td>\n",
       "    </tr>\n",
       "    <tr>\n",
       "      <th>381106</th>\n",
       "      <td>381107.0</td>\n",
       "      <td>35118.0</td>\n",
       "      <td>160.0</td>\n",
       "      <td>161.0</td>\n",
       "      <td>0.0</td>\n",
       "    </tr>\n",
       "    <tr>\n",
       "      <th>381107</th>\n",
       "      <td>381108.0</td>\n",
       "      <td>44617.0</td>\n",
       "      <td>124.0</td>\n",
       "      <td>74.0</td>\n",
       "      <td>0.0</td>\n",
       "    </tr>\n",
       "    <tr>\n",
       "      <th>381108</th>\n",
       "      <td>381109.0</td>\n",
       "      <td>41777.0</td>\n",
       "      <td>26.0</td>\n",
       "      <td>237.0</td>\n",
       "      <td>0.0</td>\n",
       "    </tr>\n",
       "  </tbody>\n",
       "</table>\n",
       "<p>380722 rows × 5 columns</p>\n",
       "</div>"
      ],
      "text/plain": [
       "        customer_id  annual premium (in Rs)  sales channel code  vintage  \\\n",
       "0               1.0                 40454.0                26.0    217.0   \n",
       "1               2.0                 33536.0                26.0    183.0   \n",
       "2               3.0                 38294.0                26.0     27.0   \n",
       "3               4.0                 28619.0               152.0    203.0   \n",
       "4               5.0                 27496.0               152.0     39.0   \n",
       "...             ...                     ...                 ...      ...   \n",
       "381104     381105.0                 30170.0                26.0     88.0   \n",
       "381105     381106.0                 40016.0               152.0    131.0   \n",
       "381106     381107.0                 35118.0               160.0    161.0   \n",
       "381107     381108.0                 44617.0               124.0     74.0   \n",
       "381108     381109.0                 41777.0                26.0    237.0   \n",
       "\n",
       "        response  \n",
       "0            1.0  \n",
       "1            0.0  \n",
       "2            1.0  \n",
       "3            0.0  \n",
       "4            0.0  \n",
       "...          ...  \n",
       "381104       0.0  \n",
       "381105       0.0  \n",
       "381106       0.0  \n",
       "381107       0.0  \n",
       "381108       0.0  \n",
       "\n",
       "[380722 rows x 5 columns]"
      ]
     },
     "execution_count": 49,
     "metadata": {},
     "output_type": "execute_result"
    }
   ],
   "source": [
    "customerPolDetails"
   ]
  },
  {
   "cell_type": "code",
   "execution_count": 50,
   "id": "0026a97a",
   "metadata": {},
   "outputs": [],
   "source": [
    "master_table = pd.merge(customerDetails,customerPolDetails)"
   ]
  },
  {
   "cell_type": "code",
   "execution_count": 51,
   "id": "bce03c38",
   "metadata": {},
   "outputs": [
    {
     "data": {
      "text/html": [
       "<div>\n",
       "<style scoped>\n",
       "    .dataframe tbody tr th:only-of-type {\n",
       "        vertical-align: middle;\n",
       "    }\n",
       "\n",
       "    .dataframe tbody tr th {\n",
       "        vertical-align: top;\n",
       "    }\n",
       "\n",
       "    .dataframe thead th {\n",
       "        text-align: right;\n",
       "    }\n",
       "</style>\n",
       "<table border=\"1\" class=\"dataframe\">\n",
       "  <thead>\n",
       "    <tr style=\"text-align: right;\">\n",
       "      <th></th>\n",
       "      <th>customer_id</th>\n",
       "      <th>Gender</th>\n",
       "      <th>age</th>\n",
       "      <th>driving_licence_present</th>\n",
       "      <th>region code</th>\n",
       "      <th>previously_insured</th>\n",
       "      <th>vehicle_age</th>\n",
       "      <th>vehicle_damage</th>\n",
       "      <th>annual premium (in Rs)</th>\n",
       "      <th>sales channel code</th>\n",
       "      <th>vintage</th>\n",
       "      <th>response</th>\n",
       "    </tr>\n",
       "  </thead>\n",
       "  <tbody>\n",
       "    <tr>\n",
       "      <th>0</th>\n",
       "      <td>1.0</td>\n",
       "      <td>0</td>\n",
       "      <td>44.0</td>\n",
       "      <td>1</td>\n",
       "      <td>28.0</td>\n",
       "      <td>1</td>\n",
       "      <td>2</td>\n",
       "      <td>1</td>\n",
       "      <td>40454.0</td>\n",
       "      <td>26.0</td>\n",
       "      <td>217.0</td>\n",
       "      <td>1.0</td>\n",
       "    </tr>\n",
       "    <tr>\n",
       "      <th>1</th>\n",
       "      <td>2.0</td>\n",
       "      <td>0</td>\n",
       "      <td>76.0</td>\n",
       "      <td>1</td>\n",
       "      <td>3.0</td>\n",
       "      <td>1</td>\n",
       "      <td>1</td>\n",
       "      <td>0</td>\n",
       "      <td>33536.0</td>\n",
       "      <td>26.0</td>\n",
       "      <td>183.0</td>\n",
       "      <td>0.0</td>\n",
       "    </tr>\n",
       "    <tr>\n",
       "      <th>2</th>\n",
       "      <td>3.0</td>\n",
       "      <td>0</td>\n",
       "      <td>47.0</td>\n",
       "      <td>1</td>\n",
       "      <td>28.0</td>\n",
       "      <td>1</td>\n",
       "      <td>2</td>\n",
       "      <td>1</td>\n",
       "      <td>38294.0</td>\n",
       "      <td>26.0</td>\n",
       "      <td>27.0</td>\n",
       "      <td>1.0</td>\n",
       "    </tr>\n",
       "    <tr>\n",
       "      <th>3</th>\n",
       "      <td>4.0</td>\n",
       "      <td>0</td>\n",
       "      <td>21.0</td>\n",
       "      <td>1</td>\n",
       "      <td>11.0</td>\n",
       "      <td>0</td>\n",
       "      <td>0</td>\n",
       "      <td>0</td>\n",
       "      <td>28619.0</td>\n",
       "      <td>152.0</td>\n",
       "      <td>203.0</td>\n",
       "      <td>0.0</td>\n",
       "    </tr>\n",
       "    <tr>\n",
       "      <th>4</th>\n",
       "      <td>5.0</td>\n",
       "      <td>1</td>\n",
       "      <td>29.0</td>\n",
       "      <td>1</td>\n",
       "      <td>41.0</td>\n",
       "      <td>0</td>\n",
       "      <td>0</td>\n",
       "      <td>0</td>\n",
       "      <td>27496.0</td>\n",
       "      <td>152.0</td>\n",
       "      <td>39.0</td>\n",
       "      <td>0.0</td>\n",
       "    </tr>\n",
       "    <tr>\n",
       "      <th>...</th>\n",
       "      <td>...</td>\n",
       "      <td>...</td>\n",
       "      <td>...</td>\n",
       "      <td>...</td>\n",
       "      <td>...</td>\n",
       "      <td>...</td>\n",
       "      <td>...</td>\n",
       "      <td>...</td>\n",
       "      <td>...</td>\n",
       "      <td>...</td>\n",
       "      <td>...</td>\n",
       "      <td>...</td>\n",
       "    </tr>\n",
       "    <tr>\n",
       "      <th>377658</th>\n",
       "      <td>381105.0</td>\n",
       "      <td>0</td>\n",
       "      <td>74.0</td>\n",
       "      <td>1</td>\n",
       "      <td>26.0</td>\n",
       "      <td>0</td>\n",
       "      <td>1</td>\n",
       "      <td>0</td>\n",
       "      <td>30170.0</td>\n",
       "      <td>26.0</td>\n",
       "      <td>88.0</td>\n",
       "      <td>0.0</td>\n",
       "    </tr>\n",
       "    <tr>\n",
       "      <th>377659</th>\n",
       "      <td>381106.0</td>\n",
       "      <td>0</td>\n",
       "      <td>30.0</td>\n",
       "      <td>1</td>\n",
       "      <td>37.0</td>\n",
       "      <td>0</td>\n",
       "      <td>0</td>\n",
       "      <td>0</td>\n",
       "      <td>40016.0</td>\n",
       "      <td>152.0</td>\n",
       "      <td>131.0</td>\n",
       "      <td>0.0</td>\n",
       "    </tr>\n",
       "    <tr>\n",
       "      <th>377660</th>\n",
       "      <td>381107.0</td>\n",
       "      <td>0</td>\n",
       "      <td>21.0</td>\n",
       "      <td>1</td>\n",
       "      <td>30.0</td>\n",
       "      <td>0</td>\n",
       "      <td>0</td>\n",
       "      <td>0</td>\n",
       "      <td>35118.0</td>\n",
       "      <td>160.0</td>\n",
       "      <td>161.0</td>\n",
       "      <td>0.0</td>\n",
       "    </tr>\n",
       "    <tr>\n",
       "      <th>377661</th>\n",
       "      <td>381108.0</td>\n",
       "      <td>1</td>\n",
       "      <td>68.0</td>\n",
       "      <td>1</td>\n",
       "      <td>14.0</td>\n",
       "      <td>1</td>\n",
       "      <td>2</td>\n",
       "      <td>1</td>\n",
       "      <td>44617.0</td>\n",
       "      <td>124.0</td>\n",
       "      <td>74.0</td>\n",
       "      <td>0.0</td>\n",
       "    </tr>\n",
       "    <tr>\n",
       "      <th>377662</th>\n",
       "      <td>381109.0</td>\n",
       "      <td>0</td>\n",
       "      <td>46.0</td>\n",
       "      <td>1</td>\n",
       "      <td>29.0</td>\n",
       "      <td>1</td>\n",
       "      <td>1</td>\n",
       "      <td>0</td>\n",
       "      <td>41777.0</td>\n",
       "      <td>26.0</td>\n",
       "      <td>237.0</td>\n",
       "      <td>0.0</td>\n",
       "    </tr>\n",
       "  </tbody>\n",
       "</table>\n",
       "<p>377663 rows × 12 columns</p>\n",
       "</div>"
      ],
      "text/plain": [
       "        customer_id  Gender   age  driving_licence_present  region code  \\\n",
       "0               1.0       0  44.0                        1         28.0   \n",
       "1               2.0       0  76.0                        1          3.0   \n",
       "2               3.0       0  47.0                        1         28.0   \n",
       "3               4.0       0  21.0                        1         11.0   \n",
       "4               5.0       1  29.0                        1         41.0   \n",
       "...             ...     ...   ...                      ...          ...   \n",
       "377658     381105.0       0  74.0                        1         26.0   \n",
       "377659     381106.0       0  30.0                        1         37.0   \n",
       "377660     381107.0       0  21.0                        1         30.0   \n",
       "377661     381108.0       1  68.0                        1         14.0   \n",
       "377662     381109.0       0  46.0                        1         29.0   \n",
       "\n",
       "        previously_insured  vehicle_age  vehicle_damage  \\\n",
       "0                        1            2               1   \n",
       "1                        1            1               0   \n",
       "2                        1            2               1   \n",
       "3                        0            0               0   \n",
       "4                        0            0               0   \n",
       "...                    ...          ...             ...   \n",
       "377658                   0            1               0   \n",
       "377659                   0            0               0   \n",
       "377660                   0            0               0   \n",
       "377661                   1            2               1   \n",
       "377662                   1            1               0   \n",
       "\n",
       "        annual premium (in Rs)  sales channel code  vintage  response  \n",
       "0                      40454.0                26.0    217.0       1.0  \n",
       "1                      33536.0                26.0    183.0       0.0  \n",
       "2                      38294.0                26.0     27.0       1.0  \n",
       "3                      28619.0               152.0    203.0       0.0  \n",
       "4                      27496.0               152.0     39.0       0.0  \n",
       "...                        ...                 ...      ...       ...  \n",
       "377658                 30170.0                26.0     88.0       0.0  \n",
       "377659                 40016.0               152.0    131.0       0.0  \n",
       "377660                 35118.0               160.0    161.0       0.0  \n",
       "377661                 44617.0               124.0     74.0       0.0  \n",
       "377662                 41777.0                26.0    237.0       0.0  \n",
       "\n",
       "[377663 rows x 12 columns]"
      ]
     },
     "execution_count": 51,
     "metadata": {},
     "output_type": "execute_result"
    }
   ],
   "source": [
    "master_table"
   ]
  },
  {
   "cell_type": "code",
   "execution_count": 52,
   "id": "c73d30d3",
   "metadata": {},
   "outputs": [
    {
     "data": {
      "text/html": [
       "<div>\n",
       "<style scoped>\n",
       "    .dataframe tbody tr th:only-of-type {\n",
       "        vertical-align: middle;\n",
       "    }\n",
       "\n",
       "    .dataframe tbody tr th {\n",
       "        vertical-align: top;\n",
       "    }\n",
       "\n",
       "    .dataframe thead th {\n",
       "        text-align: right;\n",
       "    }\n",
       "</style>\n",
       "<table border=\"1\" class=\"dataframe\">\n",
       "  <thead>\n",
       "    <tr style=\"text-align: right;\">\n",
       "      <th></th>\n",
       "      <th>Gender</th>\n",
       "      <th>age</th>\n",
       "      <th>driving_licence_present</th>\n",
       "      <th>region code</th>\n",
       "      <th>previously_insured</th>\n",
       "      <th>vehicle_age</th>\n",
       "      <th>vehicle_damage</th>\n",
       "      <th>annual premium (in Rs)</th>\n",
       "      <th>sales channel code</th>\n",
       "      <th>vintage</th>\n",
       "      <th>response</th>\n",
       "    </tr>\n",
       "    <tr>\n",
       "      <th>customer_id</th>\n",
       "      <th></th>\n",
       "      <th></th>\n",
       "      <th></th>\n",
       "      <th></th>\n",
       "      <th></th>\n",
       "      <th></th>\n",
       "      <th></th>\n",
       "      <th></th>\n",
       "      <th></th>\n",
       "      <th></th>\n",
       "      <th></th>\n",
       "    </tr>\n",
       "  </thead>\n",
       "  <tbody>\n",
       "    <tr>\n",
       "      <th>1.0</th>\n",
       "      <td>0</td>\n",
       "      <td>44.0</td>\n",
       "      <td>1</td>\n",
       "      <td>28.0</td>\n",
       "      <td>1</td>\n",
       "      <td>2</td>\n",
       "      <td>1</td>\n",
       "      <td>40454.0</td>\n",
       "      <td>26.0</td>\n",
       "      <td>217.0</td>\n",
       "      <td>1.0</td>\n",
       "    </tr>\n",
       "    <tr>\n",
       "      <th>2.0</th>\n",
       "      <td>0</td>\n",
       "      <td>76.0</td>\n",
       "      <td>1</td>\n",
       "      <td>3.0</td>\n",
       "      <td>1</td>\n",
       "      <td>1</td>\n",
       "      <td>0</td>\n",
       "      <td>33536.0</td>\n",
       "      <td>26.0</td>\n",
       "      <td>183.0</td>\n",
       "      <td>0.0</td>\n",
       "    </tr>\n",
       "    <tr>\n",
       "      <th>3.0</th>\n",
       "      <td>0</td>\n",
       "      <td>47.0</td>\n",
       "      <td>1</td>\n",
       "      <td>28.0</td>\n",
       "      <td>1</td>\n",
       "      <td>2</td>\n",
       "      <td>1</td>\n",
       "      <td>38294.0</td>\n",
       "      <td>26.0</td>\n",
       "      <td>27.0</td>\n",
       "      <td>1.0</td>\n",
       "    </tr>\n",
       "    <tr>\n",
       "      <th>4.0</th>\n",
       "      <td>0</td>\n",
       "      <td>21.0</td>\n",
       "      <td>1</td>\n",
       "      <td>11.0</td>\n",
       "      <td>0</td>\n",
       "      <td>0</td>\n",
       "      <td>0</td>\n",
       "      <td>28619.0</td>\n",
       "      <td>152.0</td>\n",
       "      <td>203.0</td>\n",
       "      <td>0.0</td>\n",
       "    </tr>\n",
       "    <tr>\n",
       "      <th>5.0</th>\n",
       "      <td>1</td>\n",
       "      <td>29.0</td>\n",
       "      <td>1</td>\n",
       "      <td>41.0</td>\n",
       "      <td>0</td>\n",
       "      <td>0</td>\n",
       "      <td>0</td>\n",
       "      <td>27496.0</td>\n",
       "      <td>152.0</td>\n",
       "      <td>39.0</td>\n",
       "      <td>0.0</td>\n",
       "    </tr>\n",
       "    <tr>\n",
       "      <th>...</th>\n",
       "      <td>...</td>\n",
       "      <td>...</td>\n",
       "      <td>...</td>\n",
       "      <td>...</td>\n",
       "      <td>...</td>\n",
       "      <td>...</td>\n",
       "      <td>...</td>\n",
       "      <td>...</td>\n",
       "      <td>...</td>\n",
       "      <td>...</td>\n",
       "      <td>...</td>\n",
       "    </tr>\n",
       "    <tr>\n",
       "      <th>381105.0</th>\n",
       "      <td>0</td>\n",
       "      <td>74.0</td>\n",
       "      <td>1</td>\n",
       "      <td>26.0</td>\n",
       "      <td>0</td>\n",
       "      <td>1</td>\n",
       "      <td>0</td>\n",
       "      <td>30170.0</td>\n",
       "      <td>26.0</td>\n",
       "      <td>88.0</td>\n",
       "      <td>0.0</td>\n",
       "    </tr>\n",
       "    <tr>\n",
       "      <th>381106.0</th>\n",
       "      <td>0</td>\n",
       "      <td>30.0</td>\n",
       "      <td>1</td>\n",
       "      <td>37.0</td>\n",
       "      <td>0</td>\n",
       "      <td>0</td>\n",
       "      <td>0</td>\n",
       "      <td>40016.0</td>\n",
       "      <td>152.0</td>\n",
       "      <td>131.0</td>\n",
       "      <td>0.0</td>\n",
       "    </tr>\n",
       "    <tr>\n",
       "      <th>381107.0</th>\n",
       "      <td>0</td>\n",
       "      <td>21.0</td>\n",
       "      <td>1</td>\n",
       "      <td>30.0</td>\n",
       "      <td>0</td>\n",
       "      <td>0</td>\n",
       "      <td>0</td>\n",
       "      <td>35118.0</td>\n",
       "      <td>160.0</td>\n",
       "      <td>161.0</td>\n",
       "      <td>0.0</td>\n",
       "    </tr>\n",
       "    <tr>\n",
       "      <th>381108.0</th>\n",
       "      <td>1</td>\n",
       "      <td>68.0</td>\n",
       "      <td>1</td>\n",
       "      <td>14.0</td>\n",
       "      <td>1</td>\n",
       "      <td>2</td>\n",
       "      <td>1</td>\n",
       "      <td>44617.0</td>\n",
       "      <td>124.0</td>\n",
       "      <td>74.0</td>\n",
       "      <td>0.0</td>\n",
       "    </tr>\n",
       "    <tr>\n",
       "      <th>381109.0</th>\n",
       "      <td>0</td>\n",
       "      <td>46.0</td>\n",
       "      <td>1</td>\n",
       "      <td>29.0</td>\n",
       "      <td>1</td>\n",
       "      <td>1</td>\n",
       "      <td>0</td>\n",
       "      <td>41777.0</td>\n",
       "      <td>26.0</td>\n",
       "      <td>237.0</td>\n",
       "      <td>0.0</td>\n",
       "    </tr>\n",
       "  </tbody>\n",
       "</table>\n",
       "<p>377663 rows × 11 columns</p>\n",
       "</div>"
      ],
      "text/plain": [
       "             Gender   age  driving_licence_present  region code  \\\n",
       "customer_id                                                       \n",
       "1.0               0  44.0                        1         28.0   \n",
       "2.0               0  76.0                        1          3.0   \n",
       "3.0               0  47.0                        1         28.0   \n",
       "4.0               0  21.0                        1         11.0   \n",
       "5.0               1  29.0                        1         41.0   \n",
       "...             ...   ...                      ...          ...   \n",
       "381105.0          0  74.0                        1         26.0   \n",
       "381106.0          0  30.0                        1         37.0   \n",
       "381107.0          0  21.0                        1         30.0   \n",
       "381108.0          1  68.0                        1         14.0   \n",
       "381109.0          0  46.0                        1         29.0   \n",
       "\n",
       "             previously_insured  vehicle_age  vehicle_damage  \\\n",
       "customer_id                                                    \n",
       "1.0                           1            2               1   \n",
       "2.0                           1            1               0   \n",
       "3.0                           1            2               1   \n",
       "4.0                           0            0               0   \n",
       "5.0                           0            0               0   \n",
       "...                         ...          ...             ...   \n",
       "381105.0                      0            1               0   \n",
       "381106.0                      0            0               0   \n",
       "381107.0                      0            0               0   \n",
       "381108.0                      1            2               1   \n",
       "381109.0                      1            1               0   \n",
       "\n",
       "             annual premium (in Rs)  sales channel code  vintage  response  \n",
       "customer_id                                                                 \n",
       "1.0                         40454.0                26.0    217.0       1.0  \n",
       "2.0                         33536.0                26.0    183.0       0.0  \n",
       "3.0                         38294.0                26.0     27.0       1.0  \n",
       "4.0                         28619.0               152.0    203.0       0.0  \n",
       "5.0                         27496.0               152.0     39.0       0.0  \n",
       "...                             ...                 ...      ...       ...  \n",
       "381105.0                    30170.0                26.0     88.0       0.0  \n",
       "381106.0                    40016.0               152.0    131.0       0.0  \n",
       "381107.0                    35118.0               160.0    161.0       0.0  \n",
       "381108.0                    44617.0               124.0     74.0       0.0  \n",
       "381109.0                    41777.0                26.0    237.0       0.0  \n",
       "\n",
       "[377663 rows x 11 columns]"
      ]
     },
     "execution_count": 52,
     "metadata": {},
     "output_type": "execute_result"
    }
   ],
   "source": [
    "master_table.set_index('customer_id')"
   ]
  },
  {
   "cell_type": "markdown",
   "id": "8f22e012",
   "metadata": {},
   "source": [
    "### Q4. Company needs some important information from the master table to make decisions for future growth.They needs following information:\n",
    "\n",
    " #### i. Gender wise average annual premium\n",
    "\n",
    " #### ii. Age wise average annual premium\n",
    "\n",
    " #### iii. Is your data balanced between the genders?\n",
    "\n",
    " ####     (Hint: Data is balanced if number of counts in each group is approximately same)\n",
    "\n",
    " #### iv. Vehicle age wise average annual premium."
   ]
  },
  {
   "cell_type": "code",
   "execution_count": 54,
   "id": "668543d8",
   "metadata": {},
   "outputs": [
    {
     "name": "stderr",
     "output_type": "stream",
     "text": [
      "C:\\Users\\RAJ\\anaconda3\\lib\\site-packages\\seaborn\\distributions.py:2619: FutureWarning: `distplot` is a deprecated function and will be removed in a future version. Please adapt your code to use either `displot` (a figure-level function with similar flexibility) or `histplot` (an axes-level function for histograms).\n",
      "  warnings.warn(msg, FutureWarning)\n",
      "C:\\Users\\RAJ\\anaconda3\\lib\\site-packages\\seaborn\\distributions.py:2619: FutureWarning: `distplot` is a deprecated function and will be removed in a future version. Please adapt your code to use either `displot` (a figure-level function with similar flexibility) or `histplot` (an axes-level function for histograms).\n",
      "  warnings.warn(msg, FutureWarning)\n"
     ]
    },
    {
     "data": {
      "image/png": "[encoded data removed]",
      "text/plain": [
       "<Figure size 1008x360 with 1 Axes>"
      ]
     },
     "metadata": {
      "needs_background": "light"
     },
     "output_type": "display_data"
    }
   ],
   "source": [
    "## i: Gender wise average annual premium\n",
    "plt.figure(figsize = (14, 5))\n",
    "sns.distplot(master_table.loc[(master_table['Gender'] == 1), 'annual premium (in Rs)'])\n",
    "sns.distplot(master_table.loc[(master_table['Gender'] == 0), 'annual premium (in Rs)'])\n",
    "plt.title('Gender wise average annual premium', fontsize = 14)\n",
    "plt.show()"
   ]
  },
  {
   "cell_type": "code",
   "execution_count": 57,
   "id": "4fa93fa3",
   "metadata": {},
   "outputs": [
    {
     "name": "stderr",
     "output_type": "stream",
     "text": [
      "C:\\Users\\RAJ\\anaconda3\\lib\\site-packages\\seaborn\\distributions.py:2619: FutureWarning: `distplot` is a deprecated function and will be removed in a future version. Please adapt your code to use either `displot` (a figure-level function with similar flexibility) or `histplot` (an axes-level function for histograms).\n",
      "  warnings.warn(msg, FutureWarning)\n",
      "C:\\Users\\RAJ\\anaconda3\\lib\\site-packages\\seaborn\\distributions.py:2619: FutureWarning: `distplot` is a deprecated function and will be removed in a future version. Please adapt your code to use either `displot` (a figure-level function with similar flexibility) or `histplot` (an axes-level function for histograms).\n",
      "  warnings.warn(msg, FutureWarning)\n"
     ]
    },
    {
     "data": {
      "image/png": "[encoded data removed]",
      "text/plain": [
       "<Figure size 1008x360 with 1 Axes>"
      ]
     },
     "metadata": {
      "needs_background": "light"
     },
     "output_type": "display_data"
    }
   ],
   "source": [
    "## i: Age wise average annual premium\n",
    "plt.figure(figsize = (14, 5))\n",
    "sns.distplot(master_table.loc[(master_table['age'] == 44), 'annual premium (in Rs)'])\n",
    "sns.distplot(master_table.loc[(master_table['age'] == 21), 'annual premium (in Rs)'])\n",
    "plt.title('Age wise average annual premium', fontsize = 14)\n",
    "plt.show()"
   ]
  },
  {
   "cell_type": "code",
   "execution_count": 61,
   "id": "69c0395f",
   "metadata": {},
   "outputs": [
    {
     "name": "stderr",
     "output_type": "stream",
     "text": [
      "C:\\Users\\RAJ\\anaconda3\\lib\\site-packages\\seaborn\\distributions.py:2619: FutureWarning: `distplot` is a deprecated function and will be removed in a future version. Please adapt your code to use either `displot` (a figure-level function with similar flexibility) or `histplot` (an axes-level function for histograms).\n",
      "  warnings.warn(msg, FutureWarning)\n",
      "C:\\Users\\RAJ\\anaconda3\\lib\\site-packages\\seaborn\\distributions.py:2619: FutureWarning: `distplot` is a deprecated function and will be removed in a future version. Please adapt your code to use either `displot` (a figure-level function with similar flexibility) or `histplot` (an axes-level function for histograms).\n",
      "  warnings.warn(msg, FutureWarning)\n"
     ]
    },
    {
     "data": {
      "image/png": "[encoded data removed]",
      "text/plain": [
       "<Figure size 1080x432 with 1 Axes>"
      ]
     },
     "metadata": {
      "needs_background": "light"
     },
     "output_type": "display_data"
    }
   ],
   "source": [
    "## i: Gender wise average annual premium\n",
    "plt.figure(figsize = (15, 6))\n",
    "sns.distplot(master_table.loc[(master_table['driving_licence_present'] == 0), 'age'])\n",
    "sns.distplot(master_table.loc[(master_table['driving_licence_present'] == 1), 'age'])\n",
    "plt.title('Age distriution by license', fontsize = 15)\n",
    "plt.show()"
   ]
  },
  {
   "cell_type": "code",
   "execution_count": 62,
   "id": "b74ff59e",
   "metadata": {},
   "outputs": [
    {
     "data": {
      "text/html": [
       "<div>\n",
       "<style scoped>\n",
       "    .dataframe tbody tr th:only-of-type {\n",
       "        vertical-align: middle;\n",
       "    }\n",
       "\n",
       "    .dataframe tbody tr th {\n",
       "        vertical-align: top;\n",
       "    }\n",
       "\n",
       "    .dataframe thead th {\n",
       "        text-align: right;\n",
       "    }\n",
       "</style>\n",
       "<table border=\"1\" class=\"dataframe\">\n",
       "  <thead>\n",
       "    <tr style=\"text-align: right;\">\n",
       "      <th></th>\n",
       "      <th>customer_id</th>\n",
       "      <th>Gender</th>\n",
       "      <th>age</th>\n",
       "      <th>driving_licence_present</th>\n",
       "      <th>region code</th>\n",
       "      <th>previously_insured</th>\n",
       "      <th>vehicle_age</th>\n",
       "      <th>vehicle_damage</th>\n",
       "      <th>annual premium (in Rs)</th>\n",
       "      <th>sales channel code</th>\n",
       "      <th>vintage</th>\n",
       "      <th>response</th>\n",
       "    </tr>\n",
       "  </thead>\n",
       "  <tbody>\n",
       "    <tr>\n",
       "      <th>0</th>\n",
       "      <td>1.0</td>\n",
       "      <td>0</td>\n",
       "      <td>44.0</td>\n",
       "      <td>1</td>\n",
       "      <td>28.0</td>\n",
       "      <td>1</td>\n",
       "      <td>2</td>\n",
       "      <td>1</td>\n",
       "      <td>40454.0</td>\n",
       "      <td>26.0</td>\n",
       "      <td>217.0</td>\n",
       "      <td>1.0</td>\n",
       "    </tr>\n",
       "    <tr>\n",
       "      <th>1</th>\n",
       "      <td>2.0</td>\n",
       "      <td>0</td>\n",
       "      <td>76.0</td>\n",
       "      <td>1</td>\n",
       "      <td>3.0</td>\n",
       "      <td>1</td>\n",
       "      <td>1</td>\n",
       "      <td>0</td>\n",
       "      <td>33536.0</td>\n",
       "      <td>26.0</td>\n",
       "      <td>183.0</td>\n",
       "      <td>0.0</td>\n",
       "    </tr>\n",
       "    <tr>\n",
       "      <th>2</th>\n",
       "      <td>3.0</td>\n",
       "      <td>0</td>\n",
       "      <td>47.0</td>\n",
       "      <td>1</td>\n",
       "      <td>28.0</td>\n",
       "      <td>1</td>\n",
       "      <td>2</td>\n",
       "      <td>1</td>\n",
       "      <td>38294.0</td>\n",
       "      <td>26.0</td>\n",
       "      <td>27.0</td>\n",
       "      <td>1.0</td>\n",
       "    </tr>\n",
       "    <tr>\n",
       "      <th>3</th>\n",
       "      <td>4.0</td>\n",
       "      <td>0</td>\n",
       "      <td>21.0</td>\n",
       "      <td>1</td>\n",
       "      <td>11.0</td>\n",
       "      <td>0</td>\n",
       "      <td>0</td>\n",
       "      <td>0</td>\n",
       "      <td>28619.0</td>\n",
       "      <td>152.0</td>\n",
       "      <td>203.0</td>\n",
       "      <td>0.0</td>\n",
       "    </tr>\n",
       "    <tr>\n",
       "      <th>4</th>\n",
       "      <td>5.0</td>\n",
       "      <td>1</td>\n",
       "      <td>29.0</td>\n",
       "      <td>1</td>\n",
       "      <td>41.0</td>\n",
       "      <td>0</td>\n",
       "      <td>0</td>\n",
       "      <td>0</td>\n",
       "      <td>27496.0</td>\n",
       "      <td>152.0</td>\n",
       "      <td>39.0</td>\n",
       "      <td>0.0</td>\n",
       "    </tr>\n",
       "    <tr>\n",
       "      <th>...</th>\n",
       "      <td>...</td>\n",
       "      <td>...</td>\n",
       "      <td>...</td>\n",
       "      <td>...</td>\n",
       "      <td>...</td>\n",
       "      <td>...</td>\n",
       "      <td>...</td>\n",
       "      <td>...</td>\n",
       "      <td>...</td>\n",
       "      <td>...</td>\n",
       "      <td>...</td>\n",
       "      <td>...</td>\n",
       "    </tr>\n",
       "    <tr>\n",
       "      <th>377658</th>\n",
       "      <td>381105.0</td>\n",
       "      <td>0</td>\n",
       "      <td>74.0</td>\n",
       "      <td>1</td>\n",
       "      <td>26.0</td>\n",
       "      <td>0</td>\n",
       "      <td>1</td>\n",
       "      <td>0</td>\n",
       "      <td>30170.0</td>\n",
       "      <td>26.0</td>\n",
       "      <td>88.0</td>\n",
       "      <td>0.0</td>\n",
       "    </tr>\n",
       "    <tr>\n",
       "      <th>377659</th>\n",
       "      <td>381106.0</td>\n",
       "      <td>0</td>\n",
       "      <td>30.0</td>\n",
       "      <td>1</td>\n",
       "      <td>37.0</td>\n",
       "      <td>0</td>\n",
       "      <td>0</td>\n",
       "      <td>0</td>\n",
       "      <td>40016.0</td>\n",
       "      <td>152.0</td>\n",
       "      <td>131.0</td>\n",
       "      <td>0.0</td>\n",
       "    </tr>\n",
       "    <tr>\n",
       "      <th>377660</th>\n",
       "      <td>381107.0</td>\n",
       "      <td>0</td>\n",
       "      <td>21.0</td>\n",
       "      <td>1</td>\n",
       "      <td>30.0</td>\n",
       "      <td>0</td>\n",
       "      <td>0</td>\n",
       "      <td>0</td>\n",
       "      <td>35118.0</td>\n",
       "      <td>160.0</td>\n",
       "      <td>161.0</td>\n",
       "      <td>0.0</td>\n",
       "    </tr>\n",
       "    <tr>\n",
       "      <th>377661</th>\n",
       "      <td>381108.0</td>\n",
       "      <td>1</td>\n",
       "      <td>68.0</td>\n",
       "      <td>1</td>\n",
       "      <td>14.0</td>\n",
       "      <td>1</td>\n",
       "      <td>2</td>\n",
       "      <td>1</td>\n",
       "      <td>44617.0</td>\n",
       "      <td>124.0</td>\n",
       "      <td>74.0</td>\n",
       "      <td>0.0</td>\n",
       "    </tr>\n",
       "    <tr>\n",
       "      <th>377662</th>\n",
       "      <td>381109.0</td>\n",
       "      <td>0</td>\n",
       "      <td>46.0</td>\n",
       "      <td>1</td>\n",
       "      <td>29.0</td>\n",
       "      <td>1</td>\n",
       "      <td>1</td>\n",
       "      <td>0</td>\n",
       "      <td>41777.0</td>\n",
       "      <td>26.0</td>\n",
       "      <td>237.0</td>\n",
       "      <td>0.0</td>\n",
       "    </tr>\n",
       "  </tbody>\n",
       "</table>\n",
       "<p>377663 rows × 12 columns</p>\n",
       "</div>"
      ],
      "text/plain": [
       "        customer_id  Gender   age  driving_licence_present  region code  \\\n",
       "0               1.0       0  44.0                        1         28.0   \n",
       "1               2.0       0  76.0                        1          3.0   \n",
       "2               3.0       0  47.0                        1         28.0   \n",
       "3               4.0       0  21.0                        1         11.0   \n",
       "4               5.0       1  29.0                        1         41.0   \n",
       "...             ...     ...   ...                      ...          ...   \n",
       "377658     381105.0       0  74.0                        1         26.0   \n",
       "377659     381106.0       0  30.0                        1         37.0   \n",
       "377660     381107.0       0  21.0                        1         30.0   \n",
       "377661     381108.0       1  68.0                        1         14.0   \n",
       "377662     381109.0       0  46.0                        1         29.0   \n",
       "\n",
       "        previously_insured  vehicle_age  vehicle_damage  \\\n",
       "0                        1            2               1   \n",
       "1                        1            1               0   \n",
       "2                        1            2               1   \n",
       "3                        0            0               0   \n",
       "4                        0            0               0   \n",
       "...                    ...          ...             ...   \n",
       "377658                   0            1               0   \n",
       "377659                   0            0               0   \n",
       "377660                   0            0               0   \n",
       "377661                   1            2               1   \n",
       "377662                   1            1               0   \n",
       "\n",
       "        annual premium (in Rs)  sales channel code  vintage  response  \n",
       "0                      40454.0                26.0    217.0       1.0  \n",
       "1                      33536.0                26.0    183.0       0.0  \n",
       "2                      38294.0                26.0     27.0       1.0  \n",
       "3                      28619.0               152.0    203.0       0.0  \n",
       "4                      27496.0               152.0     39.0       0.0  \n",
       "...                        ...                 ...      ...       ...  \n",
       "377658                 30170.0                26.0     88.0       0.0  \n",
       "377659                 40016.0               152.0    131.0       0.0  \n",
       "377660                 35118.0               160.0    161.0       0.0  \n",
       "377661                 44617.0               124.0     74.0       0.0  \n",
       "377662                 41777.0                26.0    237.0       0.0  \n",
       "\n",
       "[377663 rows x 12 columns]"
      ]
     },
     "execution_count": 62,
     "metadata": {},
     "output_type": "execute_result"
    }
   ],
   "source": [
    "master_table"
   ]
  },
  {
   "cell_type": "code",
   "execution_count": 63,
   "id": "e9616c32",
   "metadata": {},
   "outputs": [
    {
     "data": {
      "text/html": [
       "<div>\n",
       "<style scoped>\n",
       "    .dataframe tbody tr th:only-of-type {\n",
       "        vertical-align: middle;\n",
       "    }\n",
       "\n",
       "    .dataframe tbody tr th {\n",
       "        vertical-align: top;\n",
       "    }\n",
       "\n",
       "    .dataframe thead th {\n",
       "        text-align: right;\n",
       "    }\n",
       "</style>\n",
       "<table border=\"1\" class=\"dataframe\">\n",
       "  <thead>\n",
       "    <tr style=\"text-align: right;\">\n",
       "      <th></th>\n",
       "      <th>customer_id</th>\n",
       "      <th>age</th>\n",
       "      <th>driving_licence_present</th>\n",
       "      <th>region code</th>\n",
       "      <th>previously_insured</th>\n",
       "      <th>vehicle_age</th>\n",
       "      <th>vehicle_damage</th>\n",
       "      <th>annual premium (in Rs)</th>\n",
       "      <th>sales channel code</th>\n",
       "      <th>vintage</th>\n",
       "      <th>response</th>\n",
       "    </tr>\n",
       "    <tr>\n",
       "      <th>Gender</th>\n",
       "      <th></th>\n",
       "      <th></th>\n",
       "      <th></th>\n",
       "      <th></th>\n",
       "      <th></th>\n",
       "      <th></th>\n",
       "      <th></th>\n",
       "      <th></th>\n",
       "      <th></th>\n",
       "      <th></th>\n",
       "      <th></th>\n",
       "    </tr>\n",
       "  </thead>\n",
       "  <tbody>\n",
       "    <tr>\n",
       "      <th>0</th>\n",
       "      <td>3.894127e+10</td>\n",
       "      <td>8350412.0</td>\n",
       "      <td>203595</td>\n",
       "      <td>5390462.0</td>\n",
       "      <td>118309</td>\n",
       "      <td>141574</td>\n",
       "      <td>111715</td>\n",
       "      <td>6.253067e+09</td>\n",
       "      <td>2.174650e+07</td>\n",
       "      <td>3.147938e+07</td>\n",
       "      <td>28239.750193</td>\n",
       "    </tr>\n",
       "    <tr>\n",
       "      <th>1</th>\n",
       "      <td>3.302819e+10</td>\n",
       "      <td>6310754.0</td>\n",
       "      <td>173264</td>\n",
       "      <td>4577222.0</td>\n",
       "      <td>86307</td>\n",
       "      <td>88638</td>\n",
       "      <td>78969</td>\n",
       "      <td>5.289245e+09</td>\n",
       "      <td>2.056554e+07</td>\n",
       "      <td>2.681989e+07</td>\n",
       "      <td>18022.114010</td>\n",
       "    </tr>\n",
       "  </tbody>\n",
       "</table>\n",
       "</div>"
      ],
      "text/plain": [
       "         customer_id        age  driving_licence_present  region code  \\\n",
       "Gender                                                                  \n",
       "0       3.894127e+10  8350412.0                   203595    5390462.0   \n",
       "1       3.302819e+10  6310754.0                   173264    4577222.0   \n",
       "\n",
       "        previously_insured  vehicle_age  vehicle_damage  \\\n",
       "Gender                                                    \n",
       "0                   118309       141574          111715   \n",
       "1                    86307        88638           78969   \n",
       "\n",
       "        annual premium (in Rs)  sales channel code       vintage      response  \n",
       "Gender                                                                          \n",
       "0                 6.253067e+09        2.174650e+07  3.147938e+07  28239.750193  \n",
       "1                 5.289245e+09        2.056554e+07  2.681989e+07  18022.114010  "
      ]
     },
     "execution_count": 63,
     "metadata": {},
     "output_type": "execute_result"
    }
   ],
   "source": [
    "master_table.groupby('Gender',0).sum()"
   ]
  },
  {
   "cell_type": "code",
   "execution_count": 64,
   "id": "54751dd6",
   "metadata": {},
   "outputs": [
    {
     "name": "stderr",
     "output_type": "stream",
     "text": [
      "C:\\Users\\RAJ\\anaconda3\\lib\\site-packages\\seaborn\\distributions.py:2619: FutureWarning: `distplot` is a deprecated function and will be removed in a future version. Please adapt your code to use either `displot` (a figure-level function with similar flexibility) or `histplot` (an axes-level function for histograms).\n",
      "  warnings.warn(msg, FutureWarning)\n",
      "C:\\Users\\RAJ\\anaconda3\\lib\\site-packages\\seaborn\\distributions.py:2619: FutureWarning: `distplot` is a deprecated function and will be removed in a future version. Please adapt your code to use either `displot` (a figure-level function with similar flexibility) or `histplot` (an axes-level function for histograms).\n",
      "  warnings.warn(msg, FutureWarning)\n"
     ]
    },
    {
     "data": {
      "image/png": "[encoded data removed]",
      "text/plain": [
       "<Figure size 1008x360 with 1 Axes>"
      ]
     },
     "metadata": {
      "needs_background": "light"
     },
     "output_type": "display_data"
    }
   ],
   "source": [
    "## iv: Vehicle age wise average annual premium.\n",
    "plt.figure(figsize = (14, 5))\n",
    "sns.distplot(master_table.loc[(master_table['vehicle_age'] == 2), 'annual premium (in Rs)'])\n",
    "sns.distplot(master_table.loc[(master_table['vehicle_age'] == 1), 'annual premium (in Rs)'])\n",
    "plt.title('vehicle age wise average annual premium', fontsize = 14)\n",
    "plt.show()"
   ]
  },
  {
   "cell_type": "markdown",
   "id": "5ff3eba2",
   "metadata": {},
   "source": [
    "### 5. Is there any relation between Person Age and annual premium?\n",
    "\n",
    "#### Hint: use correlation function (Correlation describes the relationship between two variables). \n",
    "\n",
    "#### Correlation coefficient < -0.5           - Strong negative relationship\n",
    "\n",
    "#### Correlation coefficient > 0.5            -  Strong positive relationship\n",
    "\n",
    "#### 0.5 < Correlation coefficient < 0.5   - There is no relationship. "
   ]
  },
  {
   "cell_type": "code",
   "execution_count": 65,
   "id": "a80f7695",
   "metadata": {},
   "outputs": [
    {
     "data": {
      "image/png": "[encoded data removed]",
      "text/plain": [
       "<Figure size 432x288 with 2 Axes>"
      ]
     },
     "metadata": {
      "needs_background": "light"
     },
     "output_type": "display_data"
    }
   ],
   "source": [
    "corrMatrix = master_table.corr()\n",
    "sns.heatmap(corrMatrix, annot = True)\n",
    "plt.show()"
   ]
  },
  {
   "cell_type": "code",
   "execution_count": null,
   "id": "c000229d",
   "metadata": {},
   "outputs": [],
   "source": []
  }
 ],
 "metadata": {
  "kernelspec": {
   "display_name": "Python 3 (ipykernel)",
   "language": "python",
   "name": "python3"
  },
  "language_info": {
   "codemirror_mode": {
    "name": "ipython",
    "version": 3
   },
   "file_extension": ".py",
   "mimetype": "text/x-python",
   "name": "python",
   "nbconvert_exporter": "python",
   "pygments_lexer": "ipython3",
   "version": "3.9.12"
  }
 },
 "nbformat": 4,
 "nbformat_minor": 5
}
