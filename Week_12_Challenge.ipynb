{
 "cells": [
  {
   "cell_type": "markdown",
   "id": "6022ae9c",
   "metadata": {},
   "source": [
    "## Q1. Create a database called temp_db. Open a cursor to this newly created database."
   ]
  },
  {
   "cell_type": "code",
   "execution_count": 1,
   "id": "04766166",
   "metadata": {},
   "outputs": [],
   "source": [
    "import sqlite3\n",
    "\n",
    "con = sqlite3.connect('temp_db.db')\n",
    "cur = con.cursor()"
   ]
  },
  {
   "cell_type": "markdown",
   "id": "64619b48",
   "metadata": {},
   "source": [
    "## Q2. In the database temp_db created in Q.No.1, create a table called emp with the attributes empno, ename, salary and deptno\\"
   ]
  },
  {
   "cell_type": "code",
   "execution_count": 2,
   "id": "cfe0bf13",
   "metadata": {},
   "outputs": [
    {
     "data": {
      "text/plain": [
       "<sqlite3.Cursor at 0x144d1989b20>"
      ]
     },
     "execution_count": 2,
     "metadata": {},
     "output_type": "execute_result"
    }
   ],
   "source": [
    "cur.execute('CREATE TABLE IF NOT EXISTS emp(empno INTEGER,ename TEXT, salary INTEGER,deptno INTEGER)')"
   ]
  },
  {
   "cell_type": "markdown",
   "id": "7ff933ca",
   "metadata": {},
   "source": [
    "## Q3. In the emp table created in Q.No. 2, insert any five records."
   ]
  },
  {
   "cell_type": "code",
   "execution_count": 3,
   "id": "559f01b0",
   "metadata": {},
   "outputs": [],
   "source": [
    "def insert(e,n,s,d):\n",
    "    con = sqlite3.connect('temp_db.db')\n",
    "    cur = con.cursor()\n",
    "    cur.execute('INSERT INTO emp values(?,?,?,?)',(e,n,s,d))\n",
    "    con.commit()\n",
    "    con.close()"
   ]
  },
  {
   "cell_type": "code",
   "execution_count": 4,
   "id": "b477235e",
   "metadata": {},
   "outputs": [],
   "source": [
    "insert(1,'Rose',15000,10)\n",
    "insert(2,'Mia Madison',20000,20)\n",
    "insert(3,'Ashley stonegal',25000,30)\n",
    "insert(4,'Andrew olesten',30000,40)\n",
    "insert(5,'Danny',35000,50)\n",
    "insert(6,'Andy sas',35000,60)\n",
    "insert(7,'Mia cummins',35000,70)\n",
    "insert(8,'Assli cumms',45000,80)"
   ]
  },
  {
   "cell_type": "markdown",
   "id": "a6107c8d",
   "metadata": {},
   "source": [
    "## Q4. From the emp table, display all the records."
   ]
  },
  {
   "cell_type": "code",
   "execution_count": 5,
   "id": "b1b1c54e",
   "metadata": {},
   "outputs": [],
   "source": [
    "def display():\n",
    "    cur.execute('SELECT * FROM emp')\n",
    "    record = cur.fetchall()\n",
    "    return record"
   ]
  },
  {
   "cell_type": "code",
   "execution_count": 6,
   "id": "9c9c8911",
   "metadata": {},
   "outputs": [
    {
     "data": {
      "text/plain": [
       "[(1, 'Rose', 15000, 10),\n",
       " (2, 'Mia Madison', 20000, 20),\n",
       " (3, 'Ashley stonegal', 25000, 30),\n",
       " (4, 'Andrew olesten', 30000, 40),\n",
       " (5, 'Danny', 35000, 50),\n",
       " (6, 'Andy sas', 35000, 60),\n",
       " (7, 'Mia cummins', 35000, 70),\n",
       " (8, 'Assli cumms', 45000, 80)]"
      ]
     },
     "execution_count": 6,
     "metadata": {},
     "output_type": "execute_result"
    }
   ],
   "source": [
    "display()"
   ]
  },
  {
   "cell_type": "markdown",
   "id": "e1aab4d8",
   "metadata": {},
   "source": [
    "## Q5. From the emp table, display the records of only those employees whose salary is greater than 15000 and who belong to deptno 10"
   ]
  },
  {
   "cell_type": "code",
   "execution_count": 7,
   "id": "583d3589",
   "metadata": {},
   "outputs": [
    {
     "data": {
      "text/plain": [
       "[]"
      ]
     },
     "execution_count": 7,
     "metadata": {},
     "output_type": "execute_result"
    }
   ],
   "source": [
    "import sqlite3\n",
    "\n",
    "def display1():\n",
    "    con = sqlite3.connect('temp_db.db')\n",
    "    cur = con.cursor()\n",
    "    cur.execute('SELECT * FROM emp WHERE salary > 15000 and deptno==10')\n",
    "    result = cur.fetchall()\n",
    "    con.commit()\n",
    "    #con.close()\n",
    "    return result\n",
    "    \n",
    "display1()"
   ]
  },
  {
   "cell_type": "markdown",
   "id": "67c12326",
   "metadata": {},
   "source": [
    "## Q6. From the emp table, display the records of only those employees whose salary lies between 20000 and 25000 and who do not belong to the deptno 10"
   ]
  },
  {
   "cell_type": "code",
   "execution_count": 8,
   "id": "f460dfc7",
   "metadata": {},
   "outputs": [
    {
     "data": {
      "text/plain": [
       "[(2, 'Mia Madison', 20000, 20), (3, 'Ashley stonegal', 25000, 30)]"
      ]
     },
     "execution_count": 8,
     "metadata": {},
     "output_type": "execute_result"
    }
   ],
   "source": [
    "import sqlite3\n",
    "\n",
    "def display1():\n",
    "    con = sqlite3.connect('temp_db.db')\n",
    "    cur = con.cursor()\n",
    "    cur.execute('SELECT * FROM emp WHERE salary BETWEEN 20000 and 25000 and deptno != 10')\n",
    "    result = cur.fetchall()\n",
    "    con.commit()\n",
    "    con.close()\n",
    "    return result\n",
    "    \n",
    "display1()"
   ]
  },
  {
   "cell_type": "markdown",
   "id": "39ce7606",
   "metadata": {},
   "source": [
    "## Q7. From the emp table, display the records of only those employees whose name begins with M.\n",
    " "
   ]
  },
  {
   "cell_type": "code",
   "execution_count": 9,
   "id": "5c7945a5",
   "metadata": {},
   "outputs": [
    {
     "data": {
      "text/plain": [
       "[(2, 'Mia Madison', 20000, 20), (7, 'Mia cummins', 35000, 70)]"
      ]
     },
     "execution_count": 9,
     "metadata": {},
     "output_type": "execute_result"
    }
   ],
   "source": [
    "def display2():\n",
    "    con = sqlite3.connect('temp_db.db')\n",
    "    cur = con.cursor()\n",
    "    cur.execute('SELECT * FROM emp WHERE ename LIKE \"M%\" ORDER BY ename')\n",
    "    result = cur.fetchall()\n",
    "    con.commit()\n",
    "    con.close()\n",
    "    return result\n",
    "    \n",
    "display2()"
   ]
  },
  {
   "cell_type": "markdown",
   "id": "db9bf132",
   "metadata": {},
   "source": [
    "## Q8. In the emp table, delete the records of those employees who belong to deptno 30"
   ]
  },
  {
   "cell_type": "code",
   "execution_count": 10,
   "id": "67795f28",
   "metadata": {},
   "outputs": [],
   "source": [
    "def delete():\n",
    "    cur.execute('DELETE FROM emp WHERE deptno==30')"
   ]
  },
  {
   "cell_type": "code",
   "execution_count": 11,
   "id": "7ee45ae6",
   "metadata": {},
   "outputs": [],
   "source": [
    "delete()"
   ]
  },
  {
   "cell_type": "code",
   "execution_count": 12,
   "id": "1833e9e7",
   "metadata": {},
   "outputs": [
    {
     "data": {
      "text/plain": [
       "[(1, 'Rose', 15000, 10),\n",
       " (2, 'Mia Madison', 20000, 20),\n",
       " (4, 'Andrew olesten', 30000, 40),\n",
       " (5, 'Danny', 35000, 50),\n",
       " (6, 'Andy sas', 35000, 60),\n",
       " (7, 'Mia cummins', 35000, 70),\n",
       " (8, 'Assli cumms', 45000, 80)]"
      ]
     },
     "execution_count": 12,
     "metadata": {},
     "output_type": "execute_result"
    }
   ],
   "source": [
    "display()"
   ]
  },
  {
   "cell_type": "markdown",
   "id": "eb6e7b6f",
   "metadata": {},
   "source": [
    "## Q9. In the emp table, update the salary of an employee by 10 % by accepting the empno from the user."
   ]
  },
  {
   "cell_type": "code",
   "execution_count": 13,
   "id": "0ed849bb",
   "metadata": {},
   "outputs": [],
   "source": [
    "def update(e):\n",
    "    cur.execute('UPDATE emp SET salary=salary+(salary*10/100) WHERE empno=?',(e,))"
   ]
  },
  {
   "cell_type": "code",
   "execution_count": 15,
   "id": "63c267ad",
   "metadata": {},
   "outputs": [],
   "source": [
    "update(5)"
   ]
  },
  {
   "cell_type": "code",
   "execution_count": 16,
   "id": "598fdf26",
   "metadata": {},
   "outputs": [
    {
     "data": {
      "text/plain": [
       "[(1, 'Rose', 15000, 10),\n",
       " (2, 'Mia Madison', 20000, 20),\n",
       " (4, 'Andrew olesten', 30000, 40),\n",
       " (5, 'Danny', 38500, 50),\n",
       " (6, 'Andy sas', 35000, 60),\n",
       " (7, 'Mia cummins', 35000, 70),\n",
       " (8, 'Assli cumms', 45000, 80)]"
      ]
     },
     "execution_count": 16,
     "metadata": {},
     "output_type": "execute_result"
    }
   ],
   "source": [
    "display()"
   ]
  },
  {
   "cell_type": "markdown",
   "id": "992cf288",
   "metadata": {},
   "source": [
    "## Q10. Delete the emp table."
   ]
  },
  {
   "cell_type": "code",
   "execution_count": 17,
   "id": "11e378fc",
   "metadata": {},
   "outputs": [],
   "source": [
    "def delete1():\n",
    "    cur.execute('DELETE FROM emp')"
   ]
  },
  {
   "cell_type": "code",
   "execution_count": 18,
   "id": "90ef1eb6",
   "metadata": {},
   "outputs": [],
   "source": [
    "delete1()"
   ]
  },
  {
   "cell_type": "code",
   "execution_count": 19,
   "id": "fd966fe2",
   "metadata": {},
   "outputs": [
    {
     "data": {
      "text/plain": [
       "[]"
      ]
     },
     "execution_count": 19,
     "metadata": {},
     "output_type": "execute_result"
    }
   ],
   "source": [
    "display()"
   ]
  },
  {
   "cell_type": "code",
   "execution_count": null,
   "id": "3cf8ccad",
   "metadata": {},
   "outputs": [],
   "source": []
  }
 ],
 "metadata": {
  "kernelspec": {
   "display_name": "Python 3 (ipykernel)",
   "language": "python",
   "name": "python3"
  },
  "language_info": {
   "codemirror_mode": {
    "name": "ipython",
    "version": 3
   },
   "file_extension": ".py",
   "mimetype": "text/x-python",
   "name": "python",
   "nbconvert_exporter": "python",
   "pygments_lexer": "ipython3",
   "version": "3.9.12"
  }
 },
 "nbformat": 4,
 "nbformat_minor": 5
}
