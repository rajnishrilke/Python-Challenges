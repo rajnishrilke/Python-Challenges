{
 "cells": [
  {
   "cell_type": "markdown",
   "id": "a2bec0c2",
   "metadata": {},
   "source": [
    "## Q1.Write a program that accepts two integers and displays the result of dividing the first number by the second number. It should raise ZeroDivisionError if the denominator is zero."
   ]
  },
  {
   "cell_type": "code",
   "execution_count": 3,
   "id": "87f63530",
   "metadata": {},
   "outputs": [
    {
     "name": "stdout",
     "output_type": "stream",
     "text": [
      "Enter the First Number: 8\n",
      "Enter the second Number: 0\n",
      "division by zero\n"
     ]
    }
   ],
   "source": [
    "try:\n",
    "    num1=int(input('Enter the First Number: '))\n",
    "    num2=int(input('Enter the second Number: '))\n",
    "    result=num1/num2\n",
    "    print(result)\n",
    "except ValueError as v:\n",
    "    print('Invalid input please enter valid Integer Number')\n",
    "except ZeroDivisionError as z:\n",
    "    print(z)"
   ]
  },
  {
   "cell_type": "markdown",
   "id": "29806174",
   "metadata": {},
   "source": [
    "## Q2. Implement the above program with the help of Assertion"
   ]
  },
  {
   "cell_type": "code",
   "execution_count": 5,
   "id": "6a696770",
   "metadata": {},
   "outputs": [
    {
     "name": "stdout",
     "output_type": "stream",
     "text": [
      "Enter First Number: 8\n",
      "Enter Second Number: 0\n"
     ]
    },
    {
     "ename": "AssertionError",
     "evalue": "ZeroDivisionError",
     "output_type": "error",
     "traceback": [
      "\u001b[1;31m---------------------------------------------------------------------------\u001b[0m",
      "\u001b[1;31mAssertionError\u001b[0m                            Traceback (most recent call last)",
      "Input \u001b[1;32mIn [5]\u001b[0m, in \u001b[0;36m<cell line: 3>\u001b[1;34m()\u001b[0m\n\u001b[0;32m      1\u001b[0m num1 \u001b[38;5;241m=\u001b[39m \u001b[38;5;28mint\u001b[39m(\u001b[38;5;28minput\u001b[39m(\u001b[38;5;124m\"\u001b[39m\u001b[38;5;124mEnter First Number: \u001b[39m\u001b[38;5;124m\"\u001b[39m))\n\u001b[0;32m      2\u001b[0m num2 \u001b[38;5;241m=\u001b[39m \u001b[38;5;28mint\u001b[39m(\u001b[38;5;28minput\u001b[39m(\u001b[38;5;124m\"\u001b[39m\u001b[38;5;124mEnter Second Number: \u001b[39m\u001b[38;5;124m\"\u001b[39m))\n\u001b[1;32m----> 3\u001b[0m \u001b[38;5;28;01massert\u001b[39;00m num2 \u001b[38;5;241m!=\u001b[39m \u001b[38;5;241m0\u001b[39m,\u001b[38;5;124m'\u001b[39m\u001b[38;5;124mZeroDivisionError\u001b[39m\u001b[38;5;124m'\u001b[39m\n\u001b[0;32m      4\u001b[0m result \u001b[38;5;241m=\u001b[39m num1 \u001b[38;5;241m/\u001b[39m num2\n\u001b[0;32m      5\u001b[0m \u001b[38;5;28mprint\u001b[39m(result)\n",
      "\u001b[1;31mAssertionError\u001b[0m: ZeroDivisionError"
     ]
    }
   ],
   "source": [
    "num1 = int(input(\"Enter First Number: \"))\n",
    "num2 = int(input(\"Enter Second Number: \"))\n",
    "assert num2 != 0,'ZeroDivisionError'\n",
    "result = num1 / num2\n",
    "print(result)"
   ]
  },
  {
   "cell_type": "markdown",
   "id": "c88fa46e",
   "metadata": {},
   "source": [
    "## Q3. Write a program that accepts n positive integers as input and prints their square. If a negative number is entered, then raise ValueError exception and display a relevant error message and make an exit."
   ]
  },
  {
   "cell_type": "code",
   "execution_count": 7,
   "id": "072549c5",
   "metadata": {},
   "outputs": [
    {
     "name": "stdout",
     "output_type": "stream",
     "text": [
      "Enter a number:4\n",
      "Enter a number:5\n",
      "Enter a number:6\n",
      "Enter a number:8\n",
      "Enter a number:4\n",
      "Enter a number:-5\n",
      "Entered value must be Positive\n",
      "Square of 4 is 16\n",
      "Square of 5 is 25\n",
      "Square of 6 is 36\n",
      "Square of 8 is 64\n",
      "Square of 4 is 16\n"
     ]
    }
   ],
   "source": [
    "try:\n",
    "    l1=list()\n",
    "    while True:\n",
    "        n=int(input('Enter a number:'))\n",
    "        if n<0:\n",
    "            raise ValueError\n",
    "        else:\n",
    "            l1.append(n)\n",
    "except ValueError as v:\n",
    "    print('Entered value must be Positive')\n",
    "finally:\n",
    "    for i in l1:\n",
    "        print('Square of',i,'is',i**2)"
   ]
  },
  {
   "cell_type": "markdown",
   "id": "9ba791e1",
   "metadata": {},
   "source": [
    "## Q4. Write a program that receives an integer as input and finds its factorial. If a non-integer input is entered, then report an error and accept the input again. Continue this process until correct input is entered."
   ]
  },
  {
   "cell_type": "code",
   "execution_count": 1,
   "id": "dc6499e2",
   "metadata": {},
   "outputs": [
    {
     "name": "stdout",
     "output_type": "stream",
     "text": [
      "Enter a number:5\n",
      "The factorial of 5 is 120\n",
      "Enter a number:8\n",
      "The factorial of 8 is 4838400\n",
      "Enter a number:Raj\n",
      "You Entered a non integer number\n"
     ]
    }
   ],
   "source": [
    "try:\n",
    "    Fact = 1\n",
    "    while True:\n",
    "        n = int(input('Enter a number:'))\n",
    "        for i in range(1,n+1):\n",
    "            Fact = Fact * i\n",
    "        print(\"The factorial of\",n,\"is\",Fact)\n",
    "except:\n",
    "    print('You Entered a non integer number')"
   ]
  },
  {
   "cell_type": "markdown",
   "id": "ba72e6b2",
   "metadata": {},
   "source": [
    "## Q5. Create an iterator that returns numbers, starting with 1, and each sequence will increase by one (returning 1,2,3,4,5 etc.):"
   ]
  },
  {
   "cell_type": "code",
   "execution_count": 2,
   "id": "919ccb5d",
   "metadata": {},
   "outputs": [
    {
     "name": "stdout",
     "output_type": "stream",
     "text": [
      "Enter the limit:11\n",
      "Sequence from 1 to 11 is:\n",
      "1 2 3 4 5 6 7 8 9 10 11 "
     ]
    }
   ],
   "source": [
    "class Sequence:\n",
    "    def __init__(self,l):\n",
    "        self._limit = l\n",
    "        self._val = 1\n",
    "    def __iter__(self):\n",
    "        return self\n",
    "    def __next__(self):\n",
    "        if self._val > self._limit:\n",
    "            raise StopIteration\n",
    "        else:\n",
    "            return_val = self._val\n",
    "            self._val += 1\n",
    "            return return_val\n",
    "\n",
    "n=int(input('Enter the limit:'))\n",
    "print('Sequence from 1 to',n,'is:')\n",
    "for i in Sequence(n):\n",
    "    print(i,end=' ')"
   ]
  },
  {
   "cell_type": "markdown",
   "id": "6e65767b",
   "metadata": {},
   "source": [
    "## Q6. Write a program that implements iterator class called Prime and which prints prime numbers up to n."
   ]
  },
  {
   "cell_type": "code",
   "execution_count": 4,
   "id": "e4e68094",
   "metadata": {},
   "outputs": [
    {
     "name": "stdout",
     "output_type": "stream",
     "text": [
      "Enter the limit :23\n",
      "Prime numbers under limit : 2 3 5 7 11 13 17 19 23 "
     ]
    }
   ],
   "source": [
    "class Prime:\n",
    "    def __init__(self,l):\n",
    "        self._limit = l\n",
    "        self._val = 2\n",
    "    def __iter__(self):\n",
    "        return self\n",
    "    def __next__(self):\n",
    "        if self._val > self._limit :\n",
    "            raise StopIteration\n",
    "        else:\n",
    "            return_val = self._val\n",
    "            self._val += 1\n",
    "            return return_val\n",
    "\n",
    "num=int(input('Enter the limit :'))\n",
    "print(\"Prime numbers under limit :\",end=' ')\n",
    "for n in Prime(num):\n",
    "    for i in range(2,n):\n",
    "        if(n % i == 0):\n",
    "            break\n",
    "    else:\n",
    "            print(n,end=' ')"
   ]
  },
  {
   "cell_type": "markdown",
   "id": "2507cc44",
   "metadata": {},
   "source": [
    "## Q7.Define a class, Circle, which takes two arguments when defined — a sequence and a number. The idea is that the object will then return elements the defined number of times. If the number is greater than the number of elements, then the sequence repeats as necessary."
   ]
  },
  {
   "cell_type": "code",
   "execution_count": 8,
   "id": "02c23fba",
   "metadata": {},
   "outputs": [
    {
     "name": "stdout",
     "output_type": "stream",
     "text": [
      "[1, 2, 3, 4, 5, 6, 7, 1, 2, 3, 4, 5, 6, 7, 1, 2, 3, 4, 5, 6, 7, 1, 2, 3, 4, 5, 6, 7, 1, 2]\n"
     ]
    }
   ],
   "source": [
    "class Circle:\n",
    "    def __init__(self,sequence,number):\n",
    "        self._sequence = sequence\n",
    "        self._number = number\n",
    "        self._val = 0\n",
    "    def __iter__(self):\n",
    "        return Circle(self._sequence,self._number)\n",
    "    def __next__(self):\n",
    "        if self._val >= self._sequence:\n",
    "            raise StopIteration\n",
    "        else:\n",
    "            value = self._number[self._val % len(self._number)]\n",
    "            self._val += 1\n",
    "            return value\n",
    "num = Circle(30,[1,2,3,4,5,6,7])\n",
    "print(list(num))"
   ]
  },
  {
   "cell_type": "markdown",
   "id": "91843ba5",
   "metadata": {},
   "source": [
    "## Q8. Write a Python program to demonstrate working of iterators using an example type that iterates from 10 to given value"
   ]
  },
  {
   "cell_type": "code",
   "execution_count": 10,
   "id": "88957237",
   "metadata": {},
   "outputs": [
    {
     "name": "stdout",
     "output_type": "stream",
     "text": [
      "Enter the limit:20\n",
      "The numbers from 10 to 23 are:\n",
      "10\n",
      "11\n",
      "12\n",
      "13\n",
      "14\n",
      "15\n",
      "16\n",
      "17\n",
      "18\n",
      "19\n",
      "20\n"
     ]
    }
   ],
   "source": [
    "class Iter:\n",
    "    def __init__(self,l):\n",
    "        self._limit = l\n",
    "        self._val = 10\n",
    "    def __iter__(self):\n",
    "        return self\n",
    "    def __next__(self):\n",
    "        if self._val > self._limit:\n",
    "            raise StopIteration\n",
    "        else:\n",
    "            return_val=self._val\n",
    "            self._val += 1\n",
    "            return return_val\n",
    "        \n",
    "num = int(input('Enter the limit:'))\n",
    "print('The numbers from 10 to',n,'are:')\n",
    "for i in Iter(num):\n",
    "    print(i,end='\\n')"
   ]
  },
  {
   "cell_type": "markdown",
   "id": "a7b8d5c4",
   "metadata": {},
   "source": [
    "## Q9. Write a program to illustrate the concept of multiple decorators"
   ]
  },
  {
   "cell_type": "code",
   "execution_count": 13,
   "id": "3d7ccf4d",
   "metadata": {},
   "outputs": [
    {
     "name": "stdout",
     "output_type": "stream",
     "text": [
      "**************************************************\n",
      "$$$$$$$$$$$$$$$$$$$$$$$$$$$$$$$$$$$$$$$$$$$$$$$$$$\n",
      "Multiple Decoraters\n",
      "@@@@@@@@@@@@@@@@@@@@@@@@@@@@@@@@@@@@@@@@@@@@@@@@@@\n",
      "**************************************************\n"
     ]
    }
   ],
   "source": [
    "def star(func):\n",
    "    def inner(*args, **kwagrs):\n",
    "        print('*'*50)\n",
    "        func(*args, **kwagrs)\n",
    "        print('*'*50)\n",
    "    return inner\n",
    "\n",
    "def percent(func):\n",
    "    def inner(*args, **kwagrs):\n",
    "        print('$'*50)\n",
    "        func(*args, **kwagrs)\n",
    "        print('@'*50)\n",
    "    return inner\n",
    "\n",
    "@star\n",
    "@percent\n",
    "def printer(msg):\n",
    "    print(msg)\n",
    "    \n",
    "printer('Multiple Decoraters')"
   ]
  },
  {
   "cell_type": "markdown",
   "id": "a27c64b3",
   "metadata": {},
   "source": [
    "## Q10. Write a decorator called timer that calculates the time required to execute a function. Its wrapper function called calculates should take all the parameters that are passed to the decorated function."
   ]
  },
  {
   "cell_type": "code",
   "execution_count": 16,
   "id": "c087b826",
   "metadata": {},
   "outputs": [
    {
     "name": "stdout",
     "output_type": "stream",
     "text": [
      "Execution time :::        0.0000037000secs\n",
      "The factorial is : 1\n"
     ]
    }
   ],
   "source": [
    "import time\n",
    "def timer(fun):\n",
    "    def calculate(*args,**kwargs):\n",
    "        start_time=time.perf_counter()\n",
    "        value=fun(*args,**kwargs)\n",
    "        end_time=time.perf_counter()\n",
    "        run_time=end_time-start_time\n",
    "        print('Execution time :::{0:20.10f}secs'.format(run_time))\n",
    "        return value\n",
    "    return calculate\n",
    "\n",
    "@timer\n",
    "def factorial(n):\n",
    "    fact=1\n",
    "    for i in range(n):\n",
    "        fact=fact*(i+1)\n",
    "        return fact\n",
    "\n",
    "print('The factorial is :',factorial(10))"
   ]
  },
  {
   "cell_type": "code",
   "execution_count": null,
   "id": "b5346400",
   "metadata": {},
   "outputs": [],
   "source": []
  }
 ],
 "metadata": {
  "kernelspec": {
   "display_name": "Python 3 (ipykernel)",
   "language": "python",
   "name": "python3"
  },
  "language_info": {
   "codemirror_mode": {
    "name": "ipython",
    "version": 3
   },
   "file_extension": ".py",
   "mimetype": "text/x-python",
   "name": "python",
   "nbconvert_exporter": "python",
   "pygments_lexer": "ipython3",
   "version": "3.9.12"
  }
 },
 "nbformat": 4,
 "nbformat_minor": 5
}
