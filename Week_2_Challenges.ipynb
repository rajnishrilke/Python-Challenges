{
 "cells": [
  {
   "cell_type": "markdown",
   "id": "db3c5b0b",
   "metadata": {},
   "source": [
    "### Q1. Demonstrate how to create simple and multi-line strings, and check whether a string can change after its creation."
   ]
  },
  {
   "cell_type": "code",
   "execution_count": 2,
   "id": "0ed982d3",
   "metadata": {},
   "outputs": [
    {
     "name": "stdout",
     "output_type": "stream",
     "text": [
      "This is \n",
      "presented as a\n",
      "multi-line strings \n",
      "\n",
      "I am learning DA & DS.\n",
      "skill-lync is best site for learnning\n",
      "I like this course.\n",
      "I am teaching DA & DS.\n",
      "skill-lync is best site for learnning\n",
      "I like this course.\n",
      "I am learning DA & DS.\n",
      "skill-lync is best site for learnning\n",
      "I like this course.\n"
     ]
    }
   ],
   "source": [
    "my_str='''This is \n",
    "presented as a\n",
    "multi-line strings'''\n",
    "my_str1=\"\"\"I am learning DA & DS.\n",
    "skill-lync is best site for learnning\n",
    "I like this course.\"\"\"\n",
    "print(my_str,'\\n')\n",
    "print(my_str1)\n",
    "print(my_str1.replace(\"learning\",\"teaching\"))\n",
    "print(my_str1)"
   ]
  },
  {
   "cell_type": "markdown",
   "id": "1b3e2bab",
   "metadata": {},
   "source": [
    "### Q2. For a given string ‘Hello World!’, extract the following:\n",
    "\n",
    "##### H W\n",
    "##### o o\n",
    "##### llorld\n",
    "##### !dlroW olleH\n",
    "##### World!\n",
    "##### Hello"
   ]
  },
  {
   "cell_type": "code",
   "execution_count": 20,
   "id": "5f28d30d",
   "metadata": {},
   "outputs": [
    {
     "name": "stdout",
     "output_type": "stream",
     "text": [
      "H  W\n",
      "o  o\n",
      "llorld\n",
      "!dlroW olleH\n",
      "World!\n",
      "Hello\n"
     ]
    }
   ],
   "source": [
    "string_1='Hello World!'\n",
    "print(string_1[0],'',string_1[6])\n",
    "print(string_1[4],'',string_1[7])\n",
    "print(string_1[2:4]+string_1[7:11])\n",
    "print(string_1[::-1])\n",
    "print(string_1[6:])\n",
    "print(string_1[:5])"
   ]
  },
  {
   "cell_type": "markdown",
   "id": "9f9643b2",
   "metadata": {},
   "source": [
    "### Q3. For the following strings, determine which contain only alphabets, only digits, alphanumeric, which are in lowercase, and which are in uppercase. Also check whether str3 begins or ends with the word “Now”.\n",
    "\n",
    "##### Str1 = ‘Welcome’\n",
    "\n",
    "##### Str2 = ‘Hello World!’\n",
    "\n",
    "##### Str3 = ‘Now is the best time ever! ‘\n",
    "\n",
    "##### Str4 = ‘500017’\n",
    "\n",
    "##### Str5 = ‘IPhone 6’"
   ]
  },
  {
   "cell_type": "code",
   "execution_count": 24,
   "id": "cc7bb337",
   "metadata": {},
   "outputs": [
    {
     "name": "stdout",
     "output_type": "stream",
     "text": [
      "This string containa alphabet: True\n",
      "This string contains digits: False\n",
      "This string contains alphanumeric: True\n",
      "This string contains lower case: False\n",
      "This string contains upper case: False\n",
      "This string containa alphabet: False\n",
      "This string contains digits: False\n",
      "This string contains alphanumeric: False\n",
      "This string contains lower case: False\n",
      "This string contains upper case: False\n",
      "This string containa alphabet: False\n",
      "This string contains digits: False\n",
      "This string contains alphanumeric: False\n",
      "This string contains lower case: False\n",
      "This string contains upper case: False\n",
      "This string starts with now: True\n",
      "This string ends with now: False\n",
      "This string containa alphabet: False\n",
      "This string contains digits: True\n",
      "This string contains alphanumeric: True\n",
      "This string contains lower case: False\n",
      "This string contains upper case: False\n",
      "This string containa alphabet: False\n",
      "This string contains digits: False\n",
      "This string contains alphanumeric: True\n",
      "This string contains lower case: False\n",
      "This string contains upper case: False\n"
     ]
    }
   ],
   "source": [
    "str1='Welcome'\n",
    "print('This string containa alphabet:',str1.isalpha())\n",
    "print('This string contains digits:',str1.isdigit())\n",
    "print('This string contains alphanumeric:',str1.isalnum())\n",
    "print('This string contains lower case:',str1.islower())\n",
    "print('This string contains upper case:',str1.isupper())\n",
    "\n",
    "str2='Hello World!'\n",
    "print('This string containa alphabet:',str2.isalpha())\n",
    "print('This string contains digits:',str2.isdigit())\n",
    "print('This string contains alphanumeric:',str2.isalnum())\n",
    "print('This string contains lower case:',str2.islower())\n",
    "print('This string contains upper case:',str2.isupper())\n",
    "\n",
    "str3='Now is the best time ever!'\n",
    "print('This string containa alphabet:',str3.isalpha())\n",
    "print('This string contains digits:',str3.isdigit())\n",
    "print('This string contains alphanumeric:',str3.isalnum())\n",
    "print('This string contains lower case:',str3.islower())\n",
    "print('This string contains upper case:',str3.isupper())\n",
    "print('This string starts with now:',str3.startswith('Now'))\n",
    "print('This string ends with now:',str3.endswith('Now'))\n",
    "\n",
    "\n",
    "str4='500017'\n",
    "print('This string containa alphabet:',str4.isalpha())\n",
    "print('This string contains digits:',str4.isdigit())\n",
    "print('This string contains alphanumeric:',str4.isalnum())\n",
    "print('This string contains lower case:',str4.islower())\n",
    "print('This string contains upper case:',str4.isupper())\n",
    "\n",
    "str5='IPhone6'\n",
    "print('This string containa alphabet:',str5.isalpha())\n",
    "print('This string contains digits:',str5.isdigit())\n",
    "print('This string contains alphanumeric:',str5.isalnum())\n",
    "print('This string contains lower case:',str5.islower())\n",
    "print('This string contains upper case:',str5.isupper())"
   ]
  },
  {
   "cell_type": "markdown",
   "id": "943d3842",
   "metadata": {},
   "source": [
    "### Q4. Accept a sentence from the user. Convert the case of the input into title case."
   ]
  },
  {
   "cell_type": "code",
   "execution_count": 28,
   "id": "532683da",
   "metadata": {},
   "outputs": [
    {
     "name": "stdout",
     "output_type": "stream",
     "text": [
      "Enter the Sentence:It is Rajnish, Which is done BCA.\n",
      "Converted title case is:  False\n"
     ]
    }
   ],
   "source": [
    "string_put=input('Enter the Sentence:')\n",
    "print('Converted title case is: ',string_put.istitle())"
   ]
  },
  {
   "cell_type": "markdown",
   "id": "7d77fee9",
   "metadata": {},
   "source": [
    "### Q5. Write a program that reads an integer from the user. Then your program should display a message indicating whether the integer is even or odd."
   ]
  },
  {
   "cell_type": "code",
   "execution_count": 35,
   "id": "e5184e26",
   "metadata": {},
   "outputs": [
    {
     "name": "stdout",
     "output_type": "stream",
     "text": [
      "Enter the Number:10\n",
      "Number is Even\n"
     ]
    }
   ],
   "source": [
    "num=int(input('Enter the Number:'))\n",
    "if num%2==0:\n",
    "    print('Number is Even')\n",
    "else:\n",
    "    print('Number is Odd')"
   ]
  },
  {
   "cell_type": "markdown",
   "id": "de67514d",
   "metadata": {},
   "source": [
    "### Q6. Create a program that reads a letter of the alphabet from the user. If the user enters a, e, i, o or u then your program should display a message indicating that the entered letter is a vowel. Otherwise, the program should display a message that the entered letter is a consonant"
   ]
  },
  {
   "cell_type": "code",
   "execution_count": 37,
   "id": "32f50e86",
   "metadata": {},
   "outputs": [
    {
     "name": "stdout",
     "output_type": "stream",
     "text": [
      "Enter any alphabet letter from english: U\n",
      "U The alphabet letter is Vowel\n"
     ]
    }
   ],
   "source": [
    "ch=input('Enter any alphabet letter from english: ')\n",
    "if ch=='a'or ch=='e'or ch=='i'or ch=='o'or ch=='u'or ch=='A'or ch=='E'or ch=='I'or ch=='O'or ch=='U':\n",
    "        print(ch,'The alphabet letter is Vowel')\n",
    "else:\n",
    "    print(ch,'The alphabet letter is Constant')"
   ]
  },
  {
   "cell_type": "markdown",
   "id": "e637d524",
   "metadata": {},
   "source": [
    "### Q7. The length of a month varies from 28 to 31 days. Create a program that reads the name of a month from the user as a string. Then your program should display the number of days in that month. Display “28 or 29 days” for February so that leap years is addressed."
   ]
  },
  {
   "cell_type": "code",
   "execution_count": 1,
   "id": "abad224c",
   "metadata": {},
   "outputs": [
    {
     "name": "stdout",
     "output_type": "stream",
     "text": [
      "Enter the Month Name:may\n",
      "In the may total days is 31.\n"
     ]
    }
   ],
   "source": [
    "month=input('Enter the Month Name:')\n",
    "if month=='januay'or month=='march'or month=='may'or month=='july'or month=='august'or month=='october'or month=='december':\n",
    "    print('In the',month,'total days is 31.')\n",
    "elif month=='april'or month=='june'or month=='september'or month=='november':\n",
    "        print('In the',month,'total days is 30.')\n",
    "elif month=='february':\n",
    "            print('In the',month,'total days is 28 or 29.')\n",
    "else:\n",
    "                print('This is not a month')"
   ]
  },
  {
   "cell_type": "markdown",
   "id": "ec7cb914",
   "metadata": {},
   "source": [
    "### Q8. A triangle can be classified based on the lengths of its sides as equilateral, isosceles or scalene. All 3 sides of an equilateral triangle have the same length. An isosceles triangle has two sides that are the same length, and a third side that is a different length. If all of the sides have different lengths then the triangle is scalene. Write a program that reads the lengths of 3 sides of a triangle from the user. Display a message indicating the type of the triangle."
   ]
  },
  {
   "cell_type": "code",
   "execution_count": 7,
   "id": "e17ab3bf",
   "metadata": {},
   "outputs": [
    {
     "name": "stdout",
     "output_type": "stream",
     "text": [
      "Enter the length of trianlge:4\n",
      "Ener the height of triangle:4\n",
      "Enter the breadth of triangle:6\n",
      "The length of two sides is same. It is Isosceles.\n"
     ]
    }
   ],
   "source": [
    "side1=input('Enter the length of trianlge:')\n",
    "side2=input('Ener the height of triangle:')\n",
    "side3=input('Enter the breadth of triangle:')\n",
    "if side1==side2 and side2==side3 and side1==side3:\n",
    "    print('The length of all the sides is same.It is Equilateal.')\n",
    "elif side1==side2 or side2==side3 or side1==side3:\n",
    "    print('The length of two sides is same. It is Isosceles.')\n",
    "else:\n",
    "    print('The length of all the sides is different. It is Scalene')"
   ]
  },
  {
   "cell_type": "markdown",
   "id": "a7a3c73d",
   "metadata": {},
   "source": [
    "### Q9. The rules for determining whether or not a year is a leap year follow:\n",
    "##### Any year that is divisible by 400 is a leap year.\n",
    "##### Of the remaining years, any year that is divisible by 100 is not a leap year.\n",
    "##### Of the remaining years, any year that is divisible by 4 is a leap year.\n",
    "##### All other years are not leap years.\n",
    "#### Write a program that reads a year from the user and displays a message indicating whether or not it is a leap year."
   ]
  },
  {
   "cell_type": "code",
   "execution_count": 54,
   "id": "843a8381",
   "metadata": {},
   "outputs": [
    {
     "name": "stdout",
     "output_type": "stream",
     "text": [
      "Enter the Year: 2022\n",
      "2022 ,This is not leap year.\n"
     ]
    }
   ],
   "source": [
    "year=int(input('Enter the Year: '))\n",
    "if year%400==0:\n",
    "    print(year,',This is divisible by 400 is a leap year.')\n",
    "elif year%100==0:\n",
    "    print(year,',This is divisible by 100 is not a leap year.')\n",
    "elif year%4==0:\n",
    "    print(year,',This is divisible by 4 is a leap year.')\n",
    "else:\n",
    "    print(year,',This is not leap year.')"
   ]
  },
  {
   "cell_type": "markdown",
   "id": "f82bf4f1",
   "metadata": {},
   "source": [
    "### Q10. Write a program that computes the real roots of a quadratic function. Your program should begin by prompting the user for the values of a, b and c. Then it should display a message indicating the number of real roots, along with the values of the real roots (if any)."
   ]
  },
  {
   "cell_type": "code",
   "execution_count": 10,
   "id": "91828da7",
   "metadata": {},
   "outputs": [
    {
     "name": "stdout",
     "output_type": "stream",
     "text": [
      "Enter the value of a:4\n",
      "Enter the value of b:5\n",
      "Enter the value of c:5\n",
      "Complex roots\n"
     ]
    }
   ],
   "source": [
    "a=int(input('Enter the value of a:'))\n",
    "b=int(input('Enter the value of b:'))\n",
    "c=int(input('Enter the value of c:'))\n",
    "if b**2<4*a*c:\n",
    "    print('Complex roots')\n",
    "elif b**2==4*a*c:\n",
    "    print('real roots')\n",
    "elif b**2>4*a*c:\n",
    "    print('not real roots')   \n",
    "else:\n",
    "    print('stop')"
   ]
  },
  {
   "cell_type": "code",
   "execution_count": null,
   "id": "59221a7c",
   "metadata": {},
   "outputs": [],
   "source": []
  }
 ],
 "metadata": {
  "kernelspec": {
   "display_name": "Python 3 (ipykernel)",
   "language": "python",
   "name": "python3"
  },
  "language_info": {
   "codemirror_mode": {
    "name": "ipython",
    "version": 3
   },
   "file_extension": ".py",
   "mimetype": "text/x-python",
   "name": "python",
   "nbconvert_exporter": "python",
   "pygments_lexer": "ipython3",
   "version": "3.9.12"
  }
 },
 "nbformat": 4,
 "nbformat_minor": 5
}
