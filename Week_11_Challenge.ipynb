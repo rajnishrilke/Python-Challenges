{
 "cells": [
  {
   "cell_type": "markdown",
   "id": "c80e0fa3",
   "metadata": {},
   "source": [
    "## Q1. Create a simple tkinter application to display a welcome message in a window using the label widget."
   ]
  },
  {
   "cell_type": "code",
   "execution_count": 1,
   "id": "b863cc70",
   "metadata": {},
   "outputs": [],
   "source": [
    "from tkinter import *\n",
    "window=Tk()\n",
    "Label(window,text='Welcome').pack()\n",
    "window.geometry('150x150')\n",
    "window.mainloop()"
   ]
  },
  {
   "cell_type": "markdown",
   "id": "aa64b7bf",
   "metadata": {},
   "source": [
    "## Q2. Create tkinter application to accept user name in a text widget. Then display the user name with a welcome message in a label widget"
   ]
  },
  {
   "cell_type": "code",
   "execution_count": 4,
   "id": "e75999e7",
   "metadata": {},
   "outputs": [],
   "source": [
    "from tkinter import *\n",
    "window=Tk()\n",
    "\n",
    "def Message():\n",
    "    x=i.get(1.0,'end-1c')\n",
    "    label.config(text='welcome '+str(x))\n",
    "i=Text(window,height=2,width=20)\n",
    "i.pack()\n",
    "b=Button(window,text='Click',command=Message)\n",
    "b.pack()\n",
    "label=Label(window,text=' ')\n",
    "label.pack()\n",
    "window.geometry('200x100')\n",
    "window.mainloop()"
   ]
  },
  {
   "cell_type": "markdown",
   "id": "9721c926",
   "metadata": {},
   "source": [
    "## Q3. Modify the tkinter application developed in Q.No. 2 so that it uses a grid layout"
   ]
  },
  {
   "cell_type": "code",
   "execution_count": 6,
   "id": "2d95e083",
   "metadata": {},
   "outputs": [],
   "source": [
    "from tkinter import *\n",
    "window=Tk()\n",
    "\n",
    "def Message():\n",
    "    x=i.get(1.0,'end-1c')\n",
    "    label.config(text='welcome '+str(x))\n",
    "i=Text(window,height=2,width=20)\n",
    "i.grid(row=0, column=0)\n",
    "b=Button(window,text='Click',command=Message)\n",
    "b.grid(row=1, column=0)\n",
    "label=Label(window,text=' ')\n",
    "label.grid(row=2, column=0)\n",
    "window.geometry('200x100')\n",
    "window.mainloop()"
   ]
  },
  {
   "cell_type": "markdown",
   "id": "79bb94e5",
   "metadata": {},
   "source": [
    "## Q4. Create a tkinter application to accept radius of a circle and display the area."
   ]
  },
  {
   "cell_type": "code",
   "execution_count": 8,
   "id": "609d285e",
   "metadata": {},
   "outputs": [],
   "source": [
    "from tkinter import *\n",
    "window = Tk()\n",
    "window.title('Find Area Of Circle')\n",
    "def area_of_circle():\n",
    "    convert = float(e.get())\n",
    "    area = (convert**2)*3.14\n",
    "    t.delete('1.0',END)\n",
    "    t.insert(END,area)\n",
    "\n",
    "l1 = Label(window,text='Enter the radius of circle:')\n",
    "l1.grid(row=0,column=0)\n",
    "e = StringVar()\n",
    "e1 = Entry(window,textvariable=e)\n",
    "e1.grid(row=0,column=1)\n",
    "l2 = Label(window,text='Area of circle:')\n",
    "l2.grid(row=1,column=0)\n",
    "t = Text(window,height =3,width =15)\n",
    "t.grid(row=1,column=1)\n",
    "b = Button(window,text='Display',command=area_of_circle)\n",
    "b.grid(row=2,column=1)\n",
    "window.mainloop()"
   ]
  },
  {
   "cell_type": "markdown",
   "id": "79b62cb4",
   "metadata": {},
   "source": [
    "## Q5. Create a tkinter application to accept temperature in Celsius and convert and display the temperature in Fahrenheit."
   ]
  },
  {
   "cell_type": "code",
   "execution_count": 12,
   "id": "73be4009",
   "metadata": {},
   "outputs": [
    {
     "name": "stdout",
     "output_type": "stream",
     "text": [
      "Successfully Executed\n",
      "Successfully Executed\n"
     ]
    }
   ],
   "source": [
    "from tkinter import *\n",
    "window = Tk()\n",
    "window.title('Celsius To Fahrenheit Convertor')\n",
    "def convert_temperature():\n",
    "    temp = float(entry.get())\n",
    "    temp = 9/5 * temp+32\n",
    "    output_label.configure(text = ' Converted to Fahrenheit: {:.1f} ' .format(temp))\n",
    "    print('Successfully Executed')\n",
    "    \n",
    "message_label = Label(text='Enter a temperature in Celsius :' ,font=( ' Verdana ' , 12))\n",
    "output_label = Label(font=( ' Verdana ' , 12))\n",
    "entry = Entry(font=( ' Verdana ' , 12), width=6)\n",
    "calc_button = Button(text= ' Convert Celsius to Farenheit ' , font=( ' Verdana ' , 12),command=convert_temperature)\n",
    "message_label.grid(row=0, column=0)\n",
    "entry.grid(row=0, column=1)\n",
    "calc_button.grid(row=0, column=2)\n",
    "output_label.grid(row=1, column=0, columnspan=3)\n",
    "window.mainloop()"
   ]
  },
  {
   "cell_type": "markdown",
   "id": "a3163a90",
   "metadata": {},
   "source": [
    "## Q6. Create a tkinter application to accept distance in kilometers and convert and display distance in miles."
   ]
  },
  {
   "cell_type": "code",
   "execution_count": 13,
   "id": "3c6803e0",
   "metadata": {},
   "outputs": [
    {
     "name": "stdout",
     "output_type": "stream",
     "text": [
      "Successfully Executed\n",
      "Successfully Executed\n"
     ]
    }
   ],
   "source": [
    "window = Tk()\n",
    "window.title('Kilometers to Miles Convertor')\n",
    "def Km_to_miles():\n",
    "    miles = float(e1_val.get()) * 1.6\n",
    "    t1.delete(\"1.0\",END)\n",
    "    t1.insert(END,miles)\n",
    "    print('Successfully Executed')\n",
    "l1 = Label(window,text=\"Enter Kilometers :\")\n",
    "l1.grid(row=0,column=0)\n",
    "e1_val = StringVar()\n",
    "e1 = Entry(window,textvariable=e1_val)\n",
    "e1.grid(row=0,column=1)\n",
    "l2 = Label(window,text=\"Kilometers in miles is :\")\n",
    "l2.grid(row=1,column=0)\n",
    "t1 = Text(window,height=1,width=20)\n",
    "t1.grid(row=1,column=1)\n",
    "b1 = Button(window,text=\"Convert\",command=Km_to_miles)\n",
    "b1.grid(row=2,column=1)\n",
    "window.mainloop()"
   ]
  },
  {
   "cell_type": "markdown",
   "id": "e9c84aa5",
   "metadata": {},
   "source": [
    "## Q7. Create a tkinter application to display a menu with three items. A separate message should be display when each of the three menu items is clicked."
   ]
  },
  {
   "cell_type": "code",
   "execution_count": 14,
   "id": "e0480691",
   "metadata": {},
   "outputs": [],
   "source": [
    "from tkinter import *\n",
    "window = Tk()\n",
    "window.title('Display a menu with 3 items')\n",
    "def Option1():\n",
    "    l1 = Label(window,text='File Is Opened Now ')\n",
    "    l1.grid(row=0,column=0)\n",
    "def Option2():\n",
    "    l1 = Label(window,text='Save The File')\n",
    "    l1.grid(row=1,column=0)\n",
    "def Option3():\n",
    "    l1 = Label(window,text='Exit From File')\n",
    "    l1.grid(row=2,column=0)\n",
    "menubar=Menu(window)\n",
    "file1 = Menu(menubar)\n",
    "file1.add_command(label='Option1',command=Option1)\n",
    "file1.add_separator()\n",
    "file1.add_command(label='Option2',command=Option2)\n",
    "file1.add_separator()\n",
    "file1.add_command(label='Option3',command=Option3)\n",
    "file1.add_separator()\n",
    "menubar.add_cascade(label='File',menu=file1)\n",
    "window.config(menu=menubar)\n",
    "window.mainloop()"
   ]
  },
  {
   "cell_type": "markdown",
   "id": "f89b5b8b",
   "metadata": {},
   "source": [
    "## Q8. Create a tkinter application to display a radio button group with three items. A separate message should be display when each of the three radio buttons items is clicked."
   ]
  },
  {
   "cell_type": "code",
   "execution_count": 16,
   "id": "bb23e3be",
   "metadata": {},
   "outputs": [],
   "source": [
    "from tkinter import *\n",
    "window=Tk()\n",
    "window.title('Display a Radio button with 3 Items')\n",
    "def sel():\n",
    "    selection = 'You have selected '+ str(var.get())\n",
    "    label.config(text=selection)\n",
    "var=StringVar()\n",
    "R1 = Radiobutton(window,text='Copy',variable=var,value='Copy and cost of Copy is ₹ 40 ',command=sel)\n",
    "R1.pack()\n",
    "R2 = Radiobutton(window,text='Pen',variable=var,value='Pen and cost of Pen is ₹ 20 ',command=sel)\n",
    "R2.pack()\n",
    "R3 = Radiobutton(window,text='Book',variable=var,value='Book and cost of Book is ₹ 250 ',command=sel)\n",
    "R3.pack()\n",
    "label = Label(window)\n",
    "label.pack()\n",
    "window.mainloop()"
   ]
  },
  {
   "cell_type": "markdown",
   "id": "1a0bd434",
   "metadata": {},
   "source": [
    "## Q9. Create a tkinter application to display three check boxes. A separate message should be display when each of the three check boxes items is selected."
   ]
  },
  {
   "cell_type": "code",
   "execution_count": 18,
   "id": "575d81c7",
   "metadata": {},
   "outputs": [],
   "source": [
    "from tkinter import *\n",
    "window=Tk()\n",
    "window.title('Display 3 Checkboxes')\n",
    "def sel1():\n",
    "    if (CheckVar1.get()==1):\n",
    "        selection = \"You have selected Copy\"\n",
    "    else:\n",
    "        selection = \"You unselected Copy\"\n",
    "        label.config(text=selection)\n",
    "def sel2():\n",
    "    if (CheckVar2.get()==1):\n",
    "        selection = \"You have selected Pen\"\n",
    "    else:\n",
    "        selection = \"You unselected Pen\"\n",
    "        label.config(text=selection)\n",
    "def sel3():\n",
    "    if (CheckVar3.get()==1):\n",
    "        selection = \"You have selected Book\"\n",
    "    else:\n",
    "        selection = \"You unselected Book\"\n",
    "        label.config(text=selection)\n",
    "\n",
    "CheckVar1 = IntVar()\n",
    "CheckVar2 = IntVar()\n",
    "CheckVar3 = IntVar()\n",
    "C1=Checkbutton(window,text='Copy',variable=CheckVar1,onvalue=1,offvalue=0,height=5,width=20,command=sel1)\n",
    "C2=Checkbutton(window,text='Pen',variable=CheckVar2,onvalue=1,offvalue=0,height=5,width=20,command=sel2)\n",
    "C3=Checkbutton(window,text='Book',variable=CheckVar3,onvalue=1,offvalue=0,height=5,width=20,command=sel3)\n",
    "C1.pack()\n",
    "C2.pack()\n",
    "C3.pack()\n",
    "label = Label(window)\n",
    "label.pack()\n",
    "window.mainloop()"
   ]
  },
  {
   "cell_type": "markdown",
   "id": "90ddc105",
   "metadata": {},
   "source": [
    "## Q10. Create a tkinter application which contains a list box with five items. Whenever an item in the list box is selected, the item’s text should be displayed"
   ]
  },
  {
   "cell_type": "code",
   "execution_count": 19,
   "id": "748553a9",
   "metadata": {},
   "outputs": [
    {
     "name": "stdout",
     "output_type": "stream",
     "text": [
      "Python\n",
      "Python\n",
      "Pandas\n",
      "NumPy\n",
      "Tkinter\n",
      "ChunkFive\n"
     ]
    }
   ],
   "source": [
    "window=Tk()\n",
    "window.title('List Box')\n",
    "def my_upd():\n",
    "    print(l1.get(ACTIVE))\n",
    "    \n",
    "l1 = Listbox(window,height=4)\n",
    "l1.grid(row=1,column=1)\n",
    "my_list=['Python','Pandas','NumPy','Tkinter','ChunkFive']\n",
    "for element in my_list:\n",
    "    l1.insert(END,element)\n",
    "    \n",
    "b1=Button(window,text='Show',width=10,bg='red',comman=my_upd)\n",
    "b1.grid(row=1,column=2)\n",
    "window.mainloop()"
   ]
  },
  {
   "cell_type": "code",
   "execution_count": null,
   "id": "83c1212c",
   "metadata": {},
   "outputs": [],
   "source": []
  }
 ],
 "metadata": {
  "kernelspec": {
   "display_name": "Python 3 (ipykernel)",
   "language": "python",
   "name": "python3"
  },
  "language_info": {
   "codemirror_mode": {
    "name": "ipython",
    "version": 3
   },
   "file_extension": ".py",
   "mimetype": "text/x-python",
   "name": "python",
   "nbconvert_exporter": "python",
   "pygments_lexer": "ipython3",
   "version": "3.9.12"
  }
 },
 "nbformat": 4,
 "nbformat_minor": 5
}
