{
 "cells": [
  {
   "cell_type": "markdown",
   "id": "09665d6d",
   "metadata": {},
   "source": [
    "### Q1 Create a program that displays your name and complete mailing address formatted in the manner that you would usually see it on the outside of an envelope. Your program does not need to read any input from the user."
   ]
  },
  {
   "cell_type": "code",
   "execution_count": 3,
   "id": "b56d85e1",
   "metadata": {},
   "outputs": [
    {
     "name": "stdout",
     "output_type": "stream",
     "text": [
      "Name: Rajnish Kumar\n",
      "Age: 25\n",
      "Address: East-Champaran, Bihar, India-845406\n"
     ]
    }
   ],
   "source": [
    "name = \"Rajnish Kumar\"\n",
    "age=25\n",
    "address = \"East-Champaran, Bihar, India-845406\"\n",
    "print('Name:',name)\n",
    "print('Age:',age)\n",
    "print('Address:',address)"
   ]
  },
  {
   "cell_type": "markdown",
   "id": "b45ae546",
   "metadata": {},
   "source": [
    "### Q2 Write a program that asks the user to enter his or her name. The program should respond with a message that says hello to the user, using his or her name."
   ]
  },
  {
   "cell_type": "code",
   "execution_count": 5,
   "id": "01588e7a",
   "metadata": {},
   "outputs": [
    {
     "name": "stdout",
     "output_type": "stream",
     "text": [
      "Enter the name: Rajnish\n",
      "Hello Rajnish\n"
     ]
    }
   ],
   "source": [
    "name=str(input(\"Enter the name: \"))\n",
    "print(\"Hello\",name)"
   ]
  },
  {
   "cell_type": "markdown",
   "id": "f4d0479c",
   "metadata": {},
   "source": [
    "### Q3 Write a program that accepts radius (datatype : float) of a circle from the user. Calculate and display the area and circumference of the circle"
   ]
  },
  {
   "cell_type": "code",
   "execution_count": 8,
   "id": "17a00c68",
   "metadata": {},
   "outputs": [
    {
     "name": "stdout",
     "output_type": "stream",
     "text": [
      "Enter the radius of Circle:5\n",
      "Area of the circle is: 78.5\n",
      "circumference of the circle is: 31.400000000000002\n"
     ]
    }
   ],
   "source": [
    "radius=float(input(\"Enter the radius of Circle:\"))\n",
    "area=3.14*radius**2\n",
    "circum=2*3.14*radius\n",
    "print('Area of the circle is:',area)\n",
    "print('circumference of the circle is:',circum)"
   ]
  },
  {
   "cell_type": "markdown",
   "id": "8cd51c47",
   "metadata": {},
   "source": [
    "### Q4 Write a program that accepts length and breadth (both float) of a rectangle from the user. Calculate and display the area and perimeter of the rectangle"
   ]
  },
  {
   "cell_type": "code",
   "execution_count": 11,
   "id": "72ed85b4",
   "metadata": {},
   "outputs": [
    {
     "name": "stdout",
     "output_type": "stream",
     "text": [
      "Enter the rectangle of length: 3.5\n",
      "Enter the rectangle of breadth: 2.5\n",
      "Area of rectangle is: 8.75\n",
      "Perimeter of rectangle is: 12.0\n"
     ]
    }
   ],
   "source": [
    "length=float(input(\"Enter the rectangle of length: \"))\n",
    "breadth=float(input(\"Enter the rectangle of breadth: \"))\n",
    "print('Area of rectangle is:',length*breadth)\n",
    "print('Perimeter of rectangle is:',2*(length+breadth))"
   ]
  },
  {
   "cell_type": "markdown",
   "id": "09c8efd6",
   "metadata": {},
   "source": [
    "### Q5 Write a program to accept the side (datatype : float) of a square from the user. Calculate and display the area and perimeter of the square"
   ]
  },
  {
   "cell_type": "code",
   "execution_count": 14,
   "id": "6c6c567a",
   "metadata": {},
   "outputs": [
    {
     "name": "stdout",
     "output_type": "stream",
     "text": [
      "Enter the side of Square: 5\n",
      "Area of square is: 25.0\n",
      "Perimeter of square is: 20.0\n"
     ]
    }
   ],
   "source": [
    "side=float(input(\"Enter the side of Square: \"))\n",
    "print('Area of square is:',side**2)\n",
    "print('Perimeter of square is:',4*side)"
   ]
  },
  {
   "cell_type": "markdown",
   "id": "5823f214",
   "metadata": {},
   "source": [
    "### Q6 Write a program to accept the temperature (datatype : float) in Fahrenheit and convert it into Centigrade. Modify the program to accept the temperature in Centigrade and convert it into Fahrenheit"
   ]
  },
  {
   "cell_type": "code",
   "execution_count": 1,
   "id": "a15eb575",
   "metadata": {},
   "outputs": [
    {
     "name": "stdout",
     "output_type": "stream",
     "text": [
      "Enter the temperatue in Fahrenheit:98\n",
      "Temperature in centigrade is: 36.666666666666664\n"
     ]
    }
   ],
   "source": [
    "temperature=float(input('Enter the temperatue in Fahrenheit:'))\n",
    "print('Temperature in centigrade is:',(temperature-32)*5/9)"
   ]
  },
  {
   "cell_type": "code",
   "execution_count": 2,
   "id": "5cb4d391",
   "metadata": {},
   "outputs": [
    {
     "name": "stdout",
     "output_type": "stream",
     "text": [
      "Enter the temperatue in centigrade:37\n",
      "Temperature in Fahrenheit is: 98.6\n"
     ]
    }
   ],
   "source": [
    "temperature=float(input('Enter the temperatue in centigrade:'))\n",
    "print('Temperature in Fahrenheit is:',(temperature*9/5)+32)"
   ]
  },
  {
   "cell_type": "markdown",
   "id": "90c1a1fe",
   "metadata": {},
   "source": [
    "### Q7 Write a program to accept two complex numbers. Perform addition, subtraction and multiplication of these numbers an display the results to the user."
   ]
  },
  {
   "cell_type": "code",
   "execution_count": 8,
   "id": "16d2cd96",
   "metadata": {},
   "outputs": [
    {
     "name": "stdout",
     "output_type": "stream",
     "text": [
      "Addition of complex: (7-1j)\n",
      "Substraction of complex: (1+7j)\n",
      "Multiplicaion of complex: (24-7j)\n"
     ]
    }
   ],
   "source": [
    "x=4+3j\n",
    "y=3-4j\n",
    "print('Addition of complex:',x+y)\n",
    "print('Substraction of complex:',x-y)\n",
    "print('Multiplicaion of complex:',x*y)"
   ]
  },
  {
   "cell_type": "markdown",
   "id": "106b8bc6",
   "metadata": {},
   "source": [
    "### Q8 Write a program to accept the name and basic salary (datatype : float) of an employee. Calculate the dearness allowance as 40 % of basic and house rent allowance as 20 % of basic. Display the gross salary to the user. (Hint: gross salary = basic salary + dearness allowance + house rent allowance)"
   ]
  },
  {
   "cell_type": "code",
   "execution_count": 14,
   "id": "19ab7fec",
   "metadata": {},
   "outputs": [
    {
     "name": "stdout",
     "output_type": "stream",
     "text": [
      "Enter the Name: Rajnish\n",
      "Enter the Basic salary: 16000\n",
      "Gross salary of Rajnish 25600.0\n"
     ]
    }
   ],
   "source": [
    "name=str(input('Enter the Name: '))\n",
    "basic_sal=float(input('Enter the Basic salary: '))\n",
    "DA=(basic_sal*40)/100\n",
    "HRA=(basic_sal*20)/100\n",
    "print('Gross salary of',name,basic_sal+DA+HRA)"
   ]
  },
  {
   "cell_type": "markdown",
   "id": "21257180",
   "metadata": {},
   "source": [
    "### Q9 Write a program that reads a positive integer, n, from the user and then displays the sum of all of the integers from 1 to n. The sum of the first n positive integers can be computed using the formula: sum = (n)(n + 1)/ 2"
   ]
  },
  {
   "cell_type": "code",
   "execution_count": 16,
   "id": "849b6844",
   "metadata": {},
   "outputs": [
    {
     "name": "stdout",
     "output_type": "stream",
     "text": [
      "Enter the positive integer:10\n",
      "The sum of the first n positive integers : 55.0\n"
     ]
    }
   ],
   "source": [
    "n=int(input('Enter the positive integer:'))\n",
    "sum = (n)*(n + 1)/ 2\n",
    "print('The sum of the first n positive integers :',sum)"
   ]
  },
  {
   "cell_type": "markdown",
   "id": "09a8dc34",
   "metadata": {},
   "source": [
    "### Q10 Create a program that reads two integers, a and b, from the user. Your program should compute and display:\n",
    "###### The sum of a and b\n",
    "###### The difference when b is subtracted from a\n",
    "###### The product of a and b\n",
    "###### The quotient when a is divided by b\n",
    "###### The remainder when a is divided by b\n",
    "###### The result of ab"
   ]
  },
  {
   "cell_type": "code",
   "execution_count": 25,
   "id": "590c9ff1",
   "metadata": {},
   "outputs": [
    {
     "name": "stdout",
     "output_type": "stream",
     "text": [
      "Enter the value of a: 5\n",
      "Enter the value of b: 2\n",
      "The sum of a and b: 7\n",
      "The difference when b is subtracted from a: 3\n",
      "The product of a and b: 10\n",
      "The quotient when a is divided by b: 2.5\n",
      "The remainder when a is divided by b: 1\n",
      "The result of ab : 25\n"
     ]
    }
   ],
   "source": [
    "a = int (input (\"Enter the value of a: \")) \n",
    "b = int (input (\"Enter the value of b: \")) \n",
    "print('The sum of a and b:',a+b)\n",
    "print('The difference when b is subtracted from a:',a-b)\n",
    "print('The product of a and b:',a*b)\n",
    "print('The quotient when a is divided by b:',a/b)\n",
    "print('The remainder when a is divided by b:',a%b)\n",
    "print('The result of ab :',a**b)"
   ]
  },
  {
   "cell_type": "code",
   "execution_count": null,
   "id": "65e5cdf1",
   "metadata": {},
   "outputs": [],
   "source": [
    "\n"
   ]
  },
  {
   "cell_type": "code",
   "execution_count": null,
   "id": "32205ae7",
   "metadata": {},
   "outputs": [],
   "source": []
  }
 ],
 "metadata": {
  "kernelspec": {
   "display_name": "Python 3 (ipykernel)",
   "language": "python",
   "name": "python3"
  },
  "language_info": {
   "codemirror_mode": {
    "name": "ipython",
    "version": 3
   },
   "file_extension": ".py",
   "mimetype": "text/x-python",
   "name": "python",
   "nbconvert_exporter": "python",
   "pygments_lexer": "ipython3",
   "version": "3.9.12"
  }
 },
 "nbformat": 4,
 "nbformat_minor": 5
}
