{
 "cells": [
  {
   "cell_type": "markdown",
   "id": "3c138aa3",
   "metadata": {},
   "source": [
    "## Q1. Write a program to accept an integer n greater than 10. Then print all the odd numbers from 1 to n."
   ]
  },
  {
   "cell_type": "code",
   "execution_count": 37,
   "id": "46313569",
   "metadata": {},
   "outputs": [
    {
     "name": "stdout",
     "output_type": "stream",
     "text": [
      "Enter Number15\n",
      "1\n",
      "3\n",
      "5\n",
      "7\n",
      "9\n",
      "11\n",
      "13\n",
      "15\n"
     ]
    }
   ],
   "source": [
    "n=int(input('Enter Number:'))\n",
    "if n>10:\n",
    "    for i in range(1, n + 1):\n",
    "        if(i % 2 != 0):\n",
    "            print(i)"
   ]
  },
  {
   "cell_type": "markdown",
   "id": "9523c86a",
   "metadata": {},
   "source": [
    "## Q2. Write a program to accept an integer n greater than 10. Then print all the prime numbers from 1 to n."
   ]
  },
  {
   "cell_type": "code",
   "execution_count": 51,
   "id": "434c3af9",
   "metadata": {},
   "outputs": [
    {
     "name": "stdout",
     "output_type": "stream",
     "text": [
      "Enter Number:17\n",
      "2\n",
      "3\n",
      "5\n",
      "7\n",
      "11\n",
      "13\n",
      "17\n"
     ]
    }
   ],
   "source": [
    "n=int(input('Enter Number:'))\n",
    "if n>10:\n",
    "    for n in range (2, n+1): \n",
    "        for i in range (2, n):  \n",
    "            if (n % i) == 0:  \n",
    "                break  \n",
    "        else:  \n",
    "            print (n) "
   ]
  },
  {
   "cell_type": "markdown",
   "id": "855eb4b3",
   "metadata": {},
   "source": [
    "## Q3. In this exercise you will create a program that computes the average of a collection of values entered by the user. The user will enter 0 as a sentinel value to indicate that no further values will be provided. Your program should display an appropriate error message if the first value entered by the user is 0."
   ]
  },
  {
   "cell_type": "code",
   "execution_count": 33,
   "id": "da53dce9",
   "metadata": {},
   "outputs": [
    {
     "name": "stdout",
     "output_type": "stream",
     "text": [
      "Enter Values:10\n",
      "Enter Values:15\n",
      "Enter Values:20\n",
      "Enter Values:0\n",
      "End of input.\n",
      "Average is: 15.0\n"
     ]
    }
   ],
   "source": [
    "sum = 0.0\n",
    "count = 0\n",
    "while(1):\n",
    "    num=int(input('Enter Values:'))\n",
    "    if num == 0:\n",
    "        print('End of input.')\n",
    "        break\n",
    "    sum+=num\n",
    "    count+=1\n",
    "if count == 0:\n",
    "    print('No input given')\n",
    "else:\n",
    "    avg = sum/count\n",
    "    print('Average is:',avg)"
   ]
  },
  {
   "cell_type": "markdown",
   "id": "7adec292",
   "metadata": {},
   "source": [
    "## Q4. Write a program that takes a number as input and prints its multiplication table."
   ]
  },
  {
   "cell_type": "code",
   "execution_count": 54,
   "id": "2a636f64",
   "metadata": {},
   "outputs": [
    {
     "name": "stdout",
     "output_type": "stream",
     "text": [
      "Enter the number5\n",
      "5 x 1 = 5\n",
      "5 x 2 = 10\n",
      "5 x 3 = 15\n",
      "5 x 4 = 20\n",
      "5 x 5 = 25\n",
      "5 x 6 = 30\n",
      "5 x 7 = 35\n",
      "5 x 8 = 40\n",
      "5 x 9 = 45\n",
      "5 x 10 = 50\n"
     ]
    }
   ],
   "source": [
    "num=int(input('Enter the number'))\n",
    "for i in range(1,11):\n",
    "    print(num,'x',i,'=',num*i)"
   ]
  },
  {
   "cell_type": "markdown",
   "id": "98926d90",
   "metadata": {},
   "source": [
    "## Q5. Write a program that displays a temperature conversion table for degrees Celsius and degrees Fahrenheit. The table should include rows for all temperatures between 0 and 100 degrees Celsius that are multiples of 10 degrees Celsius. Include appropriate headings on your columns."
   ]
  },
  {
   "cell_type": "code",
   "execution_count": 8,
   "id": "9aa618ce",
   "metadata": {},
   "outputs": [
    {
     "name": "stdout",
     "output_type": "stream",
     "text": [
      "f     c\n",
      "32.0  0\n",
      "50.0  10\n",
      "68.0  20\n",
      "86.0  30\n",
      "104.0  40\n",
      "122.0  50\n",
      "140.0  60\n",
      "158.0  70\n",
      "176.0  80\n",
      "194.0  90\n",
      "212.0  100\n"
     ]
    }
   ],
   "source": [
    "c=0\n",
    "print('f     c')\n",
    "while c<=100:\n",
    "    f = 9 * c / 5 + 32\n",
    "    print(f,'',c)\n",
    "    c+=10"
   ]
  },
  {
   "cell_type": "markdown",
   "id": "b60083f8",
   "metadata": {},
   "source": [
    "## Q6. A string is a palindrome if it is identical forward and backward. For example “anna”, “civic”, “level” and “madam” are all examples of palindrome words. Write a program that reads a string from the user and uses a loop to determine whether or not it is a palindrome. Display the result, including a meaningful output message."
   ]
  },
  {
   "cell_type": "code",
   "execution_count": 22,
   "id": "71576cbf",
   "metadata": {},
   "outputs": [
    {
     "name": "stdout",
     "output_type": "stream",
     "text": [
      "Enter Any word:level\n",
      "Word is palindrome\n"
     ]
    }
   ],
   "source": [
    "str=input('Enter Any word:')\n",
    "str1=str.replace('','')\n",
    "rev=str1[::-1]\n",
    "for i in range(len(str1)):\n",
    "    if str1[i]==rev[i]:\n",
    "        print('Word is palindrome')\n",
    "        break\n",
    "    else:\n",
    "            print('word is not palindrome')\n",
    "            break"
   ]
  },
  {
   "cell_type": "markdown",
   "id": "19272c88",
   "metadata": {},
   "source": [
    "## Q7. The greatest common divisor (GCD) of two positive integers, n and m, is the largest number, d, which divides evenly into both n and m. The following algorithm is used to find GCD of n and m :\n",
    "\n",
    "#### Initialize d to the smaller of m and n.\n",
    "#### While d does not evenly divide m or d does not evenly divide n do\n",
    "#### Decrease the value of d by 1\n",
    "#### Report d as the greatest common divisor of n and m\n",
    "\n",
    "#### Write a program that reads two positive integers from the user and uses this algorithm to determine and report their greatest common divisor."
   ]
  },
  {
   "cell_type": "code",
   "execution_count": 1,
   "id": "dec5a419",
   "metadata": {},
   "outputs": [
    {
     "name": "stdout",
     "output_type": "stream",
     "text": [
      "Enter the number, m: 10\n",
      "Enter the number, n: 30\n",
      "The greatest common divisor: 10\n"
     ]
    }
   ],
   "source": [
    "m = int(input(\"Enter the number, m: \"))\n",
    "n = int(input(\"Enter the number, n: \"))\n",
    "\n",
    "\n",
    "d =min(m,n)\n",
    "\n",
    "while m % d != 0 and n % d != 0:\n",
    "    d = d - 1\n",
    "\n",
    "\n",
    "print (\"The greatest common divisor:\" , d, )"
   ]
  },
  {
   "cell_type": "markdown",
   "id": "bc1056df",
   "metadata": {},
   "source": [
    "## Q8. The prime factorization of an integer, n, can be determined using the following steps:\n",
    "\n",
    "#### Initialize factor to two\n",
    "#### While factor is less than or equal to n do\n",
    "#### If n is evenly divisible by factor then\n",
    "####            Conclude that factor is a factor of n\n",
    "####            Divide n by factor using integer division\n",
    "#### Else\n",
    "#### Increase factor by one\n",
    "\n",
    "#### Write a program that reads an integer from the user. If the value entered by the user is less than 2 then your program should display an appropriate error message. Otherwise your program should display the prime numbers that can be multiplied together to compute n, with one factor appearing on each line."
   ]
  },
  {
   "cell_type": "code",
   "execution_count": 43,
   "id": "7740db7b",
   "metadata": {},
   "outputs": [
    {
     "name": "stdout",
     "output_type": "stream",
     "text": [
      "Enter any number:120\n",
      "2\n",
      "3\n",
      "5\n",
      "15\n"
     ]
    }
   ],
   "source": [
    "factor=2\n",
    "n=int(input('Enter any number:'))\n",
    "for i in range (factor,n+1):\n",
    "    if n%i==0:\n",
    "        count=1\n",
    "        for j in range(factor,(i//factor+1)):\n",
    "            if(i%j==0):\n",
    "                count=0\n",
    "            break\n",
    "        if(count==1):\n",
    "            print(i)\n",
    "        "
   ]
  },
  {
   "cell_type": "markdown",
   "id": "5af67e5f",
   "metadata": {},
   "source": [
    "## Q9. Write a program that converts a binary (base 2) number to decimal (base 10). Your program should begin by reading the binary number from the user as a string. Then it should compute the equivalent decimal number by processing each digit in the binary number. Finally, your program should display the equivalent decimal number with an appropriate message."
   ]
  },
  {
   "cell_type": "code",
   "execution_count": 62,
   "id": "651df464",
   "metadata": {},
   "outputs": [
    {
     "name": "stdout",
     "output_type": "stream",
     "text": [
      "Enter the Binary Number:10101\n",
      "\n",
      "Equivalent Decimal Value =  21\n"
     ]
    }
   ],
   "source": [
    "bi_num = int(input('Enter the Binary Number:'))\n",
    "dec_num = 0\n",
    "i = 1\n",
    "while bi_num!=0:\n",
    "    rem = bi_num%10\n",
    "    dec_num = dec_num + (rem*i)\n",
    "    i = i*2\n",
    "    bi_num = int(bi_num/10)\n",
    "\n",
    "print(\"\\nEquivalent Decimal Value = \", dec_num)"
   ]
  },
  {
   "cell_type": "markdown",
   "id": "41546afd",
   "metadata": {},
   "source": [
    "## Q10. Demonstrate the formatting capabilities of format function on integers, floats and strings."
   ]
  },
  {
   "cell_type": "code",
   "execution_count": 2,
   "id": "aca8d1a8",
   "metadata": {},
   "outputs": [
    {
     "name": "stdout",
     "output_type": "stream",
     "text": [
      "I am 25 Years old.\n",
      "And,I have done BCA in 2020.\n",
      "And, I have 1.6 years of experience.\n"
     ]
    }
   ],
   "source": [
    "years=25\n",
    "print('I am {} Years old.'.format(years))\n",
    "str = 'I have done BCA in 2020.'\n",
    "print('And,{}'.format(str))\n",
    "exp=1.6\n",
    "print('And, I have {} years of experience.'.format(exp))"
   ]
  },
  {
   "cell_type": "code",
   "execution_count": null,
   "id": "54d9a09a",
   "metadata": {},
   "outputs": [],
   "source": []
  },
  {
   "cell_type": "code",
   "execution_count": null,
   "id": "5e34e5fc",
   "metadata": {},
   "outputs": [],
   "source": []
  }
 ],
 "metadata": {
  "kernelspec": {
   "display_name": "Python 3 (ipykernel)",
   "language": "python",
   "name": "python3"
  },
  "language_info": {
   "codemirror_mode": {
    "name": "ipython",
    "version": 3
   },
   "file_extension": ".py",
   "mimetype": "text/x-python",
   "name": "python",
   "nbconvert_exporter": "python",
   "pygments_lexer": "ipython3",
   "version": "3.9.12"
  }
 },
 "nbformat": 4,
 "nbformat_minor": 5
}
