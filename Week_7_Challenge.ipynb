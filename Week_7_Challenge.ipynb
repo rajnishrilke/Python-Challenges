{
 "cells": [
  {
   "cell_type": "markdown",
   "id": "e68e9eaa",
   "metadata": {},
   "source": [
    "## Q1. Create a class called number which contains an integer. It should contain various methods to set the value of the integer, return the integer value, print the integer value, check whether the integer is negative."
   ]
  },
  {
   "cell_type": "code",
   "execution_count": 1,
   "id": "bf646f1f",
   "metadata": {},
   "outputs": [
    {
     "name": "stdout",
     "output_type": "stream",
     "text": [
      "-5 Integer value is negative\n",
      "15 Integer value is positive\n"
     ]
    }
   ],
   "source": [
    "class Number:\n",
    "    def set_data(self,n):\n",
    "        self._number=n\n",
    "        \n",
    "    def display_data(self):\n",
    "        if self._number<0:\n",
    "            return print(self._number,'Integer value is negative')\n",
    "        else:\n",
    "            return print(self._number,'Integer value is positive')\n",
    "        \n",
    "N1=Number()\n",
    "N1.set_data(-5)\n",
    "N1.display_data()\n",
    "\n",
    "N2=Number()\n",
    "N2.set_data(15)\n",
    "N2.display_data()"
   ]
  },
  {
   "cell_type": "markdown",
   "id": "15aa7e6a",
   "metadata": {},
   "source": [
    "## Q2. Create a class that can calculate the perimeter/ circumference and area of a regular shape. The class should also have a provision to accept the data relevant to the shape."
   ]
  },
  {
   "cell_type": "code",
   "execution_count": 4,
   "id": "57ce62cb",
   "metadata": {},
   "outputs": [
    {
     "name": "stdout",
     "output_type": "stream",
     "text": [
      "Area of Circle : 50.24\n",
      "Perimeter of Circle : 25.12\n",
      "Area of Square : 9\n",
      "Perimeter of Square : 12\n",
      "Area of Rectangle : 20\n",
      "Perimeter of Rectangle : 18\n"
     ]
    }
   ],
   "source": [
    "class RegularShape:\n",
    "    def __init__(self,shape='',side1=0,side2=0):\n",
    "        self.shape=shape\n",
    "        self.side1 = side1\n",
    "        self.side2 = side2\n",
    "    def set_data(self,shape,side1,side2):\n",
    "        self.side1=side1\n",
    "        self.side2=side2\n",
    "    def area(self):\n",
    "        if self.shape=='Circle' or self.shape=='circle':\n",
    "            if self.side1 == 0:\n",
    "                area_circle = 3.14*(self.side2**2)\n",
    "                return print('Area of Circle :',area_circle)\n",
    "            else:\n",
    "                area_circle = 3.14*(self.side1**2)\n",
    "                return print('Area of Circle :',area_circle)\n",
    "\n",
    "        elif self.shape=='Rectangle' or self.shape=='rectangle':\n",
    "            area_rect = self.side1*self.side2\n",
    "            return print('Area of Rectangle :',area_rect)\n",
    "        elif self.shape=='Square' or self.shape=='square':\n",
    "            if self.side1 == 0:\n",
    "                area_sq =(self.side2**2)\n",
    "                return print('Area of Square :',area_sq)\n",
    "            else:\n",
    "                area_sq = (self.side1**2)\n",
    "                return print('Area of Square :',area_sq)\n",
    "    def perimeter(self):\n",
    "        if self.shape=='Circle' or self.shape=='circle':\n",
    "            if self.side1 == 0:\n",
    "                peri_circle = 2*3.14*(self.side2)\n",
    "                return print('Perimeter of Circle :',peri_circle)\n",
    "            else:\n",
    "                peri_circle = 2*3.14*(self.side1)\n",
    "                return print('Perimeter of Circle :',peri_circle)\n",
    "        elif self.shape=='Rectangle' or self.shape=='rectangle':\n",
    "            peri_rect = 2*(self.side1+self.side2)\n",
    "            return print('Perimeter of Rectangle :',peri_rect)\n",
    "        elif self.shape=='Square' or self.shape=='square':\n",
    "            if self.side1 == 0:\n",
    "                peri_sq =4*(self.side2)\n",
    "                return print('Perimeter of Square :',peri_sq)\n",
    "            else:\n",
    "                peri_sq = 4*(self.side1)\n",
    "                return print('Perimeter of Square :',peri_sq)\n",
    "\n",
    "e1 = RegularShape('circle',4,5)\n",
    "e1.area()\n",
    "e1.perimeter()\n",
    "e2 = RegularShape('square',3,3)\n",
    "e2.area()\n",
    "e2.perimeter()\n",
    "e3 = RegularShape('rectangle',5,4)\n",
    "e3.area()\n",
    "e3.perimeter()"
   ]
  },
  {
   "cell_type": "markdown",
   "id": "5473a0a3",
   "metadata": {},
   "source": [
    "## Q3. Create a class called student which contains the data members called rollno, sname and branch. The class should contain methods to initialize the data members and to set and display data members. Finally, the class should contain the __del__ method to release the memory at the time of object destruction. Test your class with at least two objects of the student class."
   ]
  },
  {
   "cell_type": "code",
   "execution_count": 6,
   "id": "81e09e4a",
   "metadata": {},
   "outputs": [
    {
     "name": "stdout",
     "output_type": "stream",
     "text": [
      "The roll no is: 45\n",
      "The name is: Rajnish\n",
      "The branch is: Research Analyst\n",
      "The roll no is: 52\n",
      "The name is: Anuj\n",
      "The branch is: SEO Department\n",
      "The roll no is: 42\n",
      "The name is: Karan\n",
      "The branch is: Software department\n"
     ]
    }
   ],
   "source": [
    "class Student:\n",
    "    def __init__(self,rollno,name,branch):\n",
    "        self._rollno=rollno\n",
    "        self._name=name\n",
    "        self._branch=branch\n",
    "    def set_data(self,rollno,name,branch):\n",
    "        self._rollno=int(input('Enter a number :'))\n",
    "        self._name=input('Enter a name :')\n",
    "        self._branch=input('Enter a branch name :')\n",
    "    def display_data(self):\n",
    "        print('The roll no is:',self._rollno)\n",
    "        print('The name is:',self._name)\n",
    "        print('The branch is:',self._branch)    \n",
    "    def __del__(self):\n",
    "        print('The object is deleted')\n",
    "        \n",
    "s1=Student(45,'Rajnish','Research Analyst')\n",
    "s2=Student(52,'Anuj','SEO Department')\n",
    "s3=Student(42,'Karan','Software department')\n",
    "s1.display_data()\n",
    "s2.display_data()\n",
    "s3.display_data()"
   ]
  },
  {
   "cell_type": "markdown",
   "id": "780c814b",
   "metadata": {},
   "source": [
    "## Q4. Modify the student class defined in Q. No. 1 in so that it now includes a class variable to count the number of student objects created from this class and also add a class function in order to display the value of the class variable. The modified class should be named as student1 class."
   ]
  },
  {
   "cell_type": "code",
   "execution_count": 11,
   "id": "a35b5d70",
   "metadata": {},
   "outputs": [
    {
     "name": "stdout",
     "output_type": "stream",
     "text": [
      "The object is deleted\n",
      "Name Of Student : Amit Kumar\n",
      "Roll No.Of Student : 104\n",
      "Branch Of Student : Machine Learning\n",
      "The object is deleted\n",
      "Name Of Student : Rajnish Kumar\n",
      "Roll No.Of Student : 105\n",
      "Branch Of Student : Computer Science\n",
      "The object is deleted\n",
      "Name Of Student : Keshav Pathak\n",
      "Roll No.Of Student : 106\n",
      "Branch Of Student : Bachelor Of Science\n",
      "The number of student objects created so far : 3\n"
     ]
    }
   ],
   "source": [
    "class Student1:\n",
    "    instance_count = 0\n",
    "    def __init__(self,name='',rollno=0,branch=''):\n",
    "        Student1.increment_instance_count()\n",
    "        self._rollno=rollno\n",
    "        self._name=name\n",
    "        self._branch=branch\n",
    "    def set_data(self,rollno,name,branch):\n",
    "        self._rollno=rollno\n",
    "        self._name=name\n",
    "        self._branch=branch\n",
    "    def display_data(self):\n",
    "        print('Name Of Student :',self._name)\n",
    "        print('Roll No.Of Student :',self._rollno)\n",
    "        print('Branch Of Student :',self._branch)\n",
    "\n",
    "    @classmethod\n",
    "    def increment_instance_count(cls):\n",
    "        cls.instance_count += 1\n",
    "\n",
    "s1 = Student1('Amit Kumar',104,'Machine Learning')\n",
    "s1.display_data()\n",
    "    \n",
    "s2 = Student1('Rajnish Kumar',105,'Computer Science')\n",
    "s2.display_data()\n",
    "    \n",
    "s3 = Student1('Keshav Pathak',106,'Bachelor Of Science')\n",
    "s3.display_data()\n",
    "    \n",
    "print('The number of student objects created so far :',Student1.instance_count)"
   ]
  },
  {
   "cell_type": "markdown",
   "id": "ba502aa5",
   "metadata": {},
   "source": [
    "## Q5.Apply the vars() and dir() global function on student and student1 classes"
   ]
  },
  {
   "cell_type": "code",
   "execution_count": 12,
   "id": "a1b42066",
   "metadata": {},
   "outputs": [
    {
     "name": "stdout",
     "output_type": "stream",
     "text": [
      "{'_rollno': 104, '_name': 'Amit Kumar', '_branch': 'Machine Learning'}\n",
      "{'_rollno': 105, '_name': 'Rajnish Kumar', '_branch': 'Computer Science'}\n",
      "['__class__', '__delattr__', '__dict__', '__dir__', '__doc__', '__eq__', '__format__', '__ge__', '__getattribute__', '__gt__', '__hash__', '__init__', '__init_subclass__', '__le__', '__lt__', '__module__', '__ne__', '__new__', '__reduce__', '__reduce_ex__', '__repr__', '__setattr__', '__sizeof__', '__str__', '__subclasshook__', '__weakref__', '_branch', '_name', '_rollno', 'display_data', 'increment_instance_count', 'instance_count', 'set_data']\n",
      "['__class__', '__delattr__', '__dict__', '__dir__', '__doc__', '__eq__', '__format__', '__ge__', '__getattribute__', '__gt__', '__hash__', '__init__', '__init_subclass__', '__le__', '__lt__', '__module__', '__ne__', '__new__', '__reduce__', '__reduce_ex__', '__repr__', '__setattr__', '__sizeof__', '__str__', '__subclasshook__', '__weakref__', '_branch', '_name', '_rollno', 'display_data', 'increment_instance_count', 'instance_count', 'set_data']\n"
     ]
    }
   ],
   "source": [
    "print(vars(s1))\n",
    "\n",
    "print(vars(s2))\n",
    "\n",
    "print(dir(s1))\n",
    "\n",
    "print(dir(s2))"
   ]
  },
  {
   "cell_type": "markdown",
   "id": "d8f8df69",
   "metadata": {},
   "source": [
    "## Q6. Create a class called Date. It should contain data members day, month and year. It should also contain functions to set and display date, as well as function to initialize date objects. Overload the == operator to check if two dates are equal"
   ]
  },
  {
   "cell_type": "code",
   "execution_count": 14,
   "id": "d521fc12",
   "metadata": {},
   "outputs": [
    {
     "name": "stdout",
     "output_type": "stream",
     "text": [
      "1 / 1 / 2022\n",
      "1 / 2 / 2022\n",
      "both dates are not equal\n"
     ]
    }
   ],
   "source": [
    "class Date:\n",
    "    def __init__(self,day=0,month=0,year=0):\n",
    "        self._day=day\n",
    "        self._month=month\n",
    "        self._year=year\n",
    "    def set_data(self,day,month,year):\n",
    "        self._day=day\n",
    "        self._month=month\n",
    "        self._year=year\n",
    "    def display_data(self):\n",
    "        print(self._day,\"/\",self._month,\"/\",self._year)\n",
    "    def __eq__(self,other):\n",
    "        if self._day==other._day and self._month==other._month and self._year==other._year:\n",
    "            return 'both dates are equal'\n",
    "        else:\n",
    "            return 'both dates are not equal'\n",
    "d1=Date(1,1,2022)\n",
    "d2=Date(1,2,2022)\n",
    "d1.display_data()\n",
    "d2.display_data()\n",
    "print(d1==d2)"
   ]
  },
  {
   "cell_type": "markdown",
   "id": "ef3161f3",
   "metadata": {},
   "source": [
    "## Q7. Create a class called weather that has a list containing weather parameters. Overload the in operator that checks whether an item is present in the list or not."
   ]
  },
  {
   "cell_type": "code",
   "execution_count": 15,
   "id": "e0f2a137",
   "metadata": {},
   "outputs": [
    {
     "name": "stdout",
     "output_type": "stream",
     "text": [
      "Item is not present in list\n"
     ]
    }
   ],
   "source": [
    "class Weather:\n",
    "    def __init__(self,t,h,w,m):\n",
    "        self.temperature=t\n",
    "        self.humidity=h\n",
    "        self.wind_speed=w\n",
    "        self.moisture=m\n",
    "        self.list=[self.temperature,self.humidity,self.wind_speed,self.moisture]\n",
    "    def set_data(self,t,h,w,m):\n",
    "        self.temperature=t\n",
    "        self.humidity=h\n",
    "        self.wind_speed=w\n",
    "        self.moisture=m\n",
    "        \n",
    "    def display(self):\n",
    "        return self.list\n",
    "        \n",
    "    def contains(self,other):\n",
    "        if other in self.list:\n",
    "            print(\"Item is present in list\")\n",
    "        else:\n",
    "            print(\"Item is not present in list\")\n",
    "w1=Weather('Temperature','Humidity','Wind speed','moisture')\n",
    "w1.display()\n",
    "w1.contains('wind directions')"
   ]
  },
  {
   "cell_type": "markdown",
   "id": "c0045686",
   "metadata": {},
   "source": [
    "## Q8. Create a class called complex containing real and imaginary parts and then use it to check whether two objects are of the same type, whether their attributes are same and whether they are pointing to the same object"
   ]
  },
  {
   "cell_type": "code",
   "execution_count": 16,
   "id": "b38f401b",
   "metadata": {},
   "outputs": [
    {
     "name": "stdout",
     "output_type": "stream",
     "text": [
      "Two objects are same \n"
     ]
    }
   ],
   "source": [
    "class complex:\n",
    "    def __init__(self,r,i):\n",
    "        self._real=r\n",
    "        self._imaginary=i\n",
    "        \n",
    "    def __eq__(self,other):\n",
    "        if self._imaginary == other._imaginary and self._real == other._real:\n",
    "            print(\"Two objects are same \")\n",
    "        else:\n",
    "            print(\"Two objects are not same\")\n",
    "num1=complex(2,'4gfh')\n",
    "num2=complex(2,'4gfh')\n",
    "num1==num2"
   ]
  },
  {
   "cell_type": "markdown",
   "id": "3a342c6a",
   "metadata": {},
   "source": [
    "## Q9. Create a class called department with the attributes deptname and deptid. Modify the student class defined in Q.No. 3 such that it contains an object of department class. Name the new modified student class as student2."
   ]
  },
  {
   "cell_type": "code",
   "execution_count": 17,
   "id": "6d8719d5",
   "metadata": {},
   "outputs": [
    {
     "name": "stdout",
     "output_type": "stream",
     "text": [
      "Enter student rollno:0282\n",
      "Enter student name:Rajnish\n",
      "Enter student branch:BCA\n",
      "Enter Department name:Computer\n",
      "Enter Department ID:083\n",
      "Name: Rajnish\n",
      "Rollno: 282\n",
      "Branch: BCA\n",
      "Department Name: Computer\n",
      "Department ID: 83\n"
     ]
    }
   ],
   "source": [
    "class Department:\n",
    "    def set_dept(self):\n",
    "        self.deptname=input(\"Enter Department name:\")\n",
    "        self.deptid=int(input(\"Enter Department ID:\"))\n",
    "    def display_dept(self):\n",
    "        print(\"Department Name:\",self.deptname)\n",
    "        print(\"Department ID:\",self.deptid)\n",
    "        \n",
    "class Student:\n",
    "    def set_data(self):\n",
    "        self.rollno=int(input(\"Enter student rollno:\"))\n",
    "        self.sname=input(\"Enter student name:\")\n",
    "        self.branch=input(\"Enter student branch:\")\n",
    "        self.dept=Department()\n",
    "        self.dept.set_dept()\n",
    "    def display_data(self):\n",
    "        print('Name:',self.sname)\n",
    "        print('Rollno:',self.rollno)\n",
    "        print('Branch:',self.branch)\n",
    "        self.dept.display_dept()\n",
    "    def __del__(self):\n",
    "        print(\"Deleting the object\",str(self))\n",
    "s=Student()\n",
    "s.set_data()\n",
    "s.display_data()"
   ]
  },
  {
   "cell_type": "markdown",
   "id": "a66bb448",
   "metadata": {},
   "source": [
    "## Q10. Create a class called Person. From this class, inherit another class called student. Assume suitable data members and member functions for these two classes. In both the classes, define the __str__ function and demonstrate method overriding.  "
   ]
  },
  {
   "cell_type": "code",
   "execution_count": 18,
   "id": "fc52a8c8",
   "metadata": {},
   "outputs": [
    {
     "name": "stdout",
     "output_type": "stream",
     "text": [
      "Name of the Person : Rajnish Kumar \n",
      "Age of the Person : 21\n",
      "Roll no. of student : 105\n",
      "Branch of student : Bachelor Of Science\n"
     ]
    }
   ],
   "source": [
    "class Person:\n",
    "    def __init__(self,n,a):\n",
    "        self._name = n\n",
    "        self._age = a\n",
    "    def display(self):\n",
    "        print('Name of the Person :',self._name)\n",
    "        print('Age of the Person :',self._age)\n",
    "    def __str__(self):\n",
    "        return self._name + ' is ' + str(self._age) + ' years old'\n",
    "    \n",
    "class Student3(Person):\n",
    "    def __init__(self,n,a,rollno,branch):\n",
    "        super().__init__(n,a)\n",
    "        self._rollno = rollno\n",
    "        self._branch = branch\n",
    "    def display_data(self):\n",
    "        print('Roll no. of student :',self._rollno)\n",
    "        print('Branch of student :',self._branch)\n",
    "        \n",
    "s1 = Student3('Rajnish Kumar ',21,105,'Bachelor Of Science')\n",
    "s1.display()\n",
    "s1.display_data()"
   ]
  },
  {
   "cell_type": "code",
   "execution_count": null,
   "id": "11378dde",
   "metadata": {},
   "outputs": [],
   "source": []
  }
 ],
 "metadata": {
  "kernelspec": {
   "display_name": "Python 3 (ipykernel)",
   "language": "python",
   "name": "python3"
  },
  "language_info": {
   "codemirror_mode": {
    "name": "ipython",
    "version": 3
   },
   "file_extension": ".py",
   "mimetype": "text/x-python",
   "name": "python",
   "nbconvert_exporter": "python",
   "pygments_lexer": "ipython3",
   "version": "3.9.12"
  }
 },
 "nbformat": 4,
 "nbformat_minor": 5
}
