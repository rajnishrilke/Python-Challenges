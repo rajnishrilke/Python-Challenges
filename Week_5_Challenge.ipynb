{
 "cells": [
  {
   "cell_type": "markdown",
   "id": "fd3b26cd",
   "metadata": {},
   "source": [
    "## Q1. Write a function that takes the lengths of the two shorter sides of a right triangle as its parameters. Return the hypotenuse of the triangle, computed using Pythagorean theorem, as the function’s result."
   ]
  },
  {
   "cell_type": "code",
   "execution_count": 7,
   "id": "4df1f3ba",
   "metadata": {},
   "outputs": [
    {
     "name": "stdout",
     "output_type": "stream",
     "text": [
      "Enter Side1 :6\n",
      "Enter Side2 :8\n",
      "Hypotenuse of the triangle is : 10.0\n"
     ]
    }
   ],
   "source": [
    "from math import sqrt\n",
    "def triangle(a,b):\n",
    "    h=sqrt((a**2)+(b**2))\n",
    "    return h\n",
    "\n",
    "a=float(input('Enter Side1 :'))\n",
    "b=float(input('Enter Side2 :'))\n",
    "print('Hypotenuse of the triangle is :',triangle(a,b))"
   ]
  },
  {
   "cell_type": "markdown",
   "id": "702ea56b",
   "metadata": {},
   "source": [
    "## Q2. An online retailer provides express shipping for many of its items at a rate of $10.95 for the first item, and $2.95 for each subsequent item. Write a function that takes the number of items in the order as its only parameter. Return the shipping charge for the order as the function’s result. Include a main program that reads the number of items purchased from the user and displays the shipping charge."
   ]
  },
  {
   "cell_type": "code",
   "execution_count": 14,
   "id": "dfb583ee",
   "metadata": {},
   "outputs": [
    {
     "name": "stdout",
     "output_type": "stream",
     "text": [
      "Enter the total number of shipping items: 5\n",
      "Total charges of  5 items : 22.75\n"
     ]
    }
   ],
   "source": [
    "def ship_charge(num_items):\n",
    "    additional_items=num_items-1\n",
    "    if num_items==1:\n",
    "        shipping_charge=10.95\n",
    "    elif num_items>1:\n",
    "        shipping_charge=10.95+(additional_items*2.95)\n",
    "    return shipping_charge\n",
    "    \n",
    "num_items=int(input('Enter the total number of shipping items: '))\n",
    "print('Total charges of ',num_items,'items :',ship_charge(num_items))"
   ]
  },
  {
   "cell_type": "markdown",
   "id": "58254d4f",
   "metadata": {},
   "source": [
    "## Q3. Write a function that takes three numbers as parameters, and returns the median value of those parameters as its result. Include a main program that reads three values from the user and displays their median."
   ]
  },
  {
   "cell_type": "code",
   "execution_count": 35,
   "id": "d9d327ef",
   "metadata": {},
   "outputs": [
    {
     "name": "stdout",
     "output_type": "stream",
     "text": [
      "Enter first number: 35\n",
      "Enter second number: 65\n",
      "Enter third number: 30\n",
      "The median number is: 35.0\n"
     ]
    }
   ],
   "source": [
    "def median(num1,num2,num3):\n",
    "    if num1 > num2:\n",
    "        if num1 < num3:\n",
    "            return num1\n",
    "        elif num2 > num3:\n",
    "            return num2\n",
    "        else:\n",
    "            return num3\n",
    "    else:\n",
    "        if num1 > num3:\n",
    "            return num1\n",
    "        elif num2 < num3:\n",
    "            return num2\n",
    "        else:\n",
    "            return num3\n",
    "        \n",
    "num1 = float(input(\"Enter first number: \"))\n",
    "num2 = float(input(\"Enter second number: \"))\n",
    "num3 = float(input(\"Enter third number: \"))\n",
    "print(\"The median number is:\", median(num1,num2,num3))"
   ]
  },
  {
   "cell_type": "markdown",
   "id": "78f31975",
   "metadata": {},
   "source": [
    "## Q4. Write a function that determines whether or not three lengths can form a triangle. The function will take 3 parameters and return a Boolean result. In addition, write a program that reads 3 lengths from the user and demonstrates the behavior of this function. In general, if any one length is greater than or equal to the sum of the other two then the lengths cannot be used to form a triangle. Otherwise they can form a triangle."
   ]
  },
  {
   "cell_type": "code",
   "execution_count": 22,
   "id": "d7b21b63",
   "metadata": {},
   "outputs": [
    {
     "name": "stdout",
     "output_type": "stream",
     "text": [
      "Enter first side of triangle :7\n",
      "Enter second side of triangle :10\n",
      "Enter third side of triangle :5\n",
      "True\n"
     ]
    }
   ],
   "source": [
    "def triangle_valid(a,b,c):\n",
    "    if (a+b<=c) or (a+c<=b) or (c+b<=a):\n",
    "        return False\n",
    "    else:\n",
    "        return True\n",
    "    \n",
    "a=int(input('Enter first side of triangle :'))\n",
    "b=int(input('Enter second side of triangle :'))\n",
    "c=int(input('Enter third side of triangle :'))\n",
    "print(triangle_valid(a,b,c))"
   ]
  },
  {
   "cell_type": "markdown",
   "id": "a6876057",
   "metadata": {},
   "source": [
    "## Q5. In this exercise you will write a function named isInteger that determines whether or not the characters in a string represent a valid integer. When determining if a string represents an integer you should ignore any leading or trailing white space. Once this white space is ignored, a string represents an integer if its length is at least 1 and it only contains digits, or if its first character is either + or - and the first character is followed by one or more characters, all of which are digits. Write a main program that reads a string from the user and reports whether or not it represents an integer."
   ]
  },
  {
   "cell_type": "code",
   "execution_count": 27,
   "id": "da3ac11b",
   "metadata": {},
   "outputs": [
    {
     "name": "stdout",
     "output_type": "stream",
     "text": [
      "Enter the string : 0346568\n",
      "This string represents an integer.\n"
     ]
    }
   ],
   "source": [
    "def isInteger(str):\n",
    "    str=str.strip()\n",
    "    if(str[0]=='+') or (str[0]=='-') or (str[1:].isdigit()):\n",
    "        return True\n",
    "    if str.isdigit():\n",
    "        return True\n",
    "    return False\n",
    "\n",
    "str=input('Enter the string : ')\n",
    "if isInteger(str):\n",
    "    print('This string represents an integer.')\n",
    "else:\n",
    "    print('This string does not represent an integer.')"
   ]
  },
  {
   "cell_type": "markdown",
   "id": "4c2c1f67",
   "metadata": {},
   "source": [
    "## Q6. In this exercise you will create a function named nextPrime that finds and returns the first prime number larger than some integer, n. The value of n will be passed to the function as its only parameter. Include a main program that reads an integer from the user and displays the first prime number larger than the entered value."
   ]
  },
  {
   "cell_type": "code",
   "execution_count": 62,
   "id": "b7de2aca",
   "metadata": {},
   "outputs": [
    {
     "name": "stdout",
     "output_type": "stream",
     "text": [
      "Enter the number: 3\n",
      "5\n"
     ]
    }
   ],
   "source": [
    "from math import sqrt\n",
    "def isPrime(n):\n",
    "    if(n <= 1):\n",
    "        return False\n",
    "    if(n <= 3):\n",
    "        return True\n",
    "    if(n % 2 == 0 or n % 3 == 0):\n",
    "        return False\n",
    "     \n",
    "    for i in range(5,int(math.sqrt(n) + 1), 6):\n",
    "        if(n % i == 0 or n % (i + 2) == 0):\n",
    "            return False\n",
    "    return True\n",
    "\n",
    "def nextPrime(num):\n",
    "    if num<=1:\n",
    "        return 2\n",
    "    prime =num\n",
    "    while(1):\n",
    "        prime+=1\n",
    "        if(isPrime(prime) == True):\n",
    "            return prime\n",
    "\n",
    "n=int(input('Enter the number: '))\n",
    "print(nextPrime(n))"
   ]
  },
  {
   "cell_type": "markdown",
   "id": "842759b9",
   "metadata": {},
   "source": [
    "## Q7. In this exercise you will write a function that determines whether or not a password is good. We will define a good password to be a one that is at least 8 characters long and contains at least one uppercase letter, at least one lowercase letter, and at least one number. Your function should return true if the password passed to it as its only parameter is good. Otherwise it should return false. Include a main program that reads a password from the user and reports whether or not it is good."
   ]
  },
  {
   "cell_type": "code",
   "execution_count": 22,
   "id": "0c6e4aaf",
   "metadata": {},
   "outputs": [
    {
     "name": "stdout",
     "output_type": "stream",
     "text": [
      "Enter the password: ManisH18\n",
      "This is Valid password.\n"
     ]
    }
   ],
   "source": [
    "def check_password(password):\n",
    "    upper_tnt=False\n",
    "    lower_tnt=False\n",
    "    num_tnt=False\n",
    "    for ch in password:\n",
    "        if ch>='A' and ch<='Z':\n",
    "            upper_tnt=True\n",
    "        elif ch>='a' and ch<='z':\n",
    "            lower_tnt=True\n",
    "        elif ch>='0'and ch<='1':\n",
    "            num_tnt=True\n",
    "            \n",
    "    if len(password) >= 8 and upper_tnt and lower_tnt  and num_tnt:\n",
    "        return True\n",
    "str=input('Enter the password: ')\n",
    "if check_password(str):\n",
    "    print('This is Valid password.')\n",
    "else:\n",
    "    print('This is not vald password.')"
   ]
  },
  {
   "cell_type": "markdown",
   "id": "ba4b1296",
   "metadata": {},
   "source": [
    "## Q8. Write a program that reads values from the user until a blank line is entered. Display the total of all of the values entered by the user (or 0.0 if the first value entered is a blank line). Complete this task using recursion. Your program may not use any loops. The body of your recursive function will need to read one value from the user, and then determine whether or not to make a recursive call. Your function does not need to take any parameters, but it will need to return a numeric result."
   ]
  },
  {
   "cell_type": "code",
   "execution_count": 3,
   "id": "29285101",
   "metadata": {},
   "outputs": [
    {
     "name": "stdout",
     "output_type": "stream",
     "text": [
      "If you want to exit enter a blank line otherwise enter a value : 2\n",
      "If you want to exit enter a blank line otherwise enter a value : 4\n",
      "If you want to exit enter a blank line otherwise enter a value : 8\n",
      "If you want to exit enter a blank line otherwise enter a value : 9\n",
      "If you want to exit enter a blank line otherwise enter a value : \n",
      "Total of all the values =  23.0\n"
     ]
    }
   ],
   "source": [
    "def fun_rec():\n",
    "    n = input(\"If you want to exit enter a blank line otherwise enter a value : \")\n",
    "    if n == \"\":\n",
    "        return 0.0\n",
    "    else:\n",
    "        n = int(n)\n",
    "        return (n + fun_rec())\n",
    "    \n",
    "print(\"Total of all the values = \", fun_rec())"
   ]
  },
  {
   "cell_type": "markdown",
   "id": "f7f04005",
   "metadata": {},
   "source": [
    "## Q9. In this exercise you will write a recursive function that determines whether or not a string is a palindrome. The empty string is a palindrome, as is any string containing only one character. Any longer string is a palindrome if its first and last characters match, and if the string formed by removing the first and last characters is also a palindrome. Write a main program that reads a string from the user. Use your recursive function to determine whether or not the string is a palindrome. Then display an appropriate message for the user."
   ]
  },
  {
   "cell_type": "code",
   "execution_count": 3,
   "id": "9b32eb8d",
   "metadata": {},
   "outputs": [
    {
     "name": "stdout",
     "output_type": "stream",
     "text": [
      "Enter string:level\n",
      "String is a palindrome!\n"
     ]
    }
   ],
   "source": [
    "def is_palindrome(str):\n",
    "    if len(str) < 1:\n",
    "        return True\n",
    "    else:\n",
    "        if str[0] == str[-1]:\n",
    "            return is_palindrome(str[1:-1])\n",
    "        else:\n",
    "            return False\n",
    "a=input(\"Enter string:\")\n",
    "if(is_palindrome(a)==True):\n",
    "    print(\"String is a palindrome!\")\n",
    "else:\n",
    "    print(\"String isn't a palindrome!\")"
   ]
  },
  {
   "cell_type": "markdown",
   "id": "aecdbca6",
   "metadata": {},
   "source": [
    "## Q10. Write a function that takes a list of strings as its only parameter. Your function should return a string that contains all of the items in the list formatted in the manner described previously as its only result. While the examples shown previously only include lists containing four elements or less, your function should behave correctly for lists of any length. Include a main program that reads several items from the user, formats them by calling your function, and then displays the result returned by the function. Consider the following four lists:\n",
    "\n",
    "#### apples\n",
    "\n",
    "#### apples and oranges\n",
    "\n",
    "#### apples, oranges and bananas\n",
    "\n",
    "#### apples, oranges, bananas and lemons"
   ]
  },
  {
   "cell_type": "code",
   "execution_count": 35,
   "id": "d7b97f76",
   "metadata": {},
   "outputs": [
    {
     "name": "stdout",
     "output_type": "stream",
     "text": [
      "Enter elements seprate with space: apples oranges bananas lemons\n",
      "apples, oranges, bananas and lemons\n"
     ]
    }
   ],
   "source": [
    "def add_str(lst1):\n",
    "    s=''\n",
    "    s+=lst1[0]\n",
    "    for i in (lst1[1:-1]):\n",
    "        s=s+', '+i\n",
    "    s=s+' and '+lst1[-1]\n",
    "    return s\n",
    "    \n",
    "a=input('Enter elements seprate with space: ')\n",
    "b=list(a.split(\" \"))\n",
    "print(add_str(b))"
   ]
  },
  {
   "cell_type": "code",
   "execution_count": null,
   "id": "b8b70358",
   "metadata": {},
   "outputs": [],
   "source": []
  },
  {
   "cell_type": "code",
   "execution_count": null,
   "id": "40dada83",
   "metadata": {},
   "outputs": [],
   "source": []
  }
 ],
 "metadata": {
  "kernelspec": {
   "display_name": "Python 3 (ipykernel)",
   "language": "python",
   "name": "python3"
  },
  "language_info": {
   "codemirror_mode": {
    "name": "ipython",
    "version": 3
   },
   "file_extension": ".py",
   "mimetype": "text/x-python",
   "name": "python",
   "nbconvert_exporter": "python",
   "pygments_lexer": "ipython3",
   "version": "3.9.12"
  }
 },
 "nbformat": 4,
 "nbformat_minor": 5
}
