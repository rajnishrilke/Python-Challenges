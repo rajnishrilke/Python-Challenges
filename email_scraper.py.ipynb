{
 "cells": [
  {
   "cell_type": "code",
   "execution_count": 1,
   "id": "bf365b66",
   "metadata": {},
   "outputs": [],
   "source": [
    "import uuid\n",
    "import os\n",
    "import webbrowser\n",
    "\n",
    "\n",
    "class EmailScraper:\n",
    "    def __init__(self, file_path):\n",
    "        self.__DOMAIN = \"fyii.de/trashmail/\"\n",
    "        self.__EMAIL__DOMAIN = \"@fyii.de\"\n",
    "        self.__file_path = file_path\n",
    "\n",
    "    def __scrape(self):\n",
    "        random_uuid = str(uuid.uuid4())\n",
    "        email_link = self.__DOMAIN+random_uuid[:8]+'.html'\n",
    "        email = random_uuid[:8]+self.__EMAIL__DOMAIN\n",
    "        return email, email_link\n",
    "\n",
    "    def start(self, emails):\n",
    "        scraped_emails = 0\n",
    "        exists = os.path.isfile(self.__file_path)\n",
    "\n",
    "        try:\n",
    "            if exists:\n",
    "                file_handler = open(self.__file_path, \"a\")\n",
    "            else:\n",
    "                file_handler = open(self.__file_path, \"w+\")\n",
    "\n",
    "        except FileNotFoundError:\n",
    "            if self.__file_path == '':\n",
    "                return 'Cannot write to a file with no name!'\n",
    "            else: \n",
    "                return 'Cannot write to specified file!'\n",
    "\n",
    "        while scraped_emails != emails:\n",
    "            email, email_link = self.__scrape()\n",
    "            file_handler.write(email+'\\n'+email_link+'\\n'+'\\n')\n",
    "            scraped_emails += 1\n",
    "\n",
    "        file_handler.close()\n",
    "\n",
    "        return f'Added {emails} emails to {self.__file_path}!'"
   ]
  },
  {
   "cell_type": "code",
   "execution_count": null,
   "id": "513da8b3",
   "metadata": {},
   "outputs": [],
   "source": []
  }
 ],
 "metadata": {
  "kernelspec": {
   "display_name": "Python 3 (ipykernel)",
   "language": "python",
   "name": "python3"
  },
  "language_info": {
   "codemirror_mode": {
    "name": "ipython",
    "version": 3
   },
   "file_extension": ".py",
   "mimetype": "text/x-python",
   "name": "python",
   "nbconvert_exporter": "python",
   "pygments_lexer": "ipython3",
   "version": "3.9.12"
  }
 },
 "nbformat": 4,
 "nbformat_minor": 5
}
