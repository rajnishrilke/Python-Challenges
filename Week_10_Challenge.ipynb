{
 "cells": [
  {
   "cell_type": "markdown",
   "id": "7d7ca9e8",
   "metadata": {},
   "source": [
    "## Q1. Create two numpy arrays. The first array, called arr1 should be of one dimension and consist of six elements of float type. The second array, called arr2 should be of two dimensions and each sub-array should consist of 5 elements of string type. Display these two numpy arrays."
   ]
  },
  {
   "cell_type": "code",
   "execution_count": 12,
   "id": "2d544b91",
   "metadata": {},
   "outputs": [
    {
     "name": "stdout",
     "output_type": "stream",
     "text": [
      "arr1 :  [1.2 2.4 3.5 4.1 5.9 6.8]\n",
      "                                                  \n",
      "arr2 :  [['Apple' 'Mango' 'Grapes' 'Banana' 'kiwi']\n",
      " ['Strawberry' 'Lichi' 'Orange' 'Pappaya' 'Berries']]\n"
     ]
    }
   ],
   "source": [
    "import numpy as np\n",
    "arr1 = np.array([1.2, 2.4, 3.5, 4.1, 5.9, 6.8])\n",
    "\n",
    "arr2 = np.array([['Apple', 'Mango', 'Grapes', 'Banana', 'kiwi'],['Strawberry', 'Lichi', 'Orange', 'Pappaya', 'Berries']])\n",
    "\n",
    "print('arr1 : ',arr1)\n",
    "\n",
    "print(' '*50)\n",
    "\n",
    "print('arr2 : ',arr2)"
   ]
  },
  {
   "cell_type": "markdown",
   "id": "d0910297",
   "metadata": {},
   "source": [
    "## Q2. For the arrays arr1 and arr2 created in Q.No.1, display the following properties: data type and dimensions. Reshape arr1 into a two dimensional array of 2 rows and three columns, and display the reshaped array. Similarly, reshape arr2 into a single dimensional array and display the reshaped array."
   ]
  },
  {
   "cell_type": "code",
   "execution_count": 2,
   "id": "dc9f9893",
   "metadata": {},
   "outputs": [
    {
     "name": "stdout",
     "output_type": "stream",
     "text": [
      "Type is :  <class 'numpy.ndarray'>\n",
      "Datatype arr1 :  float64\n",
      "**************************************************\n",
      "Datatype arr2 :  <U10\n",
      "Type is :  <class 'numpy.ndarray'>\n",
      "                                                  \n",
      "arr1 :  [[1.2 2.4 3.5]\n",
      " [4.1 5.9 6.8]]\n",
      "                                                  \n",
      "arr2 :  ['Apple' 'Mango' 'Grapes' 'Banana' 'kiwi' 'Strawberry' 'Lichi' 'Orange'\n",
      " 'Pappaya' 'Berries']\n"
     ]
    }
   ],
   "source": [
    "print('Type is : ', type(arr1))\n",
    "print('Datatype arr1 : ', arr1.dtype)\n",
    "\n",
    "print('*'*50)\n",
    "\n",
    "print('Datatype arr2 : ', arr2.dtype)\n",
    "print('Type is : ', type(arr2))\n",
    "\n",
    "print(' '*50)\n",
    "\n",
    "arr1 = arr1.reshape(2,3)\n",
    "print('arr1 : ', arr1)\n",
    "\n",
    "print(' '*50)\n",
    "\n",
    "arr2 = arr2.flatten()\n",
    "print('arr2 : ', arr2)"
   ]
  },
  {
   "cell_type": "markdown",
   "id": "47263969",
   "metadata": {},
   "source": [
    "## Q3. Create a two dimensional array called arr3, of 3 rows and 4 columns which is initialized to zeroes. Create another single dimensional array called arr4, with 6 elements and which is initialized to ones. The type of arr4 is int."
   ]
  },
  {
   "cell_type": "code",
   "execution_count": 3,
   "id": "1d427425",
   "metadata": {},
   "outputs": [
    {
     "name": "stdout",
     "output_type": "stream",
     "text": [
      "arr3 :  [[0. 0. 0. 0.]\n",
      " [0. 0. 0. 0.]\n",
      " [0. 0. 0. 0.]]\n",
      "                                                  \n",
      "arr4 :  [1 1 1 1 1 1]\n"
     ]
    }
   ],
   "source": [
    "arr3 = np.zeros([3,4], dtype=float)\n",
    "\n",
    "arr4 = np.ones(6,dtype=int)\n",
    "\n",
    "print('arr3 : ', arr3)\n",
    "\n",
    "print(' '*50)\n",
    "\n",
    "print('arr4 : ', arr4)"
   ]
  },
  {
   "cell_type": "markdown",
   "id": "6bf2aef2",
   "metadata": {},
   "source": [
    "## Q4.Create a list called list1 with the elements 10,20,30,40,50. Now, create a numpy array called arr5 from list1, using the method asarray. The data type of arr5 is float. Similarly, create another array called arr6, from list1, using the method fromiter, whose data type is int. Display arr5 and arr6."
   ]
  },
  {
   "cell_type": "code",
   "execution_count": 4,
   "id": "7a90b728",
   "metadata": {},
   "outputs": [
    {
     "name": "stdout",
     "output_type": "stream",
     "text": [
      "[10, 20, 30, 40, 50]\n",
      "<class 'list'>\n"
     ]
    }
   ],
   "source": [
    "list1 = [10,20,30,40,50]\n",
    "print(list1)\n",
    "print(type(list1))"
   ]
  },
  {
   "cell_type": "code",
   "execution_count": 5,
   "id": "9d06e3f8",
   "metadata": {},
   "outputs": [
    {
     "name": "stdout",
     "output_type": "stream",
     "text": [
      "arr5 :  [10. 20. 30. 40. 50.]\n",
      "float64\n"
     ]
    }
   ],
   "source": [
    "arr5 = np.asarray(list1,dtype=float)\n",
    "\n",
    "print('arr5 : ', arr5)\n",
    "print(arr5.dtype)"
   ]
  },
  {
   "cell_type": "code",
   "execution_count": 6,
   "id": "1c6f228c",
   "metadata": {},
   "outputs": [
    {
     "name": "stdout",
     "output_type": "stream",
     "text": [
      "arr6 :  [10 20 30 40 50]\n",
      "int32\n"
     ]
    }
   ],
   "source": [
    "arr6 = np.fromiter(list1,dtype = int)\n",
    "print('arr6 : ', arr6)\n",
    "print(arr6.dtype)"
   ]
  },
  {
   "cell_type": "markdown",
   "id": "563c0d99",
   "metadata": {},
   "source": [
    "## Q5. Create a numpy array called arr7 using the method arange. The starting value of this array is 12 and ending value is 99, with a step size of 3. Use the linspace method to create another array called arr8, where the starting value is 12 and ending value is 99 and which contains 50 evenly spaced elements."
   ]
  },
  {
   "cell_type": "code",
   "execution_count": 7,
   "id": "bddee946",
   "metadata": {},
   "outputs": [
    {
     "name": "stdout",
     "output_type": "stream",
     "text": [
      "[12 15 18 21 24 27 30 33 36 39 42 45 48 51 54 57 60 63 66 69 72 75 78 81\n",
      " 84 87 90 93 96]\n"
     ]
    }
   ],
   "source": [
    "import numpy as np\n",
    "arr7 = np.arange(12,99,3)\n",
    "print(arr7)"
   ]
  },
  {
   "cell_type": "code",
   "execution_count": 8,
   "id": "a7dfe397",
   "metadata": {},
   "outputs": [
    {
     "name": "stdout",
     "output_type": "stream",
     "text": [
      "[12.         13.7755102  15.55102041 17.32653061 19.10204082 20.87755102\n",
      " 22.65306122 24.42857143 26.20408163 27.97959184 29.75510204 31.53061224\n",
      " 33.30612245 35.08163265 36.85714286 38.63265306 40.40816327 42.18367347\n",
      " 43.95918367 45.73469388 47.51020408 49.28571429 51.06122449 52.83673469\n",
      " 54.6122449  56.3877551  58.16326531 59.93877551 61.71428571 63.48979592\n",
      " 65.26530612 67.04081633 68.81632653 70.59183673 72.36734694 74.14285714\n",
      " 75.91836735 77.69387755 79.46938776 81.24489796 83.02040816 84.79591837\n",
      " 86.57142857 88.34693878 90.12244898 91.89795918 93.67346939 95.44897959\n",
      " 97.2244898  99.        ]\n"
     ]
    }
   ],
   "source": [
    "arr8 = np.linspace(12,99,50)\n",
    "print(arr8)"
   ]
  },
  {
   "cell_type": "markdown",
   "id": "79763387",
   "metadata": {},
   "source": [
    "## Q6. In the array arr2 defined in Q.No. 1, what is the output of the following statements: print(arr2), print(arr2[0:1]), print(arr2[1][3]), print (arr2[1])"
   ]
  },
  {
   "cell_type": "code",
   "execution_count": 13,
   "id": "fbf8a2d6",
   "metadata": {},
   "outputs": [
    {
     "name": "stdout",
     "output_type": "stream",
     "text": [
      "[['Apple' 'Mango' 'Grapes' 'Banana' 'kiwi']\n",
      " ['Strawberry' 'Lichi' 'Orange' 'Pappaya' 'Berries']]\n"
     ]
    }
   ],
   "source": [
    "print(arr2)"
   ]
  },
  {
   "cell_type": "code",
   "execution_count": 14,
   "id": "9f746488",
   "metadata": {},
   "outputs": [
    {
     "name": "stdout",
     "output_type": "stream",
     "text": [
      "[['Apple' 'Mango' 'Grapes' 'Banana' 'kiwi']]\n"
     ]
    }
   ],
   "source": [
    "print(arr2[0:1])"
   ]
  },
  {
   "cell_type": "code",
   "execution_count": 15,
   "id": "fa9181a3",
   "metadata": {},
   "outputs": [
    {
     "name": "stdout",
     "output_type": "stream",
     "text": [
      "Pappaya\n"
     ]
    }
   ],
   "source": [
    "print(arr2[1][3])"
   ]
  },
  {
   "cell_type": "code",
   "execution_count": 16,
   "id": "3330a4ec",
   "metadata": {},
   "outputs": [
    {
     "name": "stdout",
     "output_type": "stream",
     "text": [
      "['Strawberry' 'Lichi' 'Orange' 'Pappaya' 'Berries']\n"
     ]
    }
   ],
   "source": [
    "print(arr2[1])"
   ]
  },
  {
   "cell_type": "markdown",
   "id": "d32eb21e",
   "metadata": {},
   "source": [
    "## Q7. Create a two dimensional array called arr9 with the following elements: [101, 322, 768], [233, 124, 390], [534, 122, 216]. From arr9, create an array called arr10 which contains the elements 101, 322, 390, 122 using advanced integer indexing. Create another array called arr11 which contains elements of first and second rows, and second and third columns using slicing operations."
   ]
  },
  {
   "cell_type": "code",
   "execution_count": 17,
   "id": "580ecf3e",
   "metadata": {},
   "outputs": [
    {
     "name": "stdout",
     "output_type": "stream",
     "text": [
      "[[101 322 768]\n",
      " [233 124 390]\n",
      " [534 122 216]]\n"
     ]
    }
   ],
   "source": [
    "import numpy as np\n",
    "arr9 = np.array([[101,322,768],[233,124,390],[534,122,216]])\n",
    "\n",
    "print(arr9)"
   ]
  },
  {
   "cell_type": "code",
   "execution_count": 18,
   "id": "333cd128",
   "metadata": {},
   "outputs": [
    {
     "name": "stdout",
     "output_type": "stream",
     "text": [
      "(101, 322, 390, 122)\n"
     ]
    }
   ],
   "source": [
    "arr10 = arr9[0][0],arr9[0][1],arr9[1][2],arr9[2][1]\n",
    "\n",
    "print(arr10)"
   ]
  },
  {
   "cell_type": "code",
   "execution_count": 19,
   "id": "7949d750",
   "metadata": {},
   "outputs": [
    {
     "name": "stdout",
     "output_type": "stream",
     "text": [
      "[[233 124 390]]\n"
     ]
    }
   ],
   "source": [
    "arr11 =  arr9[0:2][1:3]\n",
    "\n",
    "print(arr11)"
   ]
  },
  {
   "cell_type": "markdown",
   "id": "025bf1a5",
   "metadata": {},
   "source": [
    "## Q8. From array arr9 created in Q.No. 7, find all elements greater than 200 using boolean indexing, find all non-NaN elements, and find all non-float elements. Find the result of adding arrays arr9 and another array of 3 elements, using the concept of broadcasting."
   ]
  },
  {
   "cell_type": "code",
   "execution_count": 20,
   "id": "1727f479",
   "metadata": {},
   "outputs": [
    {
     "data": {
      "text/plain": [
       "array([[101, 322, 768],\n",
       "       [233, 124, 390],\n",
       "       [534, 122, 216]])"
      ]
     },
     "execution_count": 20,
     "metadata": {},
     "output_type": "execute_result"
    }
   ],
   "source": [
    "arr9"
   ]
  },
  {
   "cell_type": "code",
   "execution_count": 21,
   "id": "88833863",
   "metadata": {},
   "outputs": [
    {
     "name": "stdout",
     "output_type": "stream",
     "text": [
      "Elements are greater than 200 : \n",
      "[322 768 233 390 534 216]\n"
     ]
    }
   ],
   "source": [
    "print(\"Elements are greater than 200 : \")\n",
    "\n",
    "arr12 = (arr9[arr9>200])\n",
    "print(arr12)"
   ]
  },
  {
   "cell_type": "code",
   "execution_count": 22,
   "id": "86c59a35",
   "metadata": {},
   "outputs": [
    {
     "name": "stdout",
     "output_type": "stream",
     "text": [
      "[101 322 768 233 124 390 534 122 216]\n"
     ]
    }
   ],
   "source": [
    "arr13 = (arr9[~np.isnan(arr9)])\n",
    "print(arr13)"
   ]
  },
  {
   "cell_type": "code",
   "execution_count": 23,
   "id": "9c7e7319",
   "metadata": {},
   "outputs": [
    {
     "name": "stdout",
     "output_type": "stream",
     "text": [
      "[[[101 322 768]\n",
      "  [233 124 390]\n",
      "  [534 122 216]]]\n"
     ]
    }
   ],
   "source": [
    "arr14 = (arr9[arr9.dtype!='float'])\n",
    "\n",
    "print(arr14)"
   ]
  },
  {
   "cell_type": "code",
   "execution_count": 24,
   "id": "25487de3",
   "metadata": {},
   "outputs": [
    {
     "name": "stdout",
     "output_type": "stream",
     "text": [
      "[[201 423 870]\n",
      " [333 225 492]\n",
      " [634 223 318]]\n"
     ]
    }
   ],
   "source": [
    "arr15 = np.array([100,101,102])\n",
    "\n",
    "arr16 = arr9 + arr15\n",
    "\n",
    "print(arr16)"
   ]
  },
  {
   "cell_type": "markdown",
   "id": "38a42722",
   "metadata": {},
   "source": [
    "## Q9. For the array arr9, find its transpose. Find the result of joining the arrays arr1 and arr4 along axis 0."
   ]
  },
  {
   "cell_type": "code",
   "execution_count": 25,
   "id": "e94491d1",
   "metadata": {},
   "outputs": [
    {
     "name": "stdout",
     "output_type": "stream",
     "text": [
      "Transpose of arr9 :\n",
      "[[101 233 534]\n",
      " [322 124 122]\n",
      " [768 390 216]]\n",
      "**************************************************\n",
      "Joining the two arrays arr1 and arr4 along axis 0 : \n",
      "[1 2 3 4 5 6 1 1 1 1 1 1]\n"
     ]
    }
   ],
   "source": [
    "print('Transpose of arr9 :')\n",
    "print(arr9.T)\n",
    "print('*'*50)\n",
    "\n",
    "arr1 = np.array([1,2,3,4,5,6])\n",
    "arr4 = np.array([1,1,1,1,1,1])\n",
    "print('Joining the two arrays arr1 and arr4 along axis 0 : ')\n",
    "print(np.concatenate((arr1,arr4), axis=0))"
   ]
  },
  {
   "cell_type": "markdown",
   "id": "85a3af52",
   "metadata": {},
   "source": [
    "## Q10. Using any two 2-dimensional arrays, demonstrate the working of the methods, hstack, vstack, hsplit and vsplit"
   ]
  },
  {
   "cell_type": "code",
   "execution_count": 27,
   "id": "7b143713",
   "metadata": {},
   "outputs": [
    {
     "name": "stdout",
     "output_type": "stream",
     "text": [
      "[[1 2]\n",
      " [3 4]]\n"
     ]
    }
   ],
   "source": [
    "arr17 = np.array([[1,2],[3,4]])\n",
    "\n",
    "print(arr17)"
   ]
  },
  {
   "cell_type": "code",
   "execution_count": 28,
   "id": "2227f091",
   "metadata": {},
   "outputs": [
    {
     "name": "stdout",
     "output_type": "stream",
     "text": [
      "[1 2 3 4]\n"
     ]
    }
   ],
   "source": [
    "print (np.hstack(arr17))"
   ]
  },
  {
   "cell_type": "code",
   "execution_count": 29,
   "id": "5c2ba4a7",
   "metadata": {},
   "outputs": [
    {
     "name": "stdout",
     "output_type": "stream",
     "text": [
      "[[1 2]\n",
      " [3 4]]\n"
     ]
    }
   ],
   "source": [
    "print(np.vstack(arr17))"
   ]
  },
  {
   "cell_type": "code",
   "execution_count": 30,
   "id": "605bae55",
   "metadata": {},
   "outputs": [
    {
     "name": "stdout",
     "output_type": "stream",
     "text": [
      "[array([[1],\n",
      "       [3]]), array([[2],\n",
      "       [4]])]\n"
     ]
    }
   ],
   "source": [
    "print(np.hsplit(arr17,2))"
   ]
  },
  {
   "cell_type": "code",
   "execution_count": 31,
   "id": "ed7b6c1d",
   "metadata": {},
   "outputs": [
    {
     "name": "stdout",
     "output_type": "stream",
     "text": [
      "[array([[1, 2]]), array([[3, 4]])]\n"
     ]
    }
   ],
   "source": [
    "print(np.vsplit(arr17,2))"
   ]
  },
  {
   "cell_type": "code",
   "execution_count": null,
   "id": "065ea42d",
   "metadata": {},
   "outputs": [],
   "source": []
  }
 ],
 "metadata": {
  "kernelspec": {
   "display_name": "Python 3 (ipykernel)",
   "language": "python",
   "name": "python3"
  },
  "language_info": {
   "codemirror_mode": {
    "name": "ipython",
    "version": 3
   },
   "file_extension": ".py",
   "mimetype": "text/x-python",
   "name": "python",
   "nbconvert_exporter": "python",
   "pygments_lexer": "ipython3",
   "version": "3.9.12"
  }
 },
 "nbformat": 4,
 "nbformat_minor": 5
}
