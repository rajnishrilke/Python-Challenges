{
 "cells": [
  {
   "cell_type": "markdown",
   "id": "b4827531",
   "metadata": {},
   "source": [
    "## Q1.Create a data frame called DataFrame1. It should contain data about five employees. Each employee data consists of employee number, name, salary, department number and designation."
   ]
  },
  {
   "cell_type": "code",
   "execution_count": 13,
   "id": "9eccbb72",
   "metadata": {},
   "outputs": [
    {
     "data": {
      "text/html": [
       "<div>\n",
       "<style scoped>\n",
       "    .dataframe tbody tr th:only-of-type {\n",
       "        vertical-align: middle;\n",
       "    }\n",
       "\n",
       "    .dataframe tbody tr th {\n",
       "        vertical-align: top;\n",
       "    }\n",
       "\n",
       "    .dataframe thead th {\n",
       "        text-align: right;\n",
       "    }\n",
       "</style>\n",
       "<table border=\"1\" class=\"dataframe\">\n",
       "  <thead>\n",
       "    <tr style=\"text-align: right;\">\n",
       "      <th></th>\n",
       "      <th>0</th>\n",
       "      <th>1</th>\n",
       "      <th>2</th>\n",
       "      <th>3</th>\n",
       "      <th>4</th>\n",
       "    </tr>\n",
       "  </thead>\n",
       "  <tbody>\n",
       "    <tr>\n",
       "      <th>0</th>\n",
       "      <td>Emp101</td>\n",
       "      <td>Rajnish</td>\n",
       "      <td>17000</td>\n",
       "      <td>Tradeflock</td>\n",
       "      <td>Research Analyst</td>\n",
       "    </tr>\n",
       "    <tr>\n",
       "      <th>1</th>\n",
       "      <td>Emp102</td>\n",
       "      <td>Amit</td>\n",
       "      <td>18000</td>\n",
       "      <td>Tech to Review</td>\n",
       "      <td>Analyst</td>\n",
       "    </tr>\n",
       "    <tr>\n",
       "      <th>2</th>\n",
       "      <td>Emp103</td>\n",
       "      <td>Ankush</td>\n",
       "      <td>21000</td>\n",
       "      <td>Software</td>\n",
       "      <td>Developer</td>\n",
       "    </tr>\n",
       "    <tr>\n",
       "      <th>3</th>\n",
       "      <td>Emp104</td>\n",
       "      <td>Manish</td>\n",
       "      <td>16500</td>\n",
       "      <td>Sales</td>\n",
       "      <td>BDA</td>\n",
       "    </tr>\n",
       "    <tr>\n",
       "      <th>4</th>\n",
       "      <td>Emp105</td>\n",
       "      <td>Rajan</td>\n",
       "      <td>17000</td>\n",
       "      <td>Marketing</td>\n",
       "      <td>MRA</td>\n",
       "    </tr>\n",
       "  </tbody>\n",
       "</table>\n",
       "</div>"
      ],
      "text/plain": [
       "        0        1      2               3                 4\n",
       "0  Emp101  Rajnish  17000      Tradeflock  Research Analyst\n",
       "1  Emp102     Amit  18000  Tech to Review           Analyst\n",
       "2  Emp103   Ankush  21000        Software         Developer\n",
       "3  Emp104   Manish  16500           Sales               BDA\n",
       "4  Emp105    Rajan  17000       Marketing               MRA"
      ]
     },
     "execution_count": 13,
     "metadata": {},
     "output_type": "execute_result"
    }
   ],
   "source": [
    "import pandas as pd\n",
    "DataFrame1=pd.DataFrame([['Emp101','Rajnish',17000,'Tradeflock','Research Analyst'],\n",
    "                        ['Emp102','Amit',18000,'Tech to Review','Analyst'],\n",
    "                        ['Emp103','Ankush',21000,'Software','Developer'],\n",
    "                        ['Emp104','Manish',16500,'Sales','BDA'],\n",
    "                        ['Emp105','Rajan',17000,'Marketing','MRA']])\n",
    "    \n",
    "DataFrame1"
   ]
  },
  {
   "cell_type": "markdown",
   "id": "6f0a1611",
   "metadata": {},
   "source": [
    "## Q2. In the DataFrame1 defined in Q.No. 1, add appropriate column names to the columns. Find the mean of the salary in the DataFrame1."
   ]
  },
  {
   "cell_type": "code",
   "execution_count": 14,
   "id": "08b1a35b",
   "metadata": {},
   "outputs": [
    {
     "data": {
      "text/html": [
       "<div>\n",
       "<style scoped>\n",
       "    .dataframe tbody tr th:only-of-type {\n",
       "        vertical-align: middle;\n",
       "    }\n",
       "\n",
       "    .dataframe tbody tr th {\n",
       "        vertical-align: top;\n",
       "    }\n",
       "\n",
       "    .dataframe thead th {\n",
       "        text-align: right;\n",
       "    }\n",
       "</style>\n",
       "<table border=\"1\" class=\"dataframe\">\n",
       "  <thead>\n",
       "    <tr style=\"text-align: right;\">\n",
       "      <th></th>\n",
       "      <th>Employee No.</th>\n",
       "      <th>Employee Name</th>\n",
       "      <th>Salary</th>\n",
       "      <th>Department No.</th>\n",
       "      <th>Designation</th>\n",
       "    </tr>\n",
       "  </thead>\n",
       "  <tbody>\n",
       "    <tr>\n",
       "      <th>0</th>\n",
       "      <td>Emp101</td>\n",
       "      <td>Rajnish</td>\n",
       "      <td>17000</td>\n",
       "      <td>Tradeflock</td>\n",
       "      <td>Research Analyst</td>\n",
       "    </tr>\n",
       "    <tr>\n",
       "      <th>1</th>\n",
       "      <td>Emp102</td>\n",
       "      <td>Amit</td>\n",
       "      <td>18000</td>\n",
       "      <td>Tech to Review</td>\n",
       "      <td>Analyst</td>\n",
       "    </tr>\n",
       "    <tr>\n",
       "      <th>2</th>\n",
       "      <td>Emp103</td>\n",
       "      <td>Ankush</td>\n",
       "      <td>21000</td>\n",
       "      <td>Software</td>\n",
       "      <td>Developer</td>\n",
       "    </tr>\n",
       "    <tr>\n",
       "      <th>3</th>\n",
       "      <td>Emp104</td>\n",
       "      <td>Manish</td>\n",
       "      <td>16500</td>\n",
       "      <td>Sales</td>\n",
       "      <td>BDA</td>\n",
       "    </tr>\n",
       "    <tr>\n",
       "      <th>4</th>\n",
       "      <td>Emp105</td>\n",
       "      <td>Rajan</td>\n",
       "      <td>17000</td>\n",
       "      <td>Marketing</td>\n",
       "      <td>MRA</td>\n",
       "    </tr>\n",
       "  </tbody>\n",
       "</table>\n",
       "</div>"
      ],
      "text/plain": [
       "  Employee No. Employee Name  Salary  Department No.       Designation\n",
       "0       Emp101       Rajnish   17000      Tradeflock  Research Analyst\n",
       "1       Emp102          Amit   18000  Tech to Review           Analyst\n",
       "2       Emp103        Ankush   21000        Software         Developer\n",
       "3       Emp104        Manish   16500           Sales               BDA\n",
       "4       Emp105         Rajan   17000       Marketing               MRA"
      ]
     },
     "execution_count": 14,
     "metadata": {},
     "output_type": "execute_result"
    }
   ],
   "source": [
    "import pandas as pd\n",
    "DataFrame1=pd.DataFrame([['Emp101','Rajnish',17000,'Tradeflock','Research Analyst'],\n",
    "                        ['Emp102','Amit',18000,'Tech to Review','Analyst'],\n",
    "                        ['Emp103','Ankush',21000,'Software','Developer'],\n",
    "                        ['Emp104','Manish',16500,'Sales','BDA'],\n",
    "                        ['Emp105','Rajan',17000,'Marketing','MRA']],\n",
    "                        columns=['Employee No.','Employee Name','Salary','Department No.','Designation'])\n",
    "    \n",
    "DataFrame1"
   ]
  },
  {
   "cell_type": "code",
   "execution_count": 19,
   "id": "69086e01",
   "metadata": {},
   "outputs": [
    {
     "data": {
      "text/plain": [
       "17900.0"
      ]
     },
     "execution_count": 19,
     "metadata": {},
     "output_type": "execute_result"
    }
   ],
   "source": [
    "DataFrame1.Salary.mean()"
   ]
  },
  {
   "cell_type": "markdown",
   "id": "90bf25b6",
   "metadata": {},
   "source": [
    "## Q3. Create a dictionary called dept. In this dictionary, the columns are deptno, deptname and location. Create a data frame called DataFrame2 from the dictionary dept."
   ]
  },
  {
   "cell_type": "code",
   "execution_count": 15,
   "id": "6a6f3f69",
   "metadata": {},
   "outputs": [
    {
     "data": {
      "text/html": [
       "<div>\n",
       "<style scoped>\n",
       "    .dataframe tbody tr th:only-of-type {\n",
       "        vertical-align: middle;\n",
       "    }\n",
       "\n",
       "    .dataframe tbody tr th {\n",
       "        vertical-align: top;\n",
       "    }\n",
       "\n",
       "    .dataframe thead th {\n",
       "        text-align: right;\n",
       "    }\n",
       "</style>\n",
       "<table border=\"1\" class=\"dataframe\">\n",
       "  <thead>\n",
       "    <tr style=\"text-align: right;\">\n",
       "      <th></th>\n",
       "      <th>Dept_No.</th>\n",
       "      <th>Dept_Name</th>\n",
       "      <th>Location</th>\n",
       "    </tr>\n",
       "  </thead>\n",
       "  <tbody>\n",
       "    <tr>\n",
       "      <th>0</th>\n",
       "      <td>Dept01</td>\n",
       "      <td>Developmet</td>\n",
       "      <td>Pune</td>\n",
       "    </tr>\n",
       "    <tr>\n",
       "      <th>1</th>\n",
       "      <td>Dept02</td>\n",
       "      <td>Data</td>\n",
       "      <td>Delhi</td>\n",
       "    </tr>\n",
       "    <tr>\n",
       "      <th>2</th>\n",
       "      <td>Dept03</td>\n",
       "      <td>Sales</td>\n",
       "      <td>Noida</td>\n",
       "    </tr>\n",
       "    <tr>\n",
       "      <th>3</th>\n",
       "      <td>Dept04</td>\n",
       "      <td>Finance</td>\n",
       "      <td>Gurgaon</td>\n",
       "    </tr>\n",
       "  </tbody>\n",
       "</table>\n",
       "</div>"
      ],
      "text/plain": [
       "  Dept_No.   Dept_Name Location\n",
       "0   Dept01  Developmet     Pune\n",
       "1   Dept02        Data    Delhi\n",
       "2   Dept03       Sales    Noida\n",
       "3   Dept04     Finance  Gurgaon"
      ]
     },
     "execution_count": 15,
     "metadata": {},
     "output_type": "execute_result"
    }
   ],
   "source": [
    "dept={\"Dept_No.\":('Dept01','Dept02','Dept03','Dept04'),\n",
    "    \"Dept_Name\":('Developmet','Data','Sales','Finance'),\n",
    "     \"Location\":('Pune','Delhi','Noida','Gurgaon')}\n",
    "DataFrame2=pd.DataFrame(dept)\n",
    "DataFrame2"
   ]
  },
  {
   "cell_type": "markdown",
   "id": "a026b8ae",
   "metadata": {},
   "source": [
    "## Q4. Consider a sales.csv file with the following data:\n",
    "#### Dinesh  7800  6500  4590\n",
    "#### Mahesh  8900           3790\n",
    "#### Ramesh  10800  2300\n",
    "#### Suresh  5600  6790  2300\n",
    "#### Basha  7600  2300  2400\n",
    "\n",
    "## The data represents salesman name and sales in three regions: region1, region2 and region3. Load sles.csv into a data frame called DataFrame3. Give appropriate column names to the columns in DataFrame3. Display the contents of DataFrame3."
   ]
  },
  {
   "cell_type": "code",
   "execution_count": 19,
   "id": "00ae1f4c",
   "metadata": {},
   "outputs": [
    {
     "data": {
      "text/html": [
       "<div>\n",
       "<style scoped>\n",
       "    .dataframe tbody tr th:only-of-type {\n",
       "        vertical-align: middle;\n",
       "    }\n",
       "\n",
       "    .dataframe tbody tr th {\n",
       "        vertical-align: top;\n",
       "    }\n",
       "\n",
       "    .dataframe thead th {\n",
       "        text-align: right;\n",
       "    }\n",
       "</style>\n",
       "<table border=\"1\" class=\"dataframe\">\n",
       "  <thead>\n",
       "    <tr style=\"text-align: right;\">\n",
       "      <th></th>\n",
       "      <th>Salesperson</th>\n",
       "      <th>Region1</th>\n",
       "      <th>Region2</th>\n",
       "      <th>Region3</th>\n",
       "    </tr>\n",
       "  </thead>\n",
       "  <tbody>\n",
       "    <tr>\n",
       "      <th>0</th>\n",
       "      <td>Dinesh</td>\n",
       "      <td>7800</td>\n",
       "      <td>6500.0</td>\n",
       "      <td>4590.0</td>\n",
       "    </tr>\n",
       "    <tr>\n",
       "      <th>1</th>\n",
       "      <td>Mahesh</td>\n",
       "      <td>8900</td>\n",
       "      <td>NaN</td>\n",
       "      <td>3790.0</td>\n",
       "    </tr>\n",
       "    <tr>\n",
       "      <th>2</th>\n",
       "      <td>Ramesh</td>\n",
       "      <td>10800</td>\n",
       "      <td>2300.0</td>\n",
       "      <td>NaN</td>\n",
       "    </tr>\n",
       "    <tr>\n",
       "      <th>3</th>\n",
       "      <td>Suresh</td>\n",
       "      <td>5600</td>\n",
       "      <td>6790.0</td>\n",
       "      <td>2300.0</td>\n",
       "    </tr>\n",
       "    <tr>\n",
       "      <th>4</th>\n",
       "      <td>Basha</td>\n",
       "      <td>7600</td>\n",
       "      <td>2300.0</td>\n",
       "      <td>2400.0</td>\n",
       "    </tr>\n",
       "  </tbody>\n",
       "</table>\n",
       "</div>"
      ],
      "text/plain": [
       "  Salesperson  Region1  Region2  Region3\n",
       "0      Dinesh     7800   6500.0   4590.0\n",
       "1      Mahesh     8900      NaN   3790.0\n",
       "2      Ramesh    10800   2300.0      NaN\n",
       "3      Suresh     5600   6790.0   2300.0\n",
       "4       Basha     7600   2300.0   2400.0"
      ]
     },
     "execution_count": 19,
     "metadata": {},
     "output_type": "execute_result"
    }
   ],
   "source": [
    "import pandas as pd\n",
    "DataFrame3=pd.read_csv('.\\sales.csv',header=None,names=['Salesperson','Region1','Region2','Region3'])\n",
    "DataFrame3"
   ]
  },
  {
   "cell_type": "markdown",
   "id": "1c5e049e",
   "metadata": {},
   "source": [
    "## Q5. In this exercise, demonstrate different methods of handling missing data in data frames. For reference, consider the DataFrame3 created in Q.No. 4. In DataFrame3, do the following: fill missing values with zeroes, fill missing values with the mean of their respective column, drop the rows containing missing values, drop the columns containing missing values."
   ]
  },
  {
   "cell_type": "code",
   "execution_count": 17,
   "id": "eaaed4e0",
   "metadata": {},
   "outputs": [
    {
     "data": {
      "text/html": [
       "<div>\n",
       "<style scoped>\n",
       "    .dataframe tbody tr th:only-of-type {\n",
       "        vertical-align: middle;\n",
       "    }\n",
       "\n",
       "    .dataframe tbody tr th {\n",
       "        vertical-align: top;\n",
       "    }\n",
       "\n",
       "    .dataframe thead th {\n",
       "        text-align: right;\n",
       "    }\n",
       "</style>\n",
       "<table border=\"1\" class=\"dataframe\">\n",
       "  <thead>\n",
       "    <tr style=\"text-align: right;\">\n",
       "      <th></th>\n",
       "      <th>Salesperson</th>\n",
       "      <th>Region1</th>\n",
       "      <th>Region2</th>\n",
       "      <th>Region3</th>\n",
       "    </tr>\n",
       "  </thead>\n",
       "  <tbody>\n",
       "    <tr>\n",
       "      <th>0</th>\n",
       "      <td>Dinesh</td>\n",
       "      <td>7800</td>\n",
       "      <td>6500.0</td>\n",
       "      <td>4590.0</td>\n",
       "    </tr>\n",
       "    <tr>\n",
       "      <th>1</th>\n",
       "      <td>Mahesh</td>\n",
       "      <td>8900</td>\n",
       "      <td>0.0</td>\n",
       "      <td>3790.0</td>\n",
       "    </tr>\n",
       "    <tr>\n",
       "      <th>2</th>\n",
       "      <td>Ramesh</td>\n",
       "      <td>10800</td>\n",
       "      <td>2300.0</td>\n",
       "      <td>0.0</td>\n",
       "    </tr>\n",
       "    <tr>\n",
       "      <th>3</th>\n",
       "      <td>Suresh</td>\n",
       "      <td>5600</td>\n",
       "      <td>6790.0</td>\n",
       "      <td>2300.0</td>\n",
       "    </tr>\n",
       "    <tr>\n",
       "      <th>4</th>\n",
       "      <td>Basha</td>\n",
       "      <td>7600</td>\n",
       "      <td>2300.0</td>\n",
       "      <td>2400.0</td>\n",
       "    </tr>\n",
       "  </tbody>\n",
       "</table>\n",
       "</div>"
      ],
      "text/plain": [
       "  Salesperson  Region1  Region2  Region3\n",
       "0      Dinesh     7800   6500.0   4590.0\n",
       "1      Mahesh     8900      0.0   3790.0\n",
       "2      Ramesh    10800   2300.0      0.0\n",
       "3      Suresh     5600   6790.0   2300.0\n",
       "4       Basha     7600   2300.0   2400.0"
      ]
     },
     "execution_count": 17,
     "metadata": {},
     "output_type": "execute_result"
    }
   ],
   "source": [
    "DataFrame3 = DataFrame3.fillna(0)\n",
    "DataFrame3"
   ]
  },
  {
   "cell_type": "code",
   "execution_count": 20,
   "id": "f8a57c86",
   "metadata": {},
   "outputs": [
    {
     "data": {
      "text/plain": [
       "0    6500.0\n",
       "1    4472.5\n",
       "2    2300.0\n",
       "3    6790.0\n",
       "4    2300.0\n",
       "Name: Region2, dtype: float64"
      ]
     },
     "execution_count": 20,
     "metadata": {},
     "output_type": "execute_result"
    }
   ],
   "source": [
    "DataFrame3['Region2'].fillna(DataFrame3['Region2'].mean())"
   ]
  },
  {
   "cell_type": "code",
   "execution_count": 21,
   "id": "f1893ac1",
   "metadata": {},
   "outputs": [
    {
     "data": {
      "text/plain": [
       "0    4590.0\n",
       "1    3790.0\n",
       "2    3270.0\n",
       "3    2300.0\n",
       "4    2400.0\n",
       "Name: Region3, dtype: float64"
      ]
     },
     "execution_count": 21,
     "metadata": {},
     "output_type": "execute_result"
    }
   ],
   "source": [
    "DataFrame3['Region3'].fillna(DataFrame3['Region3'].mean())"
   ]
  },
  {
   "cell_type": "code",
   "execution_count": 22,
   "id": "9770073c",
   "metadata": {},
   "outputs": [
    {
     "data": {
      "text/html": [
       "<div>\n",
       "<style scoped>\n",
       "    .dataframe tbody tr th:only-of-type {\n",
       "        vertical-align: middle;\n",
       "    }\n",
       "\n",
       "    .dataframe tbody tr th {\n",
       "        vertical-align: top;\n",
       "    }\n",
       "\n",
       "    .dataframe thead th {\n",
       "        text-align: right;\n",
       "    }\n",
       "</style>\n",
       "<table border=\"1\" class=\"dataframe\">\n",
       "  <thead>\n",
       "    <tr style=\"text-align: right;\">\n",
       "      <th></th>\n",
       "      <th>Salesperson</th>\n",
       "      <th>Region1</th>\n",
       "      <th>Region2</th>\n",
       "      <th>Region3</th>\n",
       "    </tr>\n",
       "  </thead>\n",
       "  <tbody>\n",
       "    <tr>\n",
       "      <th>0</th>\n",
       "      <td>Dinesh</td>\n",
       "      <td>7800</td>\n",
       "      <td>6500.0</td>\n",
       "      <td>4590.0</td>\n",
       "    </tr>\n",
       "    <tr>\n",
       "      <th>3</th>\n",
       "      <td>Suresh</td>\n",
       "      <td>5600</td>\n",
       "      <td>6790.0</td>\n",
       "      <td>2300.0</td>\n",
       "    </tr>\n",
       "    <tr>\n",
       "      <th>4</th>\n",
       "      <td>Basha</td>\n",
       "      <td>7600</td>\n",
       "      <td>2300.0</td>\n",
       "      <td>2400.0</td>\n",
       "    </tr>\n",
       "  </tbody>\n",
       "</table>\n",
       "</div>"
      ],
      "text/plain": [
       "  Salesperson  Region1  Region2  Region3\n",
       "0      Dinesh     7800   6500.0   4590.0\n",
       "3      Suresh     5600   6790.0   2300.0\n",
       "4       Basha     7600   2300.0   2400.0"
      ]
     },
     "execution_count": 22,
     "metadata": {},
     "output_type": "execute_result"
    }
   ],
   "source": [
    "DataFrame3.dropna()"
   ]
  },
  {
   "cell_type": "code",
   "execution_count": 23,
   "id": "c81af148",
   "metadata": {},
   "outputs": [
    {
     "data": {
      "text/html": [
       "<div>\n",
       "<style scoped>\n",
       "    .dataframe tbody tr th:only-of-type {\n",
       "        vertical-align: middle;\n",
       "    }\n",
       "\n",
       "    .dataframe tbody tr th {\n",
       "        vertical-align: top;\n",
       "    }\n",
       "\n",
       "    .dataframe thead th {\n",
       "        text-align: right;\n",
       "    }\n",
       "</style>\n",
       "<table border=\"1\" class=\"dataframe\">\n",
       "  <thead>\n",
       "    <tr style=\"text-align: right;\">\n",
       "      <th></th>\n",
       "      <th>Salesperson</th>\n",
       "      <th>Region1</th>\n",
       "    </tr>\n",
       "  </thead>\n",
       "  <tbody>\n",
       "    <tr>\n",
       "      <th>0</th>\n",
       "      <td>Dinesh</td>\n",
       "      <td>7800</td>\n",
       "    </tr>\n",
       "    <tr>\n",
       "      <th>1</th>\n",
       "      <td>Mahesh</td>\n",
       "      <td>8900</td>\n",
       "    </tr>\n",
       "    <tr>\n",
       "      <th>2</th>\n",
       "      <td>Ramesh</td>\n",
       "      <td>10800</td>\n",
       "    </tr>\n",
       "    <tr>\n",
       "      <th>3</th>\n",
       "      <td>Suresh</td>\n",
       "      <td>5600</td>\n",
       "    </tr>\n",
       "    <tr>\n",
       "      <th>4</th>\n",
       "      <td>Basha</td>\n",
       "      <td>7600</td>\n",
       "    </tr>\n",
       "  </tbody>\n",
       "</table>\n",
       "</div>"
      ],
      "text/plain": [
       "  Salesperson  Region1\n",
       "0      Dinesh     7800\n",
       "1      Mahesh     8900\n",
       "2      Ramesh    10800\n",
       "3      Suresh     5600\n",
       "4       Basha     7600"
      ]
     },
     "execution_count": 23,
     "metadata": {},
     "output_type": "execute_result"
    }
   ],
   "source": [
    "DataFrame3.dropna(axis=1)"
   ]
  },
  {
   "cell_type": "markdown",
   "id": "db6e866a",
   "metadata": {},
   "source": [
    "## Q6. From DataFrame1 create a new data frame called DataFrame4. In DataFrame4, set the employee number as an in-place index. Display data from the 3rd row and 4th column using label-based and integer-based indexing."
   ]
  },
  {
   "cell_type": "code",
   "execution_count": 24,
   "id": "7d49655f",
   "metadata": {},
   "outputs": [
    {
     "data": {
      "text/html": [
       "<div>\n",
       "<style scoped>\n",
       "    .dataframe tbody tr th:only-of-type {\n",
       "        vertical-align: middle;\n",
       "    }\n",
       "\n",
       "    .dataframe tbody tr th {\n",
       "        vertical-align: top;\n",
       "    }\n",
       "\n",
       "    .dataframe thead th {\n",
       "        text-align: right;\n",
       "    }\n",
       "</style>\n",
       "<table border=\"1\" class=\"dataframe\">\n",
       "  <thead>\n",
       "    <tr style=\"text-align: right;\">\n",
       "      <th></th>\n",
       "      <th>Employee No.</th>\n",
       "      <th>Employee Name</th>\n",
       "      <th>Salary</th>\n",
       "      <th>Department No.</th>\n",
       "      <th>Designation</th>\n",
       "    </tr>\n",
       "  </thead>\n",
       "  <tbody>\n",
       "    <tr>\n",
       "      <th>0</th>\n",
       "      <td>Emp101</td>\n",
       "      <td>Rajnish</td>\n",
       "      <td>17000</td>\n",
       "      <td>Tradeflock</td>\n",
       "      <td>Research Analyst</td>\n",
       "    </tr>\n",
       "    <tr>\n",
       "      <th>1</th>\n",
       "      <td>Emp102</td>\n",
       "      <td>Amit</td>\n",
       "      <td>18000</td>\n",
       "      <td>Tech to Review</td>\n",
       "      <td>Analyst</td>\n",
       "    </tr>\n",
       "    <tr>\n",
       "      <th>2</th>\n",
       "      <td>Emp103</td>\n",
       "      <td>Ankush</td>\n",
       "      <td>21000</td>\n",
       "      <td>Software</td>\n",
       "      <td>Developer</td>\n",
       "    </tr>\n",
       "    <tr>\n",
       "      <th>3</th>\n",
       "      <td>Emp104</td>\n",
       "      <td>Manish</td>\n",
       "      <td>16500</td>\n",
       "      <td>Sales</td>\n",
       "      <td>BDA</td>\n",
       "    </tr>\n",
       "    <tr>\n",
       "      <th>4</th>\n",
       "      <td>Emp105</td>\n",
       "      <td>Rajan</td>\n",
       "      <td>17000</td>\n",
       "      <td>Marketing</td>\n",
       "      <td>MRA</td>\n",
       "    </tr>\n",
       "  </tbody>\n",
       "</table>\n",
       "</div>"
      ],
      "text/plain": [
       "  Employee No. Employee Name  Salary  Department No.       Designation\n",
       "0       Emp101       Rajnish   17000      Tradeflock  Research Analyst\n",
       "1       Emp102          Amit   18000  Tech to Review           Analyst\n",
       "2       Emp103        Ankush   21000        Software         Developer\n",
       "3       Emp104        Manish   16500           Sales               BDA\n",
       "4       Emp105         Rajan   17000       Marketing               MRA"
      ]
     },
     "execution_count": 24,
     "metadata": {},
     "output_type": "execute_result"
    }
   ],
   "source": [
    "DataFrame1"
   ]
  },
  {
   "cell_type": "code",
   "execution_count": 25,
   "id": "8799b7b2",
   "metadata": {},
   "outputs": [
    {
     "data": {
      "text/html": [
       "<div>\n",
       "<style scoped>\n",
       "    .dataframe tbody tr th:only-of-type {\n",
       "        vertical-align: middle;\n",
       "    }\n",
       "\n",
       "    .dataframe tbody tr th {\n",
       "        vertical-align: top;\n",
       "    }\n",
       "\n",
       "    .dataframe thead th {\n",
       "        text-align: right;\n",
       "    }\n",
       "</style>\n",
       "<table border=\"1\" class=\"dataframe\">\n",
       "  <thead>\n",
       "    <tr style=\"text-align: right;\">\n",
       "      <th></th>\n",
       "      <th>Employee Name</th>\n",
       "      <th>Salary</th>\n",
       "      <th>Department No.</th>\n",
       "      <th>Designation</th>\n",
       "    </tr>\n",
       "    <tr>\n",
       "      <th>Employee No.</th>\n",
       "      <th></th>\n",
       "      <th></th>\n",
       "      <th></th>\n",
       "      <th></th>\n",
       "    </tr>\n",
       "  </thead>\n",
       "  <tbody>\n",
       "    <tr>\n",
       "      <th>Emp101</th>\n",
       "      <td>Rajnish</td>\n",
       "      <td>17000</td>\n",
       "      <td>Tradeflock</td>\n",
       "      <td>Research Analyst</td>\n",
       "    </tr>\n",
       "    <tr>\n",
       "      <th>Emp102</th>\n",
       "      <td>Amit</td>\n",
       "      <td>18000</td>\n",
       "      <td>Tech to Review</td>\n",
       "      <td>Analyst</td>\n",
       "    </tr>\n",
       "    <tr>\n",
       "      <th>Emp103</th>\n",
       "      <td>Ankush</td>\n",
       "      <td>21000</td>\n",
       "      <td>Software</td>\n",
       "      <td>Developer</td>\n",
       "    </tr>\n",
       "    <tr>\n",
       "      <th>Emp104</th>\n",
       "      <td>Manish</td>\n",
       "      <td>16500</td>\n",
       "      <td>Sales</td>\n",
       "      <td>BDA</td>\n",
       "    </tr>\n",
       "    <tr>\n",
       "      <th>Emp105</th>\n",
       "      <td>Rajan</td>\n",
       "      <td>17000</td>\n",
       "      <td>Marketing</td>\n",
       "      <td>MRA</td>\n",
       "    </tr>\n",
       "  </tbody>\n",
       "</table>\n",
       "</div>"
      ],
      "text/plain": [
       "             Employee Name  Salary  Department No.       Designation\n",
       "Employee No.                                                        \n",
       "Emp101             Rajnish   17000      Tradeflock  Research Analyst\n",
       "Emp102                Amit   18000  Tech to Review           Analyst\n",
       "Emp103              Ankush   21000        Software         Developer\n",
       "Emp104              Manish   16500           Sales               BDA\n",
       "Emp105               Rajan   17000       Marketing               MRA"
      ]
     },
     "execution_count": 25,
     "metadata": {},
     "output_type": "execute_result"
    }
   ],
   "source": [
    "DataFrame4 = DataFrame1.set_index('Employee No.')\n",
    "DataFrame4"
   ]
  },
  {
   "cell_type": "code",
   "execution_count": 26,
   "id": "44dd7294",
   "metadata": {},
   "outputs": [
    {
     "data": {
      "text/plain": [
       "'Developer'"
      ]
     },
     "execution_count": 26,
     "metadata": {},
     "output_type": "execute_result"
    }
   ],
   "source": [
    "DataFrame4.loc['Emp103','Designation']"
   ]
  },
  {
   "cell_type": "code",
   "execution_count": 27,
   "id": "02c87549",
   "metadata": {},
   "outputs": [
    {
     "data": {
      "text/plain": [
       "'Developer'"
      ]
     },
     "execution_count": 27,
     "metadata": {},
     "output_type": "execute_result"
    }
   ],
   "source": [
    "DataFrame4.iloc[2,3]"
   ]
  },
  {
   "cell_type": "markdown",
   "id": "86328e9a",
   "metadata": {},
   "source": [
    "## Q7. In DataFrame3 created in Q.No. 5, find the salesmen whose sales are greater than 7000 in region1 but less than 3000 in region2"
   ]
  },
  {
   "cell_type": "code",
   "execution_count": 28,
   "id": "61699486",
   "metadata": {},
   "outputs": [
    {
     "data": {
      "text/html": [
       "<div>\n",
       "<style scoped>\n",
       "    .dataframe tbody tr th:only-of-type {\n",
       "        vertical-align: middle;\n",
       "    }\n",
       "\n",
       "    .dataframe tbody tr th {\n",
       "        vertical-align: top;\n",
       "    }\n",
       "\n",
       "    .dataframe thead th {\n",
       "        text-align: right;\n",
       "    }\n",
       "</style>\n",
       "<table border=\"1\" class=\"dataframe\">\n",
       "  <thead>\n",
       "    <tr style=\"text-align: right;\">\n",
       "      <th></th>\n",
       "      <th>Salesperson</th>\n",
       "      <th>Region1</th>\n",
       "      <th>Region2</th>\n",
       "      <th>Region3</th>\n",
       "    </tr>\n",
       "  </thead>\n",
       "  <tbody>\n",
       "    <tr>\n",
       "      <th>0</th>\n",
       "      <td>Dinesh</td>\n",
       "      <td>7800</td>\n",
       "      <td>6500.0</td>\n",
       "      <td>4590.0</td>\n",
       "    </tr>\n",
       "    <tr>\n",
       "      <th>1</th>\n",
       "      <td>Mahesh</td>\n",
       "      <td>8900</td>\n",
       "      <td>NaN</td>\n",
       "      <td>3790.0</td>\n",
       "    </tr>\n",
       "    <tr>\n",
       "      <th>2</th>\n",
       "      <td>Ramesh</td>\n",
       "      <td>10800</td>\n",
       "      <td>2300.0</td>\n",
       "      <td>NaN</td>\n",
       "    </tr>\n",
       "    <tr>\n",
       "      <th>3</th>\n",
       "      <td>Suresh</td>\n",
       "      <td>5600</td>\n",
       "      <td>6790.0</td>\n",
       "      <td>2300.0</td>\n",
       "    </tr>\n",
       "    <tr>\n",
       "      <th>4</th>\n",
       "      <td>Basha</td>\n",
       "      <td>7600</td>\n",
       "      <td>2300.0</td>\n",
       "      <td>2400.0</td>\n",
       "    </tr>\n",
       "  </tbody>\n",
       "</table>\n",
       "</div>"
      ],
      "text/plain": [
       "  Salesperson  Region1  Region2  Region3\n",
       "0      Dinesh     7800   6500.0   4590.0\n",
       "1      Mahesh     8900      NaN   3790.0\n",
       "2      Ramesh    10800   2300.0      NaN\n",
       "3      Suresh     5600   6790.0   2300.0\n",
       "4       Basha     7600   2300.0   2400.0"
      ]
     },
     "execution_count": 28,
     "metadata": {},
     "output_type": "execute_result"
    }
   ],
   "source": [
    "DataFrame3"
   ]
  },
  {
   "cell_type": "code",
   "execution_count": 29,
   "id": "2ca03364",
   "metadata": {},
   "outputs": [
    {
     "data": {
      "text/html": [
       "<div>\n",
       "<style scoped>\n",
       "    .dataframe tbody tr th:only-of-type {\n",
       "        vertical-align: middle;\n",
       "    }\n",
       "\n",
       "    .dataframe tbody tr th {\n",
       "        vertical-align: top;\n",
       "    }\n",
       "\n",
       "    .dataframe thead th {\n",
       "        text-align: right;\n",
       "    }\n",
       "</style>\n",
       "<table border=\"1\" class=\"dataframe\">\n",
       "  <thead>\n",
       "    <tr style=\"text-align: right;\">\n",
       "      <th></th>\n",
       "      <th>Salesperson</th>\n",
       "      <th>Region1</th>\n",
       "      <th>Region2</th>\n",
       "      <th>Region3</th>\n",
       "    </tr>\n",
       "  </thead>\n",
       "  <tbody>\n",
       "    <tr>\n",
       "      <th>2</th>\n",
       "      <td>Ramesh</td>\n",
       "      <td>10800</td>\n",
       "      <td>2300.0</td>\n",
       "      <td>NaN</td>\n",
       "    </tr>\n",
       "    <tr>\n",
       "      <th>4</th>\n",
       "      <td>Basha</td>\n",
       "      <td>7600</td>\n",
       "      <td>2300.0</td>\n",
       "      <td>2400.0</td>\n",
       "    </tr>\n",
       "  </tbody>\n",
       "</table>\n",
       "</div>"
      ],
      "text/plain": [
       "  Salesperson  Region1  Region2  Region3\n",
       "2      Ramesh    10800   2300.0      NaN\n",
       "4       Basha     7600   2300.0   2400.0"
      ]
     },
     "execution_count": 29,
     "metadata": {},
     "output_type": "execute_result"
    }
   ],
   "source": [
    "DataFrame3[(DataFrame3['Region1'] > 7000) & (DataFrame3['Region2'] < 3000)]"
   ]
  },
  {
   "cell_type": "markdown",
   "id": "31f6d761",
   "metadata": {},
   "source": [
    "## Q8. In DataFrame1 created in Q. No. 1, find the employees with the highest salary in each department. Use the group by clause and the max() function. Similarly, in DataFrame3 created in Q. No. 5, find the salesman with the highest amount of sales for each region."
   ]
  },
  {
   "cell_type": "code",
   "execution_count": 30,
   "id": "a55f2d2c",
   "metadata": {},
   "outputs": [
    {
     "data": {
      "text/html": [
       "<div>\n",
       "<style scoped>\n",
       "    .dataframe tbody tr th:only-of-type {\n",
       "        vertical-align: middle;\n",
       "    }\n",
       "\n",
       "    .dataframe tbody tr th {\n",
       "        vertical-align: top;\n",
       "    }\n",
       "\n",
       "    .dataframe thead th {\n",
       "        text-align: right;\n",
       "    }\n",
       "</style>\n",
       "<table border=\"1\" class=\"dataframe\">\n",
       "  <thead>\n",
       "    <tr style=\"text-align: right;\">\n",
       "      <th></th>\n",
       "      <th>Employee No.</th>\n",
       "      <th>Employee Name</th>\n",
       "      <th>Salary</th>\n",
       "      <th>Department No.</th>\n",
       "      <th>Designation</th>\n",
       "    </tr>\n",
       "  </thead>\n",
       "  <tbody>\n",
       "    <tr>\n",
       "      <th>0</th>\n",
       "      <td>Emp101</td>\n",
       "      <td>Rajnish</td>\n",
       "      <td>17000</td>\n",
       "      <td>Tradeflock</td>\n",
       "      <td>Research Analyst</td>\n",
       "    </tr>\n",
       "    <tr>\n",
       "      <th>1</th>\n",
       "      <td>Emp102</td>\n",
       "      <td>Amit</td>\n",
       "      <td>18000</td>\n",
       "      <td>Tech to Review</td>\n",
       "      <td>Analyst</td>\n",
       "    </tr>\n",
       "    <tr>\n",
       "      <th>2</th>\n",
       "      <td>Emp103</td>\n",
       "      <td>Ankush</td>\n",
       "      <td>21000</td>\n",
       "      <td>Software</td>\n",
       "      <td>Developer</td>\n",
       "    </tr>\n",
       "    <tr>\n",
       "      <th>3</th>\n",
       "      <td>Emp104</td>\n",
       "      <td>Manish</td>\n",
       "      <td>16500</td>\n",
       "      <td>Sales</td>\n",
       "      <td>BDA</td>\n",
       "    </tr>\n",
       "    <tr>\n",
       "      <th>4</th>\n",
       "      <td>Emp105</td>\n",
       "      <td>Rajan</td>\n",
       "      <td>17000</td>\n",
       "      <td>Marketing</td>\n",
       "      <td>MRA</td>\n",
       "    </tr>\n",
       "  </tbody>\n",
       "</table>\n",
       "</div>"
      ],
      "text/plain": [
       "  Employee No. Employee Name  Salary  Department No.       Designation\n",
       "0       Emp101       Rajnish   17000      Tradeflock  Research Analyst\n",
       "1       Emp102          Amit   18000  Tech to Review           Analyst\n",
       "2       Emp103        Ankush   21000        Software         Developer\n",
       "3       Emp104        Manish   16500           Sales               BDA\n",
       "4       Emp105         Rajan   17000       Marketing               MRA"
      ]
     },
     "execution_count": 30,
     "metadata": {},
     "output_type": "execute_result"
    }
   ],
   "source": [
    "DataFrame1"
   ]
  },
  {
   "cell_type": "code",
   "execution_count": 31,
   "id": "91734444",
   "metadata": {},
   "outputs": [
    {
     "data": {
      "text/plain": [
       "Department No.\n",
       "Marketing         17000\n",
       "Sales             16500\n",
       "Software          21000\n",
       "Tech to Review    18000\n",
       "Tradeflock        17000\n",
       "Name: Salary, dtype: int64"
      ]
     },
     "execution_count": 31,
     "metadata": {},
     "output_type": "execute_result"
    }
   ],
   "source": [
    "DataFrame1.groupby(['Department No.']).max()['Salary']"
   ]
  },
  {
   "cell_type": "code",
   "execution_count": 32,
   "id": "10871c19",
   "metadata": {},
   "outputs": [
    {
     "data": {
      "text/html": [
       "<div>\n",
       "<style scoped>\n",
       "    .dataframe tbody tr th:only-of-type {\n",
       "        vertical-align: middle;\n",
       "    }\n",
       "\n",
       "    .dataframe tbody tr th {\n",
       "        vertical-align: top;\n",
       "    }\n",
       "\n",
       "    .dataframe thead th {\n",
       "        text-align: right;\n",
       "    }\n",
       "</style>\n",
       "<table border=\"1\" class=\"dataframe\">\n",
       "  <thead>\n",
       "    <tr style=\"text-align: right;\">\n",
       "      <th></th>\n",
       "      <th>Salesperson</th>\n",
       "      <th>Region1</th>\n",
       "      <th>Region2</th>\n",
       "      <th>Region3</th>\n",
       "    </tr>\n",
       "  </thead>\n",
       "  <tbody>\n",
       "    <tr>\n",
       "      <th>0</th>\n",
       "      <td>Dinesh</td>\n",
       "      <td>7800</td>\n",
       "      <td>6500.0</td>\n",
       "      <td>4590.0</td>\n",
       "    </tr>\n",
       "    <tr>\n",
       "      <th>1</th>\n",
       "      <td>Mahesh</td>\n",
       "      <td>8900</td>\n",
       "      <td>NaN</td>\n",
       "      <td>3790.0</td>\n",
       "    </tr>\n",
       "    <tr>\n",
       "      <th>2</th>\n",
       "      <td>Ramesh</td>\n",
       "      <td>10800</td>\n",
       "      <td>2300.0</td>\n",
       "      <td>NaN</td>\n",
       "    </tr>\n",
       "    <tr>\n",
       "      <th>3</th>\n",
       "      <td>Suresh</td>\n",
       "      <td>5600</td>\n",
       "      <td>6790.0</td>\n",
       "      <td>2300.0</td>\n",
       "    </tr>\n",
       "    <tr>\n",
       "      <th>4</th>\n",
       "      <td>Basha</td>\n",
       "      <td>7600</td>\n",
       "      <td>2300.0</td>\n",
       "      <td>2400.0</td>\n",
       "    </tr>\n",
       "  </tbody>\n",
       "</table>\n",
       "</div>"
      ],
      "text/plain": [
       "  Salesperson  Region1  Region2  Region3\n",
       "0      Dinesh     7800   6500.0   4590.0\n",
       "1      Mahesh     8900      NaN   3790.0\n",
       "2      Ramesh    10800   2300.0      NaN\n",
       "3      Suresh     5600   6790.0   2300.0\n",
       "4       Basha     7600   2300.0   2400.0"
      ]
     },
     "execution_count": 32,
     "metadata": {},
     "output_type": "execute_result"
    }
   ],
   "source": [
    "DataFrame3"
   ]
  },
  {
   "cell_type": "code",
   "execution_count": 33,
   "id": "aadec295",
   "metadata": {},
   "outputs": [
    {
     "data": {
      "text/plain": [
       "Salesperson\n",
       "Basha      7600\n",
       "Dinesh     7800\n",
       "Mahesh     8900\n",
       "Ramesh    10800\n",
       "Suresh     5600\n",
       "Name: Region1, dtype: int64"
      ]
     },
     "execution_count": 33,
     "metadata": {},
     "output_type": "execute_result"
    }
   ],
   "source": [
    "DataFrame3.groupby(['Salesperson']).max()['Region1']"
   ]
  },
  {
   "cell_type": "code",
   "execution_count": 72,
   "id": "934e968b",
   "metadata": {},
   "outputs": [
    {
     "data": {
      "text/plain": [
       "Salesperson\n",
       "Basha     2300.0\n",
       "Dinesh    6500.0\n",
       "Mahesh       NaN\n",
       "Ramesh    2300.0\n",
       "Suresh    6790.0\n",
       "Name: Region2, dtype: float64"
      ]
     },
     "execution_count": 72,
     "metadata": {},
     "output_type": "execute_result"
    }
   ],
   "source": [
    "DataFrame3.groupby(['Salesperson']).max()['Region2']"
   ]
  },
  {
   "cell_type": "code",
   "execution_count": 73,
   "id": "22893ec4",
   "metadata": {},
   "outputs": [
    {
     "data": {
      "text/plain": [
       "Salesperson\n",
       "Basha     2400.0\n",
       "Dinesh    4590.0\n",
       "Mahesh    3790.0\n",
       "Ramesh       NaN\n",
       "Suresh    2300.0\n",
       "Name: Region3, dtype: float64"
      ]
     },
     "execution_count": 73,
     "metadata": {},
     "output_type": "execute_result"
    }
   ],
   "source": [
    "DataFrame3.groupby(['Salesperson']).max()['Region3']"
   ]
  },
  {
   "cell_type": "markdown",
   "id": "871deb5e",
   "metadata": {},
   "source": [
    "## Q9. In DataFrame1 created in Q. No. 1, add a new column called Address. In this new column, set the value as ‘Chennai’ for all the existing rows"
   ]
  },
  {
   "cell_type": "code",
   "execution_count": 34,
   "id": "e79ca59f",
   "metadata": {},
   "outputs": [
    {
     "data": {
      "text/html": [
       "<div>\n",
       "<style scoped>\n",
       "    .dataframe tbody tr th:only-of-type {\n",
       "        vertical-align: middle;\n",
       "    }\n",
       "\n",
       "    .dataframe tbody tr th {\n",
       "        vertical-align: top;\n",
       "    }\n",
       "\n",
       "    .dataframe thead th {\n",
       "        text-align: right;\n",
       "    }\n",
       "</style>\n",
       "<table border=\"1\" class=\"dataframe\">\n",
       "  <thead>\n",
       "    <tr style=\"text-align: right;\">\n",
       "      <th></th>\n",
       "      <th>Employee No.</th>\n",
       "      <th>Employee Name</th>\n",
       "      <th>Salary</th>\n",
       "      <th>Department No.</th>\n",
       "      <th>Designation</th>\n",
       "      <th>Address</th>\n",
       "    </tr>\n",
       "  </thead>\n",
       "  <tbody>\n",
       "    <tr>\n",
       "      <th>0</th>\n",
       "      <td>Emp101</td>\n",
       "      <td>Rajnish</td>\n",
       "      <td>17000</td>\n",
       "      <td>Tradeflock</td>\n",
       "      <td>Research Analyst</td>\n",
       "      <td>Chennai</td>\n",
       "    </tr>\n",
       "    <tr>\n",
       "      <th>1</th>\n",
       "      <td>Emp102</td>\n",
       "      <td>Amit</td>\n",
       "      <td>18000</td>\n",
       "      <td>Tech to Review</td>\n",
       "      <td>Analyst</td>\n",
       "      <td>Chennai</td>\n",
       "    </tr>\n",
       "    <tr>\n",
       "      <th>2</th>\n",
       "      <td>Emp103</td>\n",
       "      <td>Ankush</td>\n",
       "      <td>21000</td>\n",
       "      <td>Software</td>\n",
       "      <td>Developer</td>\n",
       "      <td>Chennai</td>\n",
       "    </tr>\n",
       "    <tr>\n",
       "      <th>3</th>\n",
       "      <td>Emp104</td>\n",
       "      <td>Manish</td>\n",
       "      <td>16500</td>\n",
       "      <td>Sales</td>\n",
       "      <td>BDA</td>\n",
       "      <td>Chennai</td>\n",
       "    </tr>\n",
       "    <tr>\n",
       "      <th>4</th>\n",
       "      <td>Emp105</td>\n",
       "      <td>Rajan</td>\n",
       "      <td>17000</td>\n",
       "      <td>Marketing</td>\n",
       "      <td>MRA</td>\n",
       "      <td>Chennai</td>\n",
       "    </tr>\n",
       "  </tbody>\n",
       "</table>\n",
       "</div>"
      ],
      "text/plain": [
       "  Employee No. Employee Name  Salary  Department No.       Designation  \\\n",
       "0       Emp101       Rajnish   17000      Tradeflock  Research Analyst   \n",
       "1       Emp102          Amit   18000  Tech to Review           Analyst   \n",
       "2       Emp103        Ankush   21000        Software         Developer   \n",
       "3       Emp104        Manish   16500           Sales               BDA   \n",
       "4       Emp105         Rajan   17000       Marketing               MRA   \n",
       "\n",
       "   Address  \n",
       "0  Chennai  \n",
       "1  Chennai  \n",
       "2  Chennai  \n",
       "3  Chennai  \n",
       "4  Chennai  "
      ]
     },
     "execution_count": 34,
     "metadata": {},
     "output_type": "execute_result"
    }
   ],
   "source": [
    "DataFrame1['Address'] =DataFrame1.shape[0]*['Chennai']\n",
    "DataFrame1"
   ]
  },
  {
   "cell_type": "markdown",
   "id": "eb8fd059",
   "metadata": {},
   "source": [
    "## Q10. Create a line graph and bar chart to visualize the two data frames, DataFrame1 and DataFrame3."
   ]
  },
  {
   "cell_type": "code",
   "execution_count": 35,
   "id": "13e51746",
   "metadata": {},
   "outputs": [
    {
     "name": "stderr",
     "output_type": "stream",
     "text": [
      "Matplotlib is building the font cache; this may take a moment.\n"
     ]
    },
    {
     "data": {
      "text/plain": [
       "<AxesSubplot:xlabel='Employee Name'>"
      ]
     },
     "execution_count": 35,
     "metadata": {},
     "output_type": "execute_result"
    },
    {
     "data": {
      "image/png": "[encoded data removed]",
      "text/plain": [
       "<Figure size 432x288 with 1 Axes>"
      ]
     },
     "metadata": {
      "needs_background": "light"
     },
     "output_type": "display_data"
    }
   ],
   "source": [
    "import pandas as pd\n",
    "DataFrame1_vis = pd.DataFrame(DataFrame1.groupby([\"Employee Name\"]).mean()[\"Salary\"])\n",
    "DataFrame1_vis.plot()"
   ]
  },
  {
   "cell_type": "code",
   "execution_count": 36,
   "id": "a3fe2821",
   "metadata": {},
   "outputs": [
    {
     "data": {
      "text/plain": [
       "<AxesSubplot:xlabel='Employee Name'>"
      ]
     },
     "execution_count": 36,
     "metadata": {},
     "output_type": "execute_result"
    },
    {
     "data": {
      "image/png": "[encoded data removed]",
      "text/plain": [
       "<Figure size 432x288 with 1 Axes>"
      ]
     },
     "metadata": {
      "needs_background": "light"
     },
     "output_type": "display_data"
    }
   ],
   "source": [
    "DataFrame1_vis.plot.bar()"
   ]
  },
  {
   "cell_type": "code",
   "execution_count": null,
   "id": "201ec0c0",
   "metadata": {},
   "outputs": [],
   "source": []
  }
 ],
 "metadata": {
  "kernelspec": {
   "display_name": "Python 3 (ipykernel)",
   "language": "python",
   "name": "python3"
  },
  "language_info": {
   "codemirror_mode": {
    "name": "ipython",
    "version": 3
   },
   "file_extension": ".py",
   "mimetype": "text/x-python",
   "name": "python",
   "nbconvert_exporter": "python",
   "pygments_lexer": "ipython3",
   "version": "3.9.12"
  }
 },
 "nbformat": 4,
 "nbformat_minor": 5
}
